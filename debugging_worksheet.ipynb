{
 "cells": [
  {
   "cell_type": "markdown",
   "metadata": {},
   "source": [
    "# Debugging Worksheet"
   ]
  },
  {
   "cell_type": "markdown",
   "metadata": {},
   "source": [
    "This worksheet is designed to help you improve your debugging skills. Debugging effectively is an important skill in designing and writing programs, particularly large software projects. This worksheet specifically focuses on debugging in Python, including types of bugs, how to find possible causes of errors, and how to fix and avoid common mistakes in programming.\n",
    "\n",
    "Many of the guidelines and topics in this worksheet are adapted from Allen B. Downey's book [*Think Python*](https://greenteapress.com/wp/think-python-2e/)."
   ]
  },
  {
   "cell_type": "markdown",
   "metadata": {},
   "source": [
    "## Bug Types"
   ]
  },
  {
   "cell_type": "markdown",
   "metadata": {},
   "source": [
    "There are three main types of bugs that you can encounter in Python: syntax errors, exceptions (runtime errors), and semantic errors. We will look at each of these types of bugs in turn."
   ]
  },
  {
   "cell_type": "markdown",
   "metadata": {},
   "source": [
    "### Syntax Errors"
   ]
  },
  {
   "cell_type": "markdown",
   "metadata": {},
   "source": [
    "In programming languages, *syntax* refers to the set of rules about what constitutes a valid statement. As an example from linguistics, a valid (syntactically correct) English sentence needs to start with a capitalized word, end in a period, question mark, or exclamation point, etc. Note that syntax has nothing to do with the correctness of the code itself, or whether the code will even run successfully. [\"Colorless green ideas sleep furiously\"](https://en.wikipedia.org/wiki/Colorless_green_ideas_sleep_furiously) is a valid sentence using the rules of English syntax but doesn't have a widely agreed-upon meaning, and the statement `x += 42` on its own is a valid Python expression but won't execute successfully because `x` does not have a value.\n",
    "\n",
    "When you try to run code in Python, the interpreter checks the text of the code to try to split it into a series of statements that it can then execute. If this process fails, you get a syntax error. Try running the code below:"
   ]
  },
  {
   "cell_type": "code",
   "execution_count": null,
   "metadata": {},
   "outputs": [],
   "source": [
    "print(\"Hello world!\")\n",
    "x = (4, 5"
   ]
  },
  {
   "cell_type": "markdown",
   "metadata": {},
   "source": [
    "As expected, we get a syntax error. Notice that when you get a syntax error, *none* of the code runs, even if the code before the error is fine (like the `print` function call above).\n",
    "\n",
    "It's also important to pay attention to two pieces of information when you get an error: the location of the error, and the error message.\n",
    "\n",
    "The location of the error consists of a file, line number, and position in that line. In the message above, notice that the file is `\"<ipython-input-...>\"` (which is the format for cells in a Jupyter noteook). In a `.py` file, this would be the name of the file itself. The line number tells you where in the file the error occurred, and the caret (`^`) shows you where in the line the error occurred. It's worth noting that the caret will point to the spot where Python *first detects that there must be a syntax error*, not necessarily to the location that needs to be fixed. Take a look at this example:"
   ]
  },
  {
   "cell_type": "code",
   "execution_count": null,
   "metadata": {},
   "outputs": [],
   "source": [
    "x = (1, \n",
    "y = 5"
   ]
  },
  {
   "cell_type": "markdown",
   "metadata": {},
   "source": [
    "Notice that it isn't until `=` that the Python interpreter knows this must be a syntax error - for all it knows, `y` could have been defined and part of a larger expression.\n",
    "\n",
    "The error message can sometimes give you a helpful clue as to what has gone wrong. In the first example above, you should have gotten the error message \"unexpected EOF while parsing\" (EOF stands for *end of file*). This message tells you that as the Python interpreter was scanning to find the end of the tuple, it hit the end of the file.\n",
    "\n",
    "However, sometimes the error message is less helpful: in the second example above, you should have only gotten the message \"invalid syntax\", which provides almost no additional information. As a helpful tip, the message \"invalid syntax\" almost always means that you forgot to close a paired delimiter (i.e., you left out a `)`, `]`, or `}`) or that you left out a colon (`:`) at the end of a statement starting with `if`, `for`, `while`, `with`, etc.\n",
    "\n",
    "Finally, note that in addition to `SyntaxError`, there is another type of syntax error you may encounter: `IndentationError`. You have probably noticed that when you start an `if` or similar statement, end it with a colon, and press Enter, the next line will be indented by 4 spaces. (The actual number of spaces does not matter, as long as you are consistent.) An `IndentationError` indicates that this rule has been violated in some way."
   ]
  },
  {
   "cell_type": "markdown",
   "metadata": {},
   "source": [
    "### Exercise: Syntax Error Specifics"
   ]
  },
  {
   "cell_type": "markdown",
   "metadata": {},
   "source": [
    "The following exercise is designed to help you dig into the details of syntax errors. The hope is that by doing these exercises, you will get a better sense of what is and is not allowed by Python's syntax, and that you will develop an intuition for what mistakes are likely to be the cause of syntax errors."
   ]
  },
  {
   "cell_type": "code",
   "execution_count": null,
   "metadata": {},
   "outputs": [],
   "source": [
    "# Empty on purpose; use this to run test code snippets for the exercise."
   ]
  },
  {
   "cell_type": "markdown",
   "metadata": {},
   "source": [
    "1. a. What error do you get if you add too many closing delimiters (i.e., `)`, `]`, or `}`) to an expression?\n",
    "   \n",
    "   b. Where does the error appear?"
   ]
  },
  {
   "cell_type": "markdown",
   "metadata": {},
   "source": [
    "(your answer goes here)"
   ]
  },
  {
   "cell_type": "markdown",
   "metadata": {},
   "source": [
    "2. a. What error do you expect to get if you forget to close a string?\n",
    "   \n",
    "   b. Now try to write an example line of code and check whether the result matches your expectation. Write why you think the results were as expected or not."
   ]
  },
  {
   "cell_type": "markdown",
   "metadata": {},
   "source": [
    "(your answer goes here)"
   ]
  },
  {
   "cell_type": "markdown",
   "metadata": {},
   "source": [
    "3. Consider an indented block, such as the inside of a `for` loop.\n",
    "   \n",
    "   a. Try indenting a line too much or too little compared to the previous lines. Are the errors the same or different?\n",
    "   \n",
    "   b. Theorize why these errors are the same or different."
   ]
  },
  {
   "cell_type": "markdown",
   "metadata": {},
   "source": [
    "(your answer goes here)"
   ]
  },
  {
   "cell_type": "markdown",
   "metadata": {},
   "source": [
    "4. Write at least three code snippets that result in a different syntax error than the ones you have seen above (either in this exercise or in the explanation of syntax errors). One of them can be an \"invalid syntax\" error but should be substantially different in nature from the previous \"invalid syntax\" errors you have seen. If you include an error like this, explain how it is different from previous errors."
   ]
  },
  {
   "cell_type": "markdown",
   "metadata": {},
   "source": [
    "(your answer goes here)"
   ]
  },
  {
   "cell_type": "markdown",
   "metadata": {},
   "source": [
    "### Exceptions"
   ]
  },
  {
   "cell_type": "markdown",
   "metadata": {},
   "source": [
    "Runtime errors or *exceptions* are errors that occur while code is running. Most non-syntax errors that cause the code to stop running will fall into this category. (As a sidenote, if you have programmed in a language like Java before, there is another set of errors - type errors - that don't happen when code runs in Java, but do happen when code runs in Python.)\n",
    "\n",
    "Exceptions in Python can happen for a large possible number of reasons. When you encounter an exception, the most helpful step is usually to read the error message to understand exactly what happened. That being said, the most common errors are usually `NameError` (the variable or function that you are trying to use has not been defined yet), `AttributeError` (similar to `NameError` but for members of a class), or `TypeError` (you mistakenly tried to do something like add an `int` and a `list`).\n",
    "\n",
    "You can find a complete list of built-in exceptions [here](https://docs.python.org/3/library/exceptions.html#bltin-exceptions). You do not have to be familiar with all of these, but it is helpful to look up exceptions as you run into them and familiarize yourself with what specifically these exceptions mean.\n",
    "\n",
    "If you encounter an exception, there are a number of things you can check that may help you find the bug:\n",
    "\n",
    "* Make sure you didn't make a typo. This is usually quite easy to find - a `NameError` for a name you thought you defined is probably a typo.\n",
    "* Check your types. For example, if you have a list `L`, you usually want to do `L.append(x)` instead of `L.append([x])`. Accidentally inverting your function arguments (for example, calling `foo(\"bar\", 42)` instead of `foo(42, \"bar\")` can cause a variety of exceptions. The [`typing`](https://docs.python.org/3/library/typing.html) module in Python can be very helpful for checking types.\n",
    "* Make sure you have updated your code correctly. For example, if at various points you strip out the first 4 characters of a string like `foo[4:]` and use this in multiple places, make sure that whenever you change this in one place, you change it in others as well. Better yet, define a function or variable for things like this so that you only have to change it in one place."
   ]
  },
  {
   "cell_type": "markdown",
   "metadata": {},
   "source": [
    "### Exercise: Digging into Exceptions"
   ]
  },
  {
   "cell_type": "markdown",
   "metadata": {},
   "source": [
    "This exercise is designed to help you dig into the details of how exceptions happen and how to fix them."
   ]
  },
  {
   "cell_type": "code",
   "execution_count": null,
   "metadata": {},
   "outputs": [],
   "source": [
    "# Empty on purpose; use this to run test code snippets for the exercise."
   ]
  },
  {
   "cell_type": "markdown",
   "metadata": {},
   "source": [
    "1. A common mistake is to try and add an `int` or some other value type and a sequence type like a `list` or `str`. Try a few of these and see what different error messages you can generate. Why might these messages differ for the same mistake?"
   ]
  },
  {
   "cell_type": "markdown",
   "metadata": {},
   "source": [
    "(your answer goes here)"
   ]
  },
  {
   "cell_type": "markdown",
   "metadata": {},
   "source": [
    "2. *Tuple decomposition* or *list decomposition* is the process of breaking a tuple/list into its values and assigning these values to a set of variables, like this:"
   ]
  },
  {
   "cell_type": "code",
   "execution_count": null,
   "metadata": {},
   "outputs": [],
   "source": [
    "example_tuple = (1, 2, 3)\n",
    "a, b, c = example_tuple"
   ]
  },
  {
   "cell_type": "markdown",
   "metadata": {},
   "source": [
    "Try doing this with a few deliberate mistakes and note what errors you get. You can try too many/few items in the tuple, using a different type other than tuples, etc."
   ]
  },
  {
   "cell_type": "markdown",
   "metadata": {},
   "source": [
    "(your answer goes here)"
   ]
  },
  {
   "cell_type": "markdown",
   "metadata": {},
   "source": [
    "3. Take a look at the two sample functions below. The final call of `bar(2, 3)` should work correctly at this point."
   ]
  },
  {
   "cell_type": "code",
   "execution_count": null,
   "metadata": {},
   "outputs": [],
   "source": [
    "def foo(x):\n",
    "    return x + 42\n",
    "\n",
    "def bar(x, y):\n",
    "    return foo(x) * y\n",
    "\n",
    "bar(2, 3)"
   ]
  },
  {
   "cell_type": "markdown",
   "metadata": {},
   "source": [
    "Now try to modify different parts of the code to make an exception occur at each of the three following locations:\n",
    "\n",
    "a. In the body of `foo`.\n",
    "b. In the body of `bar`.\n",
    "c. In the call of `bar(2, 3)`.\n",
    "\n",
    "For each one, describe the change you made, the error you got, and why the error occurs at that location."
   ]
  },
  {
   "cell_type": "markdown",
   "metadata": {},
   "source": [
    "(your answer goes here)"
   ]
  },
  {
   "cell_type": "markdown",
   "metadata": {},
   "source": [
    "### Semantic Errors"
   ]
  },
  {
   "cell_type": "markdown",
   "metadata": {},
   "source": [
    "*Semantic errors* are usually the hardest type of bugs to find and fix. This is because there is usually no exception or other error that indicates that something has gone wrong. The code will run properly but have the wrong result. Here is an example of some code with a semantic error:"
   ]
  },
  {
   "cell_type": "code",
   "execution_count": null,
   "metadata": {},
   "outputs": [],
   "source": [
    "def average(number_list):\n",
    "    \"\"\"\n",
    "    Return the average of a list of integers.\n",
    "    \"\"\"\n",
    "    current_average = 0\n",
    "    for number in number_list:\n",
    "        current_average += number // len(number_list)\n",
    "    return current_average\n",
    "\n",
    "\n",
    "example_list = [1, 2, 3, 4, 5, 6, 7]\n",
    "average(example_list)"
   ]
  },
  {
   "cell_type": "markdown",
   "metadata": {},
   "source": [
    "Notice that this code runs with no issues - but the result is clearly wrong. If we had seen this error in a program intended for wider use, we would probably guess that the error is due to a typo (in this case, the use of `//` rather than `/` causes the bug).\n",
    "\n",
    "Sometimes, though, the bug can be much harder to find, particularly when there is a chain of function calls that occurs, and the bug could be in any of them.\n",
    "\n",
    "**Warning: if you try to run `print_in_order` below without modifying this code, it may run for a very long time.**"
   ]
  },
  {
   "cell_type": "code",
   "execution_count": null,
   "metadata": {},
   "outputs": [],
   "source": [
    "def merge(left, right):\n",
    "        result = []\n",
    "        i = 0\n",
    "        j = 0\n",
    "        while i < len(left) and j < len(right):\n",
    "            if left[i] <= right[j]:\n",
    "                result.append(left[i])\n",
    "                i += 1\n",
    "            else:\n",
    "                result.append(right[j])\n",
    "                j += 1\n",
    "        result.extend(left[i:] or right[j:])\n",
    "        return result\n",
    "\n",
    "    \n",
    "def mergesort(arr):\n",
    "    if len(arr) == 0:\n",
    "        return arr\n",
    "    else:\n",
    "        middle = len(arr) // 2\n",
    "        left = mergesort(arr[:middle])\n",
    "        right = mergesort(arr[middle:])\n",
    "        return merge(left, right)\n",
    "\n",
    "    \n",
    "def print_in_order(arr):\n",
    "    sorted_array = mergesort(arr)\n",
    "    for i in sorted_array:\n",
    "        print(i)"
   ]
  },
  {
   "cell_type": "markdown",
   "metadata": {},
   "source": [
    "It's usually very difficult, if not impossible, to avoid semantic errors entirely, but there are a few things you can do to minimize the risk of encountering one and/or the frustration of fixing one.\n",
    "\n",
    "First, *test early, and test often*. Making sure that each part of your code is working as intended as you write it will minimize what you have to search through to find the bug. Writing good unit tests and running these tests after each significant change is a highly effective way of doing this.\n",
    "\n",
    "Second, *be aware of what each part of a function should be doing*. Ideally, any longer function that you write will be broken into a set of blocks, each of which accomplishes part of what the function does. You should have a fairly precise idea of what each of these blocks do (specifically, their preconditions and postconditions), so that you can easily check that each block is doing what it is supposed to. If a block seems to be meeting its preconditions but not its postconditions, you can be reasonably sure that there is a bug in that block.\n",
    "\n",
    "Finally, if you have to, *know what the function is doing at key steps*. To do this, you can (1) print out helpful information at key points in the function, (2) draw a state diagram and/or a stack diagram of what your function is doing, or (3) use a service like [Python tutor](http://pythontutor.com/) to trace through what your code is doing."
   ]
  },
  {
   "cell_type": "markdown",
   "metadata": {},
   "source": [
    "### Exercise: Fixing Semantic Errors"
   ]
  },
  {
   "cell_type": "markdown",
   "metadata": {},
   "source": [
    "Fix the semantic error in the code above. The function `print_in_order` is supposed to take a list of integers and print out each integer from smallest to largest. You should be able to fix the code by changing as little as one line.\n",
    "\n",
    "You may want to copy the code into a file and run it that way, as interrupting running code in a Jupyter notebook can sometimes be difficult.\n",
    "\n",
    "Once you've fixed the bug, explain what the bug is, why it causes an incorrect result, and how your fix ensures the correct result."
   ]
  },
  {
   "cell_type": "markdown",
   "metadata": {},
   "source": [
    "(your answer goes here)"
   ]
  },
  {
   "cell_type": "markdown",
   "metadata": {},
   "source": [
    "## Exercise: Debugging"
   ]
  },
  {
   "cell_type": "markdown",
   "metadata": {},
   "source": [
    "Below is some code with numerous bugs. Fix any bugs that you find. For each bug, list (1) whether it is a syntax, runtime, or semantic error, (2) why it is this type of bug, and (3) how your change fixes the bug.\n",
    "\n",
    "For testing your code, you should use a limited word list to test your code, as the algorithm used is rather inefficient. (It turns out writing a good spellchecker isn't very easy - see [here](http://norvig.com/spell-correct.html) for a deep dive.)"
   ]
  },
  {
   "cell_type": "code",
   "execution_count": null,
   "metadata": {},
   "outputs": [],
   "source": [
    "import fileinput\n",
    "import math\n",
    "\n",
    "\n",
    "def load_dictionary(dict_file):\n",
    "    \"\"\"\n",
    "    Create and return a \"dictionary\" of valid English words from a word list.\n",
    "    \n",
    "    Note that \"dictionary\" is used here in a linguistic sense, not in the Python sense.\n",
    "    The returned dictionary is actually a set of words, not a dict. The words are assumed\n",
    "    to be in all lowercase and contain no diacritics or non-letter characters.\n",
    "    \n",
    "    Args:\n",
    "        dict_file: the path of the word list file.\n",
    "        \n",
    "    Returns:\n",
    "        A set object containing all of the words in the file.\n",
    "    \"\"\"\n",
    "    word_set = set()\n",
    "    for line in fileinput.input(dict_file):\n",
    "        word_set.add(line.strip()\n",
    "    return word_set\n",
    "\n",
    "\n",
    "def levenshtein(source, target):\n",
    "    \"\"\"\n",
    "    Calculate the Levenshtein distance between source and target strings.\n",
    "    \"\"\"\n",
    "    if source == '' or target == '':\n",
    "        return len(source) or len(target)\n",
    "\n",
    "    elif source[0] == target[0]:\n",
    "        return 1 + levenshtein(source[1:], target[1:])\n",
    "\n",
    "    else:\n",
    "        return 1 + min(levenshtein(source, target[1:]), levensthein(source[1:], target[1:]),\n",
    "                       levenshtein(source[1:], target))\n",
    "\n",
    "\n",
    "def spellcheck(words, dict_file):\n",
    "    \"\"\"\n",
    "    Return a spellcheck for the given set of words. The spellcheck should be case-insensitive\n",
    "    and ignore non-alphabetic words.\n",
    "    \n",
    "    Args:\n",
    "        words: a string of one or more words to spellcheck.\n",
    "        \n",
    "    Returns:\n",
    "        A list of pairs (word, ld) of the closest detected word and the Levenshtein distance\n",
    "        to that word for each word in words (in order).\n",
    "    \"\"\"\n",
    "    dictionary = load_dictionary(dict_file)\n",
    "    spellcheck_pairs = []\n",
    "    for word in words.split():\n",
    "        min_distance = math.inf\n",
    "        spellcheck_word = None\n",
    "        for target_word in dictionary:\n",
    "            distance = levenshtein(word, target_word)\n",
    "            if distance < min_distance:\n",
    "                min_distance = distance\n",
    "                spellcheck_word = target_word\n",
    "            spellcheck_pairs.append((target_word, min_distance))\n",
    "    return spellcheck_pairs"
   ]
  },
  {
   "cell_type": "code",
   "execution_count": null,
   "metadata": {},
   "outputs": [],
   "source": [
    "# Empty on purpose; use this to run test code for the exercise."
   ]
  },
  {
   "cell_type": "markdown",
   "metadata": {},
   "source": [
    "(explanation goes here)"
   ]
  },
  {
   "cell_type": "markdown",
   "metadata": {},
   "source": [
    "## Survey"
   ]
  },
  {
   "cell_type": "markdown",
   "metadata": {},
   "source": [
    "We'd really appreciate your feedback to help us improve future worksheets. Please consider answering the questions below."
   ]
  },
  {
   "cell_type": "markdown",
   "metadata": {},
   "source": [
    "1. How many hours did you spend on this worksheet?"
   ]
  },
  {
   "cell_type": "markdown",
   "metadata": {},
   "source": [
    "(your answer goes here)"
   ]
  },
  {
   "cell_type": "markdown",
   "metadata": {},
   "source": [
    "2. What parts of this worksheet were most helpful to your learning?"
   ]
  },
  {
   "cell_type": "markdown",
   "metadata": {},
   "source": [
    "(your answer goes here)"
   ]
  },
  {
   "cell_type": "markdown",
   "metadata": {},
   "source": [
    "3. What changes could we make to this worksheet that would make it more helpful for your learning?"
   ]
  },
  {
   "cell_type": "markdown",
   "metadata": {},
   "source": [
    "(your answer goes here)"
   ]
  }
 ],
 "metadata": {
  "kernelspec": {
   "display_name": "Python 3",
   "language": "python",
   "name": "python3"
  },
  "language_info": {
   "codemirror_mode": {
    "name": "ipython",
    "version": 3
   },
   "file_extension": ".py",
   "mimetype": "text/x-python",
   "name": "python",
   "nbconvert_exporter": "python",
   "pygments_lexer": "ipython3",
   "version": "3.8.2"
  }
 },
 "nbformat": 4,
 "nbformat_minor": 2
}
