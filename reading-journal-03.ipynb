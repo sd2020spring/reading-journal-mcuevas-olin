{
 "cells": [
  {
   "cell_type": "markdown",
   "metadata": {},
   "source": [
    "# Day 3 Reading Journal\n",
    "\n",
    "This journal includes several required exercises, but it is meant to encourage active reading more generally.  You may use the journal to take detailed notes, catalog questions, and explore the content from Think Python deeply.\n",
    "\n",
    "Reading: Think Python Chapter 8, 10.1-10.6"
   ]
  },
  {
   "cell_type": "markdown",
   "metadata": {},
   "source": [
    "Sequence = ordered collection of other values\n",
    "string is sequence of characters\n",
    "sring[index]\n",
    "index indicates which character in sequence you want - starts at 0, has to be an integer\n",
    "if you do index -1 it returns the last letter, -2 second to last and so on\n",
    "\n",
    "#### len = built in function that returns # of characters in a string -  * however, len-1 = index for the last letter\n",
    "\n",
    "#### Traversal - processing one string at a time, starting at the beginning, select each character in turn, do something to it, and continue until the end\n",
    "\n",
    "you can do this via for and while loop\n",
    "\n",
    "#### String slices\n",
    "segment of a string = slice\n",
    "slice [n:m] returns part of string from \"n-eth\" character to the \"m-eth\" character\n",
    "omit first index (n) - slice starts at beg. of string.\n",
    "omit second index (m) - slice goes to end of string\n",
    "\n",
    "if first index >= second index, result = '' (an empty string -no characters, length 0)\n",
    "\n",
    "#### Strings are immutable - can't change an existing string\n",
    "only create new string that is a variation on the original\n",
    "\n",
    "#### Searching  - traversing a sequence and returning when we find what we are looking for\n",
    "\n",
    "#### Counter- initialized to 0 and increments every time something is fulfilled \n",
    "\n",
    "#### String method - similar to function in that it takes arguments and returns a value, but with different syntax\n",
    "\n",
    "invocation = method call\n",
    "\n",
    "optional argument = an argument that is not necesary to input to be able to run\n",
    "\n",
    "the in operator - takes two stings and returns True if first appears as a substring in the second\n",
    "\n",
    "word < bannanna that means that the word is first when putting in alphabetical order with banana (if it were > bananna, then it would be after bananna if you were putting in alphabetical order)\n",
    "*** caution all upper case letters come before lower case letters\n",
    "\n"
   ]
  },
  {
   "cell_type": "markdown",
   "metadata": {},
   "source": [
    "## [Chapter 8](http://www.greenteapress.com/thinkpython2/html/thinkpython2009.html)\n",
    "\n",
    "Note: the exercise numbers below match up with the reading for ease of cross referencing."
   ]
  },
  {
   "cell_type": "markdown",
   "metadata": {},
   "source": [
    "### Chapter 8.3  \n",
    "\n",
    "Write a function that takes a string as an argument and displays the letters backward, one per line."
   ]
  },
  {
   "cell_type": "code",
   "execution_count": 3,
   "metadata": {},
   "outputs": [
    {
     "name": "stdout",
     "output_type": "stream",
     "text": [
      "o\n",
      "l\n",
      "l\n",
      "e\n",
      "h\n"
     ]
    }
   ],
   "source": [
    "def backwards_line_per_line(s):\n",
    "    i=1\n",
    "    while i<=len(s):\n",
    "        print(s[len(s)-i])\n",
    "        i = i+1\n",
    "backwards_line_per_line('hello')"
   ]
  },
  {
   "cell_type": "markdown",
   "metadata": {},
   "source": [
    "### Chapter 8.4\n",
    "\n",
    "Write a function that translates words into [Pig Latin](https://en.wikipedia.org/wiki/Pig_Latin). You need not handle special cases like vowels."
   ]
  },
  {
   "cell_type": "code",
   "execution_count": 10,
   "metadata": {},
   "outputs": [
    {
     "name": "stdout",
     "output_type": "stream",
     "text": [
      "Finding tests in NoName\n",
      "Trying:\n",
      "    pig_latin(\"software\")\n",
      "Expecting:\n",
      "    'oftwaresay'\n",
      "ok\n"
     ]
    }
   ],
   "source": [
    "def pig_latin(word):\n",
    "    \"\"\"\n",
    "    Return given 'word' translated into Pig Latin\n",
    "    \n",
    "    >>> pig_latin(\"software\")\n",
    "    'oftwaresay'\n",
    "    \"\"\"\n",
    "    return word[1:]+ word[0]+'ay'\n",
    "#TODO: Implement me\n",
    "\n",
    "# Running doctests in Jupyter notebook:\n",
    "# If you'd like to actually run the doctests here, you can uncomment the lines below.\n",
    "# We use this slightly more complex method to test only the pig_latin function, without running tests on any other functions that may be in this notebook.\n",
    "# If all tests pass, you will see no output (you can change that by setting verbose to True) \n",
    "\n",
    "import doctest\n",
    "doctest.run_docstring_examples(pig_latin, globals(), verbose=True)"
   ]
  },
  {
   "cell_type": "markdown",
   "metadata": {},
   "source": [
    "### Chapter 8.7\n",
    "Encapsulate the character counting code in a fruitful function named `count` that accepts the string and the letter as arguments and returns the count."
   ]
  },
  {
   "cell_type": "code",
   "execution_count": 6,
   "metadata": {},
   "outputs": [
    {
     "name": "stdout",
     "output_type": "stream",
     "text": [
      "test_count\n"
     ]
    }
   ],
   "source": [
    "def count(word,counting_letter):\n",
    "    counter = 0\n",
    "    for letter in word:\n",
    "        if letter == counting_letter:\n",
    "            counter = counter+1\n",
    "    return counter\n",
    "test_count = count('alejandra','a')\n",
    "print('test_count')"
   ]
  },
  {
   "cell_type": "markdown",
   "metadata": {},
   "source": [
    "### Exercise 8.1\n",
    "Skim the documentation of the Python [string methods](http://docs.python.org/3/library/stdtypes.html#string-methods). Play with them to make sure you understand how they work-- strip, replace, and upper/lower are particularly useful. Show us some of your experiments."
   ]
  },
  {
   "cell_type": "code",
   "execution_count": 21,
   "metadata": {},
   "outputs": [
    {
     "name": "stdout",
     "output_type": "stream",
     "text": [
      "6\n",
      "asdfas\n",
      "asefasejkl\n",
      "...awerasg\n",
      "ADSFFEADSGG\n",
      "asdfawsawerewrgasdf\n"
     ]
    }
   ],
   "source": [
    "test_find = 'asdfasdjkl'.find('djk')\n",
    "print(test_find)\n",
    "test_find_cont = 'asdfasdjkl'[:test_find]\n",
    "print(test_find_cont)\n",
    "test_replace = 'asdfasdjkl'.replace('d','e')\n",
    "print(test_replace)\n",
    "test_strip = '   asdf...awerasg'.strip('adsf ')\n",
    "print(test_strip)\n",
    "test_upper = 'adsfFeadsgG'.upper()\n",
    "print(test_upper)\n",
    "test_lower = 'asdfawSAWEREWRGasdf'.lower()\n",
    "print(test_lower)"
   ]
  },
  {
   "cell_type": "markdown",
   "metadata": {},
   "source": [
    "### Exercise 8.4  \n",
    "\n",
    "The following functions are all intended to check whether a string contains any lowercase letters, but at least some of them are wrong. For each function, describe what the function actually does (assuming that the parameter ```s``` is a string)."
   ]
  },
  {
   "cell_type": "code",
   "execution_count": 22,
   "metadata": {},
   "outputs": [],
   "source": [
    "def any_lowercase1(s):\n",
    "    for c in s:\n",
    "        if c.islower():\n",
    "            return True\n",
    "        else:\n",
    "            return False"
   ]
  },
  {
   "cell_type": "markdown",
   "metadata": {},
   "source": [
    "it returns whether or not the first letter is upper or lowercase"
   ]
  },
  {
   "cell_type": "markdown",
   "metadata": {},
   "source": [
    " "
   ]
  },
  {
   "cell_type": "code",
   "execution_count": 23,
   "metadata": {},
   "outputs": [],
   "source": [
    "def any_lowercase2(s):\n",
    "    for c in s:\n",
    "        if 'c'.islower():\n",
    "            return 'True'\n",
    "        else:\n",
    "            return 'False'"
   ]
  },
  {
   "cell_type": "markdown",
   "metadata": {},
   "source": [
    "this will always return true b/c it asks if 'c' is lowercase which it always is"
   ]
  },
  {
   "cell_type": "markdown",
   "metadata": {},
   "source": [
    " "
   ]
  },
  {
   "cell_type": "code",
   "execution_count": null,
   "metadata": {
    "collapsed": true
   },
   "outputs": [],
   "source": [
    "def any_lowercase3(s):\n",
    "    for c in s:\n",
    "        flag = c.islower()\n",
    "    return flag"
   ]
  },
  {
   "cell_type": "markdown",
   "metadata": {},
   "source": [
    "it returns if the last letter in s is lower or not"
   ]
  },
  {
   "cell_type": "markdown",
   "metadata": {},
   "source": [
    " "
   ]
  },
  {
   "cell_type": "code",
   "execution_count": null,
   "metadata": {
    "collapsed": true
   },
   "outputs": [],
   "source": [
    "def any_lowercase4(s):\n",
    "    flag = False\n",
    "    for c in s:\n",
    "        flag = flag or c.islower()\n",
    "    return flag"
   ]
  },
  {
   "cell_type": "markdown",
   "metadata": {},
   "source": [
    "this does return if any letters in c are lower case"
   ]
  },
  {
   "cell_type": "markdown",
   "metadata": {},
   "source": [
    " "
   ]
  },
  {
   "cell_type": "code",
   "execution_count": null,
   "metadata": {
    "collapsed": true
   },
   "outputs": [],
   "source": [
    "def any_lowercase5(s):\n",
    "    for c in s:\n",
    "        if not c.islower():\n",
    "            return False\n",
    "    return True"
   ]
  },
  {
   "cell_type": "markdown",
   "metadata": {},
   "source": [
    "this will say it is all in lower case, if there is a singular upper case letter, then it is false\n"
   ]
  },
  {
   "cell_type": "markdown",
   "metadata": {},
   "source": [
    " "
   ]
  },
  {
   "cell_type": "markdown",
   "metadata": {},
   "source": [
    "## [Chapter 10.1 - 10.6](http://www.greenteapress.com/thinkpython2/html/thinkpython2011.html)\n",
    "\n",
    "You may want to review [state diagrams in Chapter 2](http://www.greenteapress.com/thinkpython2/html/thinkpython2003.html#toc13).\n",
    "\n"
   ]
  },
  {
   "cell_type": "markdown",
   "metadata": {},
   "source": [
    "List= a sequence of values\n",
    "values in a list = elements (or sometimes) items\n",
    "nested list = a list within another list\n",
    "empty list = a list with no elements\n",
    "\n",
    "Lists are mutable - they can be changed\n",
    "\n",
    "list indexes work same way as string indexes: \n",
    "    any integer expression can be used as an index\n",
    "    get IndexError if you try to read or write an element that does not exist\n",
    "    If index has a negative value, it counts backwards from end of the list.\n",
    "    \n",
    "    in operator also works on lists\n",
    "   \n",
    "traversing a list - most common with a for loop, syntax same for stings, can also combine range and len functions to keep track of the index\n",
    "\n",
    "list operations :\n",
    " + operator + concatenates lists\n",
    " * operator * repeats a list a given amount of times\n",
    " \n",
    "slice operator also works on lists\n",
    "\n",
    "list methods:\n",
    "append adds a new element to the end of a list \n",
    "extend takes a list as an agrument and appends all of the elements\n",
    "sort arranges the elements of the list from low to high\n",
    "\n",
    "most list methods are void- they modify the list and return None \n",
    "\n",
    "#### Map, filter, and reduce\n",
    "\n",
    "augmented assinment statement total += x is equivalent to total = total + x\n",
    "\n",
    "variable that combines a sequence of elements into a single value is sometimes called reduce.\n",
    "\n",
    "map functions \"map\" a function onto each of the elements in a sequence\n",
    "\n",
    "filter operations= select some of the elements and filter out the others\n",
    "\n",
    "#### Deleting elements\n",
    "\n",
    "   pop modifies the list and returns the element that was removed\n",
    "   \n",
    "   with no index provided it deletes and returns the last element\n",
    "   \n",
    " if you don't need the removed value, can just use the del operator\n",
    " \n",
    " if you the element, but not the index, use remove - return value from remove is None\n",
    " \n",
    " if you want to remove more than one element you can use del with a slice index\n",
    " \n",
    " #### Lists and Strings\n",
    " \n",
    " to convert from string to list of characters use list()\n",
    "     - that breaks it into individual letters\n",
    "     \n",
    " to break up words - use split method\n",
    " \n",
    " optional argument called delimiter specifies which characters to use as word boundaries \n",
    " \n",
    " join is inverse of split - takes list of strings and concatenates the elements\n",
    " \n",
    "   * b/c it is a string method, you have to invoke it on the delimiter, and pass the list as a parameter\n",
    " if you want to concatenate strings w/o spaces, use empty string'' as delimiter\n",
    " \n",
    " #### Objects and values\n",
    " \n",
    " to see if two variables refer to same object, you can use the is operator\n",
    "\n",
    "when you create two lists, you get two objects\n",
    "the two lists are equivalent - b/c they have the same elements, but not identical - b/c not same object\n",
    "\n",
    "#### Aliasing \n",
    "is a refers to an object and you assign b=a, then both variables refer to the same object\n",
    "\n",
    "reference = assosiation of a variable with an object\n",
    "\n",
    "an object is aliased- when an object has more than one reference, and therefore more than one name.\n",
    "\n",
    "if the aliased object is mutable, changes made with one alias affect the other\n",
    " \n",
    "it is generally safer to avoid aliasing when working with mutable objects\n",
    "\n",
    "#### List arguments\n",
    "when pss list to a function, function gets a reference to the list. \n",
    "so if the function modifies the list, the caller sees the change\n",
    "\n",
    "IMPORTANT to distinguish between operations that modify lists vs create new lists \n",
    "\n",
    "ex: append method modifies a list, but + operator creates a new list\n",
    "\n",
    "#### Tips for Debugging\n",
    "\n",
    "remember - most lists modify the argument and return None.\n",
    "pick an idiom and stick to it (there are just way too many ways to do things with lists)\n",
    "make copies to avoid aliasing\n"
   ]
  },
  {
   "cell_type": "markdown",
   "metadata": {},
   "source": [
    "**Quick check:** What type of items can be placed in a list?"
   ]
  },
  {
   "cell_type": "markdown",
   "metadata": {},
   "source": [
    "any data can be into a list"
   ]
  },
  {
   "cell_type": "markdown",
   "metadata": {},
   "source": [
    "**Quick check:** Give at least one similarity and one difference between lists and strings."
   ]
  },
  {
   "cell_type": "markdown",
   "metadata": {},
   "source": [
    "one similarity is that they are both made up of a combination of elements\n",
    "\n",
    "one difference is that strings can only be made up of characters, meanwhile lists can contain much more than just characters."
   ]
  },
  {
   "cell_type": "markdown",
   "metadata": {},
   "source": [
    "### Exercise 10.4  \n",
    "Write a function called `middle` that takes a list and returns a new list that contains all but the first and last elements. So `middle([1,2,3,4])` should return `[2,3]`."
   ]
  },
  {
   "cell_type": "code",
   "execution_count": 28,
   "metadata": {},
   "outputs": [
    {
     "name": "stdout",
     "output_type": "stream",
     "text": [
      "Finding tests in NoName\n",
      "Trying:\n",
      "    middle([1, 2, 3, 4])\n",
      "Expecting:\n",
      "    [2, 3]\n",
      "ok\n"
     ]
    }
   ],
   "source": [
    "def middle(t):\n",
    "    \"\"\"Return all but the first and last elements of list t.\n",
    "    \n",
    "    >>> middle([1, 2, 3, 4])\n",
    "    [2, 3]\n",
    "    \"\"\"\n",
    "    return t[1:-1]\n",
    "\n",
    "\n",
    "import doctest\n",
    "doctest.run_docstring_examples(middle, globals(),verbose= True)"
   ]
  },
  {
   "cell_type": "markdown",
   "metadata": {},
   "source": [
    "### Exercise\n",
    "\n",
    "Write a Python function named `average` that takes a list of numbers and returns their arithmetic mean. Include at least one unit test."
   ]
  },
  {
   "cell_type": "code",
   "execution_count": 31,
   "metadata": {},
   "outputs": [
    {
     "name": "stdout",
     "output_type": "stream",
     "text": [
      "Finding tests in NoName\n",
      "Trying:\n",
      "    average([2,5,6,8])\n",
      "Expecting:\n",
      "    5.25\n",
      "ok\n"
     ]
    }
   ],
   "source": [
    "def average(list_of_numbers):\n",
    "    \"\"\" Takes a list of numbers and returns their arithmetic mean\n",
    "    >>> average([2,5,6,8])\n",
    "    5.25\n",
    "    \"\"\"\n",
    "    average = 0\n",
    "    for i in range(len(list_of_numbers)):\n",
    "        average += list_of_numbers[i];\n",
    "    average = average/len(list_of_numbers)\n",
    "    return average\n",
    "import doctest\n",
    "doctest.run_docstring_examples(average, globals(),verbose= True)"
   ]
  },
  {
   "cell_type": "markdown",
   "metadata": {},
   "source": [
    "# Supplementary Reading\n",
    "Read [Holding a Program in One's Head](http://paulgraham.com/head.html). _Note: This 2007 piece has useful insights about programming but refers to the programmer throughout as “he” - please mentally replace with “they” or your favorite gender-nonspecific pronoun._\n",
    "\n",
    "From the list of bullet points:\n",
    "\n",
    "1\\. Is there one that you already apply to any activities in your life? Name the bullet point, and describe the area where you apply it."
   ]
  },
  {
   "cell_type": "markdown",
   "metadata": {},
   "source": [
    "work in long streches\n",
    "      for me, especially when it comes to doing homework such as math or coding, I find it incredibly useful to be able to sit down and just work on one subject. I find that I am much more efficient and effective if I am able to just focus on that one thing instead of moving from one subject to another."
   ]
  },
  {
   "cell_type": "markdown",
   "metadata": {},
   "source": [
    "2\\. Is there a point that you haven't applied but would like to?"
   ]
  },
  {
   "cell_type": "markdown",
   "metadata": {},
   "source": [
    "maybe the using succienct languages- but more specifically the bottom up style of programing "
   ]
  },
  {
   "cell_type": "markdown",
   "metadata": {},
   "source": [
    "3\\. Is there a point that you don't believe in, don't believe can apply in this course, or doesn't make sense to you? If so, name the bullet point and briefly describe why."
   ]
  },
  {
   "cell_type": "markdown",
   "metadata": {},
   "source": [
    "dont have multiple people editing the same piece of code.\n",
    "personally, if there is a bug that is incredibly hard to work out, or there is a specific part of the code that just isnt working out the way that you want it to, I find it incredibly helpful to work with other people to try and make it work. Sometimes people get stuck, and it becomes necesary to have multiple people editing the same piece of code."
   ]
  },
  {
   "cell_type": "markdown",
   "metadata": {},
   "source": [
    "## Time check\n",
    "Think about how long you spent working on this Reading Journal - remember to avoid spending too much time in one sitting?"
   ]
  },
  {
   "cell_type": "markdown",
   "metadata": {},
   "source": [
    "1 hour and 52 min"
   ]
  },
  {
   "cell_type": "markdown",
   "metadata": {},
   "source": [
    "## Getting unstuck\n",
    "\n",
    "If you have Python questions or run into problems while completing the reading, you should post them to the course discussion forum instead so you can get a quick response before your journal is submitted."
   ]
  },
  {
   "cell_type": "markdown",
   "metadata": {},
   "source": []
  },
  {
   "cell_type": "markdown",
   "metadata": {},
   "source": [
    " "
   ]
  }
 ],
 "metadata": {
  "anaconda-cloud": {},
  "kernelspec": {
   "display_name": "Python 3",
   "language": "python",
   "name": "python3"
  },
  "language_info": {
   "codemirror_mode": {
    "name": "ipython",
    "version": 3
   },
   "file_extension": ".py",
   "mimetype": "text/x-python",
   "name": "python",
   "nbconvert_exporter": "python",
   "pygments_lexer": "ipython3",
   "version": "3.6.9"
  }
 },
 "nbformat": 4,
 "nbformat_minor": 1
}
