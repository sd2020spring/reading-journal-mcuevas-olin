{
 "cells": [
  {
   "cell_type": "markdown",
   "metadata": {},
   "source": [
    "# Day 1 Reading Journal\n",
    "\n",
    "These are the exercises for the first set of readings from [_Think Python_](http://greenteapress.com/wp/think-python-2e/).  While this journal consists of several required exercises, it is meant to encourage active reading more generally.  You should use this journal to take detailed notes, catalog questions, and explore the content from Think Python deeply.\n",
    "\n",
    "For more information on using the Jupyter notebook, check out the documentation [here](https://www.datacamp.com/community/tutorials/tutorial-jupyter-notebook##UseJupyter).\n",
    "\n",
    "Additionally, in order to write text in this document, you will be making use of Markdown cells. A handy cheatsheet for Markdown is available [here](https://github.com/adam-p/markdown-here/wiki/Markdown-Cheatsheet).\n",
    "\n",
    "Reading: _Think Python_ chapters 1-3. _Think Python_ [chapter 5](http://greenteapress.com/thinkpython2/html/thinkpython2006.html), sections 5.2-5.7.\n",
    "\n",
    "**Before you begin**: Please log the amount of time you spend on the readings and on this reading journal. One of this last questions in this notebook asks for this."
   ]
  },
  {
   "cell_type": "markdown",
   "metadata": {},
   "source": [
    "# Course Policies\n",
    "What is the maximum amount of time you should spend on a reading journal before asking for help?"
   ]
  },
  {
   "cell_type": "markdown",
   "metadata": {},
   "source": [
    "90 min"
   ]
  },
  {
   "cell_type": "markdown",
   "metadata": {},
   "source": [
    "Can you get credit for a late reading journal?"
   ]
  },
  {
   "cell_type": "markdown",
   "metadata": {},
   "source": [
    "No"
   ]
  },
  {
   "cell_type": "markdown",
   "metadata": {},
   "source": [
    "How many reading journals can you turn in late without penalty?"
   ]
  },
  {
   "cell_type": "markdown",
   "metadata": {},
   "source": [
    "1"
   ]
  },
  {
   "cell_type": "markdown",
   "metadata": {},
   "source": [
    "Is it okay to use external sources? If so, what do you need to do in order to do this?"
   ]
  },
  {
   "cell_type": "markdown",
   "metadata": {},
   "source": [
    "Yes, but you cite it."
   ]
  },
  {
   "cell_type": "markdown",
   "metadata": {},
   "source": [
    "## Chapter 1\n",
    "Note: the exercise numbers below match up with the reading for ease of cross referencing."
   ]
  },
  {
   "cell_type": "markdown",
   "metadata": {},
   "source": [
    "Python interpreter program that reads and executes python code\n",
    "\n",
    "Last line = prompt\n",
    "\n",
    "value = one of basic things code works with\n",
    " different types such as integer, floating point, and string\n",
    " class  is used as a type of category\n",
    "\n",
    "natural language = used for normal speaking\n",
    "formal = developed for a specific purpose \n",
    " figure out syntax rules, in both tokens (basic) and structure(figuring it out is called parsing)\n",
    " \n",
    " diff include : ambiguity formal (lots) natural (almost none); redundancy: formal(not much) natural (a lot); literalness : formal (all) natural(not as much)\n",
    " \n",
    " kinda like prose vs poetry\n",
    " \n",
    " debugging= finding programming errors (bugs)\n",
    " \n",
    " \n"
   ]
  },
  {
   "cell_type": "markdown",
   "metadata": {},
   "source": [
    "### Exercise 1.2\n",
    "\n",
    "Use a Jupyter notebook as a simple calculator. Enter into each of the following cells a Python expression that calculates the answer to each of the following questions.\n",
    "\n",
    "* [Example] How many seconds are there in 42 minutes?"
   ]
  },
  {
   "cell_type": "code",
   "execution_count": 2,
   "metadata": {},
   "outputs": [
    {
     "data": {
      "text/plain": [
       "3120000"
      ]
     },
     "execution_count": 2,
     "metadata": {},
     "output_type": "execute_result"
    }
   ],
   "source": [
    "52 * 60 *1000"
   ]
  },
  {
   "cell_type": "markdown",
   "metadata": {},
   "source": [
    "* How many seconds are there in 42 minutes 42 seconds?"
   ]
  },
  {
   "cell_type": "code",
   "execution_count": 1,
   "metadata": {},
   "outputs": [
    {
     "data": {
      "text/plain": [
       "2562"
      ]
     },
     "execution_count": 1,
     "metadata": {},
     "output_type": "execute_result"
    }
   ],
   "source": [
    "(42*60)+42"
   ]
  },
  {
   "cell_type": "markdown",
   "metadata": {},
   "source": [
    "* How many miles are there in 10 kilometers? Hint: there are 1.61 kilometers in a mile."
   ]
  },
  {
   "cell_type": "code",
   "execution_count": 2,
   "metadata": {},
   "outputs": [
    {
     "data": {
      "text/plain": [
       "6.211180124223602"
      ]
     },
     "execution_count": 2,
     "metadata": {},
     "output_type": "execute_result"
    }
   ],
   "source": [
    "10/1.61"
   ]
  },
  {
   "cell_type": "markdown",
   "metadata": {},
   "source": [
    "* If you run a 10 kilometer race in 42 minutes 42 seconds, what is your average pace (time per mile in minutes and seconds)? What is your average speed in miles per hour?"
   ]
  },
  {
   "cell_type": "code",
   "execution_count": 2,
   "metadata": {},
   "outputs": [
    {
     "name": "stdout",
     "output_type": "stream",
     "text": [
      "average pace is  6.0 minutes and  52.48200000000003 seconds\n",
      "average speed is 8.727653570337614 mph\n"
     ]
    }
   ],
   "source": [
    "seconds_ran = (42*60)+42;\n",
    "miles_ran = 10/1.61;\n",
    "average_pace_seconds = seconds_ran/miles_ran;\n",
    "average_pace_remainder = average_pace_seconds%60;\n",
    "average_pace_min = (average_pace_seconds-average_pace_remainder)/60;\n",
    "print('average pace is ',average_pace_min,'minutes and ', average_pace_remainder, 'seconds')\n",
    "\n",
    "average_speed = miles_ran/(seconds_ran/3600);\n",
    "print('average speed is', average_speed,'mph')"
   ]
  },
  {
   "cell_type": "markdown",
   "metadata": {},
   "source": [
    "## Chapter 2\n",
    "\n",
    "### Question 1\n",
    "\n",
    "_Think Python_ defines *interactive mode* and *script mode*. Is the Python code that runs in a Jupyter notebook, using interactive mode or script mode? Enter your answer in the cell below."
   ]
  },
  {
   "cell_type": "markdown",
   "metadata": {},
   "source": [
    "I would say that the python code in the jupyter notebook would be script mode as you can write as much code as you would like, and then it would run the entire thing when you tell it to."
   ]
  },
  {
   "cell_type": "markdown",
   "metadata": {},
   "source": [
    "assign statement creates new var and gives value\n",
    "\n",
    "state diagram writes name w/ arrow pointing to value\n",
    "\n",
    "variable names - make sure they are good, representative, and follow syntax rules (and are not any keywords- such as and class if as is while...)\n",
    "\n",
    "expression = comb of values variable and operators\n",
    "\n",
    "statement = code that has an effect- like creating variable or displaying value\n",
    "\n",
    "executing code = doing whatever the code says\n",
    "\n",
    "interactive mode = interact directly with interpreter;\n",
    "other option is to save code in file called scrpit and run in\n",
    "script mode to execute.\n",
    "\n",
    "order of operations remains the same- pemdas\n",
    "\n",
    "\n",
    "strings : no mathematical operations on strings except:\n",
    "\n",
    "use + for string concatination - joining strings together\n",
    "use * to repeat a string ex 'spam'*3 = 'spamspamspam'\n",
    "\n",
    "comments = notes to explain what code is doing&/or why use #\n",
    "\n",
    "debugging: \n",
    "    syntax error: structure of program and rules about said structure - if syntax error, python displays error message and quites\n",
    "    \n",
    "     runtime error: does not appear until after program has started running. also called exceptions b/c indicate that something execeptional/bad has occurred.\n",
    "     \n",
    "     semantic error: related to meaning\n",
    "     will run w/o generating error, but will not do the right thing.\n",
    "\n"
   ]
  },
  {
   "cell_type": "markdown",
   "metadata": {},
   "source": [
    "### Exercise 1\n",
    "\n",
    "Is each of the following Python statements a *syntax error*, a *runtime error*, a *semantic error*, or *correct*?\n",
    "\n",
    "For each question, use the first (code) cell to run the program. Enter your answer into the second (Markdown) cell."
   ]
  },
  {
   "cell_type": "code",
   "execution_count": 1,
   "metadata": {
    "scrolled": true
   },
   "outputs": [
    {
     "ename": "SyntaxError",
     "evalue": "can't assign to literal (<ipython-input-1-f0c37ed646fc>, line 1)",
     "output_type": "error",
     "traceback": [
      "\u001b[0;36m  File \u001b[0;32m\"<ipython-input-1-f0c37ed646fc>\"\u001b[0;36m, line \u001b[0;32m1\u001b[0m\n\u001b[0;31m    42 = n\u001b[0m\n\u001b[0m          ^\u001b[0m\n\u001b[0;31mSyntaxError\u001b[0m\u001b[0;31m:\u001b[0m can't assign to literal\n"
     ]
    }
   ],
   "source": [
    "42 = n"
   ]
  },
  {
   "cell_type": "code",
   "execution_count": null,
   "metadata": {
    "collapsed": true
   },
   "outputs": [],
   "source": []
  },
  {
   "cell_type": "markdown",
   "metadata": {},
   "source": [
    "* Set `x` and `y` each to the value `1`:"
   ]
  },
  {
   "cell_type": "code",
   "execution_count": 4,
   "metadata": {},
   "outputs": [
    {
     "name": "stdout",
     "output_type": "stream",
     "text": [
      "1\n",
      "1\n"
     ]
    }
   ],
   "source": [
    "x = y = 1\n",
    "print(x)\n",
    "print(y)"
   ]
  },
  {
   "cell_type": "markdown",
   "metadata": {},
   "source": [
    "correct"
   ]
  },
  {
   "cell_type": "markdown",
   "metadata": {},
   "source": [
    "* Set `x` and `y` each to the value `2`:"
   ]
  },
  {
   "cell_type": "code",
   "execution_count": null,
   "metadata": {
    "collapsed": true
   },
   "outputs": [],
   "source": [
    "x = y = 1"
   ]
  },
  {
   "cell_type": "markdown",
   "metadata": {},
   "source": [
    "semantic error"
   ]
  },
  {
   "cell_type": "markdown",
   "metadata": {},
   "source": [
    "* Multiply `x` and `y`:"
   ]
  },
  {
   "cell_type": "code",
   "execution_count": null,
   "metadata": {
    "collapsed": true
   },
   "outputs": [],
   "source": [
    "x y"
   ]
  },
  {
   "cell_type": "markdown",
   "metadata": {},
   "source": [
    "syntax error"
   ]
  },
  {
   "cell_type": "markdown",
   "metadata": {},
   "source": [
    "### Exercise 2.2\n",
    "\n",
    "Practice using the Python interpreter as a calculator.  For each of these provide Python code that computes each answer."
   ]
  },
  {
   "cell_type": "markdown",
   "metadata": {},
   "source": [
    "The volume of a sphere with radius r is $4/3 \\pi  r^3$. What is the volume of a sphere with radius 5?\n",
    "\n",
    "You can approximate pi with 3.14 or import it through the [Python math library](https://docs.python.org/3/library/math.html#constants). (`import` is covered in [Chapter 3.2](http://greenteapress.com/thinkpython2/html/thinkpython2004.html#sec28).)"
   ]
  },
  {
   "cell_type": "code",
   "execution_count": 7,
   "metadata": {
    "scrolled": true
   },
   "outputs": [
    {
     "name": "stdout",
     "output_type": "stream",
     "text": [
      "volume is 523.3333333333334\n"
     ]
    }
   ],
   "source": [
    "volume = 4/3*3.14*5**3\n",
    "print('volume is', volume)"
   ]
  },
  {
   "cell_type": "markdown",
   "metadata": {},
   "source": [
    "Suppose the cover price of a book is \\\\$24.95, but bookstores get a 40% discount. Shipping costs \\\\$3 for the first copy and 75 cents for each additional copy. What is the total wholesale cost for 60 copies?"
   ]
  },
  {
   "cell_type": "code",
   "execution_count": 9,
   "metadata": {},
   "outputs": [
    {
     "name": "stdout",
     "output_type": "stream",
     "text": [
      "total wholesale cost is 945.4499999999999 dollars\n"
     ]
    }
   ],
   "source": [
    "cost = 60*(24.95*.6+.75)+2.25\n",
    "print('total wholesale cost is', cost, 'dollars')"
   ]
  },
  {
   "cell_type": "markdown",
   "metadata": {},
   "source": [
    "If I leave my house at 6:52 am and run 1 mile at an easy pace (8:15 per mile), then 3 miles at tempo (7:12 per mile) and 1 mile at easy pace again, what time do I get home for breakfast? "
   ]
  },
  {
   "cell_type": "code",
   "execution_count": 10,
   "metadata": {},
   "outputs": [
    {
     "name": "stdout",
     "output_type": "stream",
     "text": [
      "you would get home by 7.0 : 30.0 and 6 seconds\n"
     ]
    }
   ],
   "source": [
    "run_time_seconds = 15+12*3+15 + 60*(8+3*7+8+52);\n",
    "remainder_nothours= run_time_seconds%3600;\n",
    "hours = (run_time_seconds-remainder_nothours)/3600 + 6;\n",
    "remainder_notminutes = remainder_nothours%60;\n",
    "minutes = (remainder_nothours-remainder_notminutes)/60;\n",
    "seconds = remainder_notminutes;\n",
    "print('you would get home by', hours,':',minutes,'and',seconds, 'seconds')\n",
    "\n",
    "time_minutes = 52+8+7*3+8;"
   ]
  },
  {
   "cell_type": "markdown",
   "metadata": {},
   "source": [
    "## Chapter 3"
   ]
  },
  {
   "cell_type": "markdown",
   "metadata": {},
   "source": [
    "function = named sequence of statements that perform a computation;\n",
    " when define - specify name and sequence\n",
    " later call (do a function call) to use/ do the function\n",
    " \n",
    "for function call ex asdf\n",
    "argument= input; asdf = function name; return_value = output\n",
    "return_value = asdf(argument);\n",
    "\n",
    "ex of function int() converts to integer, float() to floating point, str() to string;\n",
    "\n",
    "#### Module = file that contains collection of related functions;\n",
    "    to use, import w/ import statement\n",
    "    ex: import math\n",
    "    creates a module object named math\n",
    "    \n",
    "    to access one of functions, name_module.name_function\n",
    "        this is called dot notation\n",
    "#### Composition - combining all the different tools- is important and useful!\n",
    "\n",
    "function definition specifies name of new function and sequence of statements that run when function is called.\n",
    "\n",
    "header = first line of function definition\n",
    "body = rest of function\n",
    "\n",
    "function object = what is created when you define an object;\n",
    "\n",
    "must define stuff before you use it\n",
    "\n",
    "#### Flow of execution - order statements run in - YOU SHOULD KNOW THIS\n",
    "because functions can call other functions, sometimes it is better to read code from the flow of execution instead of from top- bottom;\n",
    " \n",
    "#### parameters and arguments\n",
    "inside function- arguments are assigned to variables called parameters\n",
    "\n",
    "can assign a variable as an arguement\n",
    "\n",
    "#### When you create variable inside a function, it is LOCAL - only exists inside the function\n",
    "parameters are also local\n",
    "\n",
    "#### Stack diagrams are useful to keep track of which variables can be used where\n",
    "show value and function each var belong to\n",
    "\n",
    "Frame = one frame represents each function - it is a box w/ name of function beside it, and params/var of function inside it\n",
    "\n",
    "arranged in stack indicating which function called which... etc\n",
    "\n",
    "Traceback = list of functions shown in error message if error occurs during function call\n",
    "\n",
    "#### Fruitful functions - return results\n",
    "\n",
    "#### Void functions - perform an action but do not return a value\n",
    "\n",
    "\n",
    "\n",
    "### Functions are awesome and useful\n",
    " allows you to name a group of statements - making it easier to read and debug\n",
    " \n",
    " make smaller by eliminating repetitive code- easier to change as well\n",
    " \n",
    " allows to debug parts one at a time\n",
    " \n",
    " can be reused for many programs\n",
    " \n",
    " #### Debugging, ah... debugging"
   ]
  },
  {
   "cell_type": "markdown",
   "metadata": {},
   "source": [
    "### Exercise 3.1\n",
    "\n",
    "Write a function named `right_justify` that takes a string named s as a parameter and prints the string with enough leading spaces so that the last letter of the string is in column 70 of the display.\n",
    "\n",
    "```\n",
    ">>> right_justify('monty')\n",
    "                                                                 monty\n",
    "```\n",
    "Hint: Use string concatenation and repetition. Also, Python provides a built-in function called `len` that returns the length of a string, so the value of `len('monty')` is 5."
   ]
  },
  {
   "cell_type": "code",
   "execution_count": 14,
   "metadata": {},
   "outputs": [
    {
     "name": "stdout",
     "output_type": "stream",
     "text": [
      "                                                                 monty\n"
     ]
    }
   ],
   "source": [
    "def right_justify(s):\n",
    "    spaces = \" \"*(70-len(s))\n",
    "    result = spaces+s\n",
    "    print(result)\n",
    "right_justify('monty')"
   ]
  },
  {
   "cell_type": "markdown",
   "metadata": {},
   "source": [
    "### Exercise 3.3\n",
    "\n",
    "Note: This exercise should be done using only the statements and other features we have learned so far.\n",
    "\n",
    "1\\. Write a function that draws a grid like the following:\n",
    "\n",
    "```\n",
    "+ - - - - + - - - - +\n",
    "|         |         |\n",
    "|         |         |\n",
    "|         |         |\n",
    "|         |         |\n",
    "+ - - - - + - - - - +\n",
    "|         |         |\n",
    "|         |         |\n",
    "|         |         |\n",
    "|         |         |\n",
    "+ - - - - + - - - - +\n",
    "```\n",
    "Note: There are four empty spaces between the vertical bars.\n",
    "\n",
    "To print more than one value on a line, you can print a comma-separated sequence of values:\n",
    "\n",
    "```\n",
    "print('+', '-')\n",
    "```\n",
    "\n",
    "By default, `print` advances to the next line, but you can override that behavior and put a space at the end, like this:\n",
    "\n",
    "```\n",
    "print('+', end=' ')\n",
    "print('-')\n",
    "```\n",
    "\n",
    "The output of these statements is '+ -'.  The output from the next print statement would begin on the next line."
   ]
  },
  {
   "cell_type": "code",
   "execution_count": 16,
   "metadata": {},
   "outputs": [
    {
     "name": "stdout",
     "output_type": "stream",
     "text": [
      "+----+----+\n",
      "|    |    |\n",
      "|    |    |\n",
      "|    |    |\n",
      "+----+----+\n",
      "|    |    |\n",
      "|    |    |\n",
      "|    |    |\n",
      "+----+----+\n"
     ]
    }
   ],
   "source": [
    "def print_plus ():\n",
    "    strline = ('+'+('-'*4))*2+'+'\n",
    "    print(strline)\n",
    "    \n",
    "def print_verticle():\n",
    "    strline = ('|'+(' '*4))*2+'|'\n",
    "    for i in range(4):\n",
    "        print(strline)\n",
    "for i in range(2):\n",
    "    print_plus()\n",
    "    print_verticle()\n",
    "print_plus()"
   ]
  },
  {
   "cell_type": "markdown",
   "metadata": {},
   "source": [
    "2\\. Write a function that draws a similar grid with four rows and four columns."
   ]
  },
  {
   "cell_type": "code",
   "execution_count": 17,
   "metadata": {},
   "outputs": [
    {
     "name": "stdout",
     "output_type": "stream",
     "text": [
      "+----+----+----+\n",
      "|    |    |    |\n",
      "|    |    |    |\n",
      "|    |    |    |\n",
      "|    |    |    |\n",
      "+----+----+----+\n",
      "|    |    |    |\n",
      "|    |    |    |\n",
      "|    |    |    |\n",
      "|    |    |    |\n",
      "+----+----+----+\n",
      "|    |    |    |\n",
      "|    |    |    |\n",
      "|    |    |    |\n",
      "|    |    |    |\n",
      "+----+----+----+\n"
     ]
    }
   ],
   "source": [
    "def print_plus ():\n",
    "    strline = ('+'+('-'*4))*3+'+'\n",
    "    print(strline)\n",
    "    \n",
    "def print_verticle():\n",
    "    strline = ('|'+(' '*4))*3+'|'\n",
    "    for i in range(4):\n",
    "        print(strline)\n",
    "        \n",
    "for i in range(3):\n",
    "    print_plus()\n",
    "    print_verticle()\n",
    "print_plus()"
   ]
  },
  {
   "cell_type": "markdown",
   "metadata": {},
   "source": [
    "## Going Beyond - Chapter 5.1 - 5.7"
   ]
  },
  {
   "cell_type": "markdown",
   "metadata": {},
   "source": [
    "#### Floor division and modulus\n",
    "\n",
    "floor division operator  // divides two numbers and rounds down to an integer\n",
    "\n",
    "modulus operator %  divides two numbers and returns the remainder\n",
    "\n",
    "#### Booleans\n",
    "boolean expression - either true or false \n",
    "(true = 1 (or greater than 1), false = 0)\n",
    "\n",
    "relational operators are:\n",
    "    x is equal to y :  x == y\n",
    "    x is not equal to y: x !=y\n",
    "    x is greater than y: x > y\n",
    "    x is less than y: x < y\n",
    "    x is greater than or equal to y: x >= y\n",
    "    x is less than or equal to y: x <= y\n",
    "    \n",
    "#### Logical operators\n",
    "and \n",
    "or \n",
    "not\n",
    "pretty self explanitory\n",
    "\n",
    "#### Conditional execution\n",
    "\n",
    "conditional statements allow us to check conditions and change behavior of program accordingly\n",
    "\n",
    "if statements - boolean after if statement = consition\n",
    " \n",
    "header followed by an indented body = compound statements\n",
    "\n",
    "can have unlimited # of statements in body, but must have at least one - or just write pass \n",
    "#### Alternative execution - another way of saying if then statements\n",
    "\n",
    "#### Chained conditionals - elif statements- if this, do this, else if (elif) this do this..... else do this. they are checked in order, only first true branch runs\n",
    "\n",
    "nested conditionals- conditionals within other conditionals\n",
    "\n",
    "#### Recursion - the process of executing a recursive function - a function that calls itself\n",
    "\n",
    "return statement exits function\n",
    "\n",
    "#### in stack diagrams for recursive functions, bottom of stack where n=0 is base case\n",
    "\n",
    "#### Infinite recursion = if recursion never reaches a  base state and keeps on making recursive calls forever, never ending the program\n",
    "\n",
    "\n",
    "#### Keyboard input\n",
    "\n",
    "use command asdf = input(\"prompt user what they should put in\\n\")\n",
    "\n",
    "\\n represents a newline - special character that causes line break\n"
   ]
  },
  {
   "cell_type": "markdown",
   "metadata": {},
   "source": [
    "### Exercise 5.2\n",
    "\n",
    "Fermat’s Last Theorem says that there are no positive integers $a$, $b$, and $c$ such that $$a^n + b^n = c^n$$ for any values of $n$ greater than 2.\n",
    "\n",
    "1\\. Write a function named `check_fermat` that takes four parameters – $a$, $b$, $c$ and $n$ – and that checks to see if Fermat’s theorem holds. If n is greater than 2 and\n",
    "$$a^n + b^n = c^n$$ the program should print: \"Holy smokes, Fermat was wrong!\" Otherwise the program should print: \"No, that doesn’t work.\""
   ]
  },
  {
   "cell_type": "code",
   "execution_count": null,
   "metadata": {
    "collapsed": true
   },
   "outputs": [],
   "source": []
  },
  {
   "cell_type": "markdown",
   "metadata": {},
   "source": [
    "2\\. Write a function that prompts the user to input values for a, b, c and n, converts them to integers, and uses `check_fermat` to check whether they violate Fermat’s theorem."
   ]
  },
  {
   "cell_type": "code",
   "execution_count": null,
   "metadata": {
    "collapsed": true
   },
   "outputs": [],
   "source": []
  },
  {
   "cell_type": "markdown",
   "metadata": {},
   "source": [
    "### Exercise 5.3 \n",
    "\n",
    "If you are given three sticks, you may or may not be able to arrange them in a triangle. For example, if one of the sticks is 12 inches long and the other two are one inch long, it is clear that you will not be able to get the short sticks to meet in the middle. For any three lengths, there is a simple test to see if it is possible to form a triangle:\n",
    "> If any of the three lengths is greater than the sum of the other two, then you cannot form a triangle. Otherwise, you can. (If the sum of two lengths equals the third, they form what is called a “degenerate” triangle.)\n",
    "\n",
    "1\\. Write a function named `is_triangle` that takes three integers as arguments, and that prints either \"Yes\" or \"No,\" depending on whether you can or cannot form a triangle from sticks with the given lengths."
   ]
  },
  {
   "cell_type": "code",
   "execution_count": null,
   "metadata": {
    "collapsed": true
   },
   "outputs": [],
   "source": []
  },
  {
   "cell_type": "markdown",
   "metadata": {},
   "source": [
    "2\\. Write a function that prompts the user to input three stick lengths, converts them to integers, and uses `is_triangle` to check whether sticks with the given lengths can form a triangle."
   ]
  },
  {
   "cell_type": "code",
   "execution_count": null,
   "metadata": {
    "collapsed": true
   },
   "outputs": [],
   "source": []
  },
  {
   "cell_type": "markdown",
   "metadata": {},
   "source": []
  },
  {
   "cell_type": "markdown",
   "metadata": {},
   "source": [
    "## Time check\n",
    "Think about how long you spent working on this Reading Journal - remember to avoid spending too much time in one sitting?"
   ]
  },
  {
   "cell_type": "markdown",
   "metadata": {},
   "source": [
    "3 hours 15 min"
   ]
  },
  {
   "cell_type": "markdown",
   "metadata": {},
   "source": [
    "## Getting unstuck\n",
    "\n",
    "If you have Python questions or run into problems while completing the reading, you should post them to the course discussion forum instead so you can get a quick response before your journal is submitted."
   ]
  },
  {
   "cell_type": "markdown",
   "metadata": {},
   "source": []
  }
 ],
 "metadata": {
  "anaconda-cloud": {},
  "kernelspec": {
   "display_name": "Python 3",
   "language": "python",
   "name": "python3"
  },
  "language_info": {
   "codemirror_mode": {
    "name": "ipython",
    "version": 3
   },
   "file_extension": ".py",
   "mimetype": "text/x-python",
   "name": "python",
   "nbconvert_exporter": "python",
   "pygments_lexer": "ipython3",
   "version": "3.6.9"
  }
 },
 "nbformat": 4,
 "nbformat_minor": 1
}
