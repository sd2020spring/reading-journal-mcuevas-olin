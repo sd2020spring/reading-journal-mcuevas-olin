{
 "cells": [
  {
   "cell_type": "markdown",
   "metadata": {},
   "source": [
    "# Documentation Worksheet"
   ]
  },
  {
   "cell_type": "markdown",
   "metadata": {},
   "source": [
    "This worksheet is designed to help you learn how to document your software in a way that makes it more accessible to various audiences."
   ]
  },
  {
   "cell_type": "markdown",
   "metadata": {},
   "source": [
    "## Markdown Formatting"
   ]
  },
  {
   "cell_type": "markdown",
   "metadata": {},
   "source": [
    "Markdown is a simple language used to format text. You have already seen examples of text written in Markdown: most README files (which you see when you visit a GitHub repository, and which we talk about below) and non-code cells in Jupyter notebooks are written in Markdown. You can double-click any non-code cell in this notebook to see how formatted text is written in Markdown.\n",
    "\n",
    "Learning Markdown will help you quickly write well-formatted text for documenting your software projects."
   ]
  },
  {
   "cell_type": "markdown",
   "metadata": {},
   "source": [
    "### Learning Markdown"
   ]
  },
  {
   "cell_type": "markdown",
   "metadata": {},
   "source": [
    "If you're not already familiar with Markdown, start by reading GitHub's [Mastering Markdown](https://guides.github.com/features/mastering-markdown/) page. Feel free to create any addiitonal cells you'd like below to practice different types of Markdown syntax."
   ]
  },
  {
   "cell_type": "markdown",
   "metadata": {},
   "source": [
    "### Exercise: Writing in Markdown"
   ]
  },
  {
   "cell_type": "markdown",
   "metadata": {},
   "source": [
    "Write a couple hundred words about some awesome code that you've seen. It can be code you've seen in this course or outside of this course, and it can even be code that you've written! (It doesn't necessarily need to be well-documented, as long as you can explain it to us.)\n",
    "\n",
    "Your text should link to the code and also provide at least one snippet of code. This is also a good opportunity to practice your Markdown syntax as well - use whatever formatting you feel will help you communicate to us why this code is great."
   ]
  },
  {
   "cell_type": "markdown",
   "metadata": {},
   "source": [
    "#### Answer"
   ]
  },
  {
   "cell_type": "markdown",
   "metadata": {},
   "source": [
    "(your paragraph goes here)"
   ]
  },
  {
   "cell_type": "markdown",
   "metadata": {},
   "source": [
    "## READMEs"
   ]
  },
  {
   "cell_type": "markdown",
   "metadata": {},
   "source": [
    "README files are important for orienting the reader to part of all of your project. Virtually every widely-used and successful software project has a README to cover details such as what the project does and how to use it.\n",
    "\n",
    "Learning how to write a good README will help you highlight the awesome parts of your projects while communicating the necessary information for people to engage with your software."
   ]
  },
  {
   "cell_type": "markdown",
   "metadata": {},
   "source": [
    "### README Guides"
   ]
  },
  {
   "cell_type": "markdown",
   "metadata": {},
   "source": [
    "Below are links to guides in various formats that describe good READMEs:\n",
    "\n",
    "* [Making READMEs readable](https://github.com/18F/open-source-guide/blob/18f-pages/pages/making-readmes-readable.md)\n",
    "* [Starting an Open Source Project: Writing a README](https://opensource.guide/starting-a-project/#writing-a-readme)\n",
    "* [README 101](https://www.makeareadme.com/)\n",
    "* [PurpleBooth's README template](https://gist.github.com/PurpleBooth/109311bb0361f32d87a2)\n",
    "\n",
    "Read these guides, and spend some time thinking about what makes a good README."
   ]
  },
  {
   "cell_type": "markdown",
   "metadata": {},
   "source": [
    "### Exercise: Good and Appropriate READMEs"
   ]
  },
  {
   "cell_type": "markdown",
   "metadata": {},
   "source": [
    "The readings should have given you some ideas about what information is in a good README for widely-used software projects, but every type of information does not need to be included in every project.\n",
    "\n",
    "For this exercise, think about your mini-project on text mining, and list appropriate pieces of information that you would include in the README for this project."
   ]
  },
  {
   "cell_type": "markdown",
   "metadata": {},
   "source": [
    "(your list goes here)"
   ]
  },
  {
   "cell_type": "markdown",
   "metadata": {},
   "source": [
    "Now, list pieces of information that you think are good to include in READMEs, but not in your README for your text mining mini-project."
   ]
  },
  {
   "cell_type": "markdown",
   "metadata": {},
   "source": [
    "(your list goes here)"
   ]
  },
  {
   "cell_type": "markdown",
   "metadata": {},
   "source": [
    "Write a few sentences describing why you split the list in this way."
   ]
  },
  {
   "cell_type": "markdown",
   "metadata": {},
   "source": [
    "(your answer goes here)"
   ]
  },
  {
   "cell_type": "markdown",
   "metadata": {},
   "source": [
    "### Displaying READMEs"
   ]
  },
  {
   "cell_type": "markdown",
   "metadata": {},
   "source": [
    "Once you've written the README, you can display it for your users relatively easily. In GitHub, adding a file called `README.md` (the `.md` stands for Markdown) in any folder, including the root of the repository, will cause the webpage for that folder to display the formatted contents of the README."
   ]
  },
  {
   "cell_type": "markdown",
   "metadata": {},
   "source": [
    "### Optional Exercise: Awesome READMEs"
   ]
  },
  {
   "cell_type": "markdown",
   "metadata": {},
   "source": [
    "Find a GitHub project with an awesome README. It should ideally be informative and persuasive and have a good aesthetic.\n",
    "\n",
    "If you don't know of one, you could try finding potential projects by searching for the repositories of a desktop or mobile app that you partiuclarly enjoy, or a library or plugin that you found useful. You could also just search for popular GitHub repositories (many of which are widely-used JavaScript libraries). Again, these can be things you've seen in this course or elsewhere.\n",
    "\n",
    "Paste the link and write a few sentences about what you think makes this README particularly excellent."
   ]
  },
  {
   "cell_type": "markdown",
   "metadata": {},
   "source": [
    "Link: (fill this in)"
   ]
  },
  {
   "cell_type": "markdown",
   "metadata": {},
   "source": [
    "(why you think the README is great)"
   ]
  },
  {
   "cell_type": "markdown",
   "metadata": {},
   "source": [
    "## Documenting Code"
   ]
  },
  {
   "cell_type": "markdown",
   "metadata": {},
   "source": [
    "When working on a software project, much of the documentation you will do on a day-to-day basis will be for the code itself. This includes thngs like choosing good names, commenting blocks of code, and describing what your functions and classes do.\n",
    "\n",
    "Learning how to document your code well will help you communicate the ideas behind your code in an understandable way, while still keeping the code readable."
   ]
  },
  {
   "cell_type": "markdown",
   "metadata": {},
   "source": [
    "### Choosing Good Project/Repository Names"
   ]
  },
  {
   "cell_type": "markdown",
   "metadata": {},
   "source": [
    "When naming an entire project or repository, it's helpful to choose a name that isn't too long. It helps to not communicate too much in the name - for example, this repository is called `documentation-worksheet` and not `softdes-spring-2020-documentation-worksheet` because the initial descriptors don't tell me too much about what the repository contains, just when and for what purpose it was created.\n",
    "\n",
    "If you release your mini-projects from this course to the public, you'll want to avoid using the default repository names, like `mini-project-2-computational-art-<username>`. On GitHub, you can change the name of a repository you own by going to \"Settings\" and then to \"Options\".\n",
    "\n",
    "When choosing a name, it's also helpful to do a quick search to see if any other software projects are using that name. Even projects in a different area can cause confusion (especially if they're hosted on GitHub), so it's best to avoid reusing an existing name, even if it's an awesome name."
   ]
  },
  {
   "cell_type": "markdown",
   "metadata": {},
   "source": [
    "### Exercise: Reading Journal Naming"
   ]
  },
  {
   "cell_type": "markdown",
   "metadata": {},
   "source": [
    "As an opportunity to quickly practice this naming, choose three reading journals that you have been assigned this semester and name them. Try to be specific about what they cover without being too long."
   ]
  },
  {
   "cell_type": "markdown",
   "metadata": {},
   "source": [
    "1. (RJ#: title)\n",
    "2. (RJ#: title)\n",
    "3. (RJ#: title)"
   ]
  },
  {
   "cell_type": "markdown",
   "metadata": {},
   "source": [
    "### Choosing Good Class, Function, or Variable Names"
   ]
  },
  {
   "cell_type": "markdown",
   "metadata": {},
   "source": [
    "When naming a class, function, or variable, it's helpful to start with a couple assumptions about the reader:\n",
    "\n",
    "* They have an idea of what the overall project is supposed to do.\n",
    "* They know at least as good of a programmer as you are.\n",
    "\n",
    "What this means is that you shouldn't be too redundant in your names. Calling a generic Student class something like `StudentBaseClass` communicates too much - the reader will be able to figure that out by looking at the class implementation.\n",
    "\n",
    "Use consistent capitalization rules when naming things. In Python, classes should be named with camel case (e.g., `StudentBaseClass`), while functions and variables should be named with snake case (e.g., `student_roster`). If you create a constant, that is, a variable that shouldn't ever be changed, keep snake case but make it all caps (e.g., `BITS_IN_BYTE`).\n",
    "\n",
    "When naming functions, you should be careful to avoid duplicating names, or creating names that are similar to others. For example, if you define a function called `get_input` twice, the second definition will overwrite the first. If you write two functions called `process` and `process2`, it's also not clear how the two functions differ.\n",
    "\n",
    "It's also helpful to be concise yet clear when naming functions. In the second example above, a function named `process` should be renamed because it isn't clear what is being processed. A name like `process_raw_data` might be more helpful.\n",
    "\n",
    "When naming variables, it's especially helpful to be clear about what the variable *represents* rather than what it *is*. So rather than calling a variable `input_list`, it makes more sense to call it something like `daily_stock_prices`. Generally, names like `count`, `num`, `index`, or `average` are not very descriptive, and should probably be improved.\n",
    "\n",
    "Being precise is also important, though the right level of precision depends on the context. For example, if you are writing code to simulate the orbit of the earth around the sun, then a numerical variable called `radius`, while describing what the number represents, isn't precise enough - it could be the radius of the sun, the radius of the earth, or the radius of the orbit itself. A name like `earth_to_sun` is probably more appropriate.\n",
    "\n",
    "Finally, there are times when you might not use the value of a variable. For example, you may have to do something for every element in a list, but not actually need the element itself. In this case, you can use the underscore (`_`) as a variable to indicate that the value is not used. (It's actually a valid variable name, and you can use it like a normal variable, but we recommend that you don't.)"
   ]
  },
  {
   "cell_type": "markdown",
   "metadata": {},
   "source": [
    "### Code Sample: Tic-Tac-Toe"
   ]
  },
  {
   "cell_type": "markdown",
   "metadata": {},
   "source": [
    "The code below implements a tic-tac-toe game. It has purposely been written in a way that needs improvement. In the next three exercises, you'll document this code in different ways, improving on it each time. Keep the original here so that you can go back and compare as you make changes."
   ]
  },
  {
   "cell_type": "code",
   "execution_count": 4,
   "metadata": {},
   "outputs": [],
   "source": [
    "class Board:\n",
    "    \"\"\"\n",
    "    A tic-tac-toe game.\n",
    "    \"\"\"\n",
    "    \n",
    "    def __init__(self):\n",
    "        \"\"\"\n",
    "        Set up the board.\n",
    "        \"\"\"\n",
    "        self.create()\n",
    "    \n",
    "    def create(self):\n",
    "        \"\"\"\n",
    "        Set up the board.\n",
    "        \"\"\"\n",
    "        self.board = [[' ', ' ', ' '] for i in range(3)]\n",
    "        self.player = 'X'\n",
    "        \n",
    "    def print_board(self):\n",
    "        \"\"\"\n",
    "        Print the board.\n",
    "        \"\"\"\n",
    "        for i in range(3):\n",
    "            print ' '.join(self.board[i])\n",
    "        \n",
    "    def move(self, x, y):\n",
    "        \"\"\"\n",
    "        Make a move in the game.\n",
    "        \"\"\"\n",
    "        if self.board[x][y] != ' ':\n",
    "            print('Move not allowed')\n",
    "            return\n",
    "        self.board[x][y] = self.player           \n",
    "        if self.tictactoe(self.player):\n",
    "            print(\"Tic-tac-toe! {} wins!\".format(self.player))\n",
    "            self.create()\n",
    "        else:\n",
    "            self.toggle()\n",
    "        \n",
    "    def toggle(self):\n",
    "        \"\"\"\n",
    "        Change players.\n",
    "        \"\"\"\n",
    "        self.player = 'O' if self.player == 'X' else 'X'\n",
    "        \n",
    "    def tictactoe(self, player):\n",
    "        \"\"\"\n",
    "        Check for tic-tac-toe.\n",
    "        \"\"\"\n",
    "        row = [player, player, player]\n",
    "        if row in self.board:\n",
    "            return True\n",
    "        for i in range(3):\n",
    "            if row == [self.board[j][i] for j in range(3)]:\n",
    "                return True\n",
    "        if row == [self.board[i][i] for i in range(3)]:\n",
    "            return True\n",
    "        if row == [self.board[i][2-i] for i in range(3)]:\n",
    "            return True\n",
    "        return False"
   ]
  },
  {
   "cell_type": "markdown",
   "metadata": {},
   "source": [
    "### Exercise: Improving Names"
   ]
  },
  {
   "cell_type": "markdown",
   "metadata": {},
   "source": [
    "In the tic-tac-toe example above, some of the names could be improved. Copy the above code and paste it in the cell below. Then change any names you feel are necessary, and for each one that you change, describe why you changed the name. **You should only change the class, function, and variable names for now.**"
   ]
  },
  {
   "cell_type": "code",
   "execution_count": 5,
   "metadata": {},
   "outputs": [],
   "source": [
    "# Code goes here"
   ]
  },
  {
   "cell_type": "markdown",
   "metadata": {},
   "source": [
    "(explanation of changes goes here)"
   ]
  },
  {
   "cell_type": "markdown",
   "metadata": {},
   "source": [
    "### Learning Docstring Styles"
   ]
  },
  {
   "cell_type": "markdown",
   "metadata": {},
   "source": [
    "Below are some guides about how to format docstrings in Python:\n",
    "\n",
    "* [Python Docstrings: Reference and Examples](http://queirozf.com/entries/python-docstrings-reference-examples) shows docstrings in different styles.\n",
    "* [Google Python Style Guide: Comments and Docstrings](https://google.github.io/styleguide/pyguide.html#38-comments-and-docstrings) is the official guide for Google-style docstrings.\n",
    "\n",
    "Read through these to get a sense of what type of information to convey in docstrings, and the ways of formatting this information."
   ]
  },
  {
   "cell_type": "markdown",
   "metadata": {},
   "source": [
    "### Commenting Code"
   ]
  },
  {
   "cell_type": "markdown",
   "metadata": {},
   "source": [
    "Within functions, it's sometimes useful to comment a block of code. Here's a short example of a function that takes 0 or 1 as input and returns the other:"
   ]
  },
  {
   "cell_type": "code",
   "execution_count": 7,
   "metadata": {},
   "outputs": [],
   "source": [
    "def flip_bit(bit):\n",
    "    \"\"\"\n",
    "    Return the opposite binary bit of the input.\n",
    "    \n",
    "    Args:\n",
    "        bit: an integer with value 0 or 1.\n",
    "    \n",
    "    Returns:\n",
    "        0 if bit is 1, and 1 otherwise.\n",
    "    \"\"\"\n",
    "    # Subtracting 1 from bit gives 0 or -1. Taking the absolute value makes this\n",
    "    # 0 or 1 as desired.\n",
    "    return abs(bit - 1)"
   ]
  },
  {
   "cell_type": "markdown",
   "metadata": {},
   "source": [
    "First, notice that this comment is only for a single line of code - in fact, the comment is longer than the code itself. For longer blocks of code, this is unlikely, but it's not a problem to have a long comment if necessary.\n",
    "\n",
    "Second, the comment doesn't just describe *what* the code does, it describes *why* this line of code is there. A comment that said \"Subtract 1 from bit and return the absolute value of the result\" wouldn't add any information - remember, you are assuming that the reader is at least as good of a programmer as you. But it might not be immediately clear *why* this line of code results in the correct result, so we explain that here.\n",
    "\n",
    "Finally, it's worth pointing out that this example is a little simplistic - a reader could *probably* have figured out what that single line of code did even without the comment. But for longer blocks, it becomes more important to include these comments. In addition to explaining the overall reasoning behind the code, it can also be used to point out what the block of code accomplishes as a whole."
   ]
  },
  {
   "cell_type": "markdown",
   "metadata": {},
   "source": [
    "### Exercise: Improving Code Documentation"
   ]
  },
  {
   "cell_type": "markdown",
   "metadata": {},
   "source": [
    "Copy and paste the code from your previous exercise below. Then, improve the docstrings and code-level comments according to the guidelines above. For this exercise, you don't need to write why you made each change, but the resulting code should be easy to read and understand."
   ]
  },
  {
   "cell_type": "code",
   "execution_count": 6,
   "metadata": {},
   "outputs": [],
   "source": [
    "# Code goes here"
   ]
  },
  {
   "cell_type": "markdown",
   "metadata": {},
   "source": [
    "## Exercise: Documenting a Full Project"
   ]
  },
  {
   "cell_type": "markdown",
   "metadata": {},
   "source": [
    "For your last exercise, document your previous project in computational art or text mining according to the guidelines that we have covered in this course. This means that, at a minimum, your project should have:\n",
    "\n",
    "* A descriptive name\n",
    "* A project-level README\n",
    "* Docstrings for all classes and functions\n",
    "\n",
    "It's best if your code also has clear variable names and comments explaining any complex blocks of code.\n",
    "\n",
    "If your docstrings contain doctest unit tests, you can leave these in, but make sure that they appear at the end of the docstring.\n",
    "\n",
    "Once you've done this, link to your project and write a paragraph or two below that describes the changes you made and how these changes help others understand your code better. As you do this, it's probably helpful to think about who would benefit most from the changes you have made (you, others familiar with the project, non-programmers, etc)."
   ]
  },
  {
   "cell_type": "markdown",
   "metadata": {},
   "source": [
    "Link: (fill this in)"
   ]
  },
  {
   "cell_type": "markdown",
   "metadata": {},
   "source": [
    "### Summary of Changes"
   ]
  },
  {
   "cell_type": "markdown",
   "metadata": {},
   "source": [
    "(your paragraphs go here)"
   ]
  },
  {
   "cell_type": "markdown",
   "metadata": {},
   "source": [
    "## Survey"
   ]
  },
  {
   "cell_type": "markdown",
   "metadata": {},
   "source": [
    "We'd really appreciate your feedback to help us improve future worksheets. Please consider answering the questions below."
   ]
  },
  {
   "cell_type": "markdown",
   "metadata": {},
   "source": [
    "1. How many hours did you spend on this worksheet?"
   ]
  },
  {
   "cell_type": "markdown",
   "metadata": {},
   "source": [
    "(your answer goes here)"
   ]
  },
  {
   "cell_type": "markdown",
   "metadata": {},
   "source": [
    "2. What parts of this worksheet were most helpful to your learning?"
   ]
  },
  {
   "cell_type": "markdown",
   "metadata": {},
   "source": [
    "(your answer goes here)"
   ]
  },
  {
   "cell_type": "markdown",
   "metadata": {},
   "source": [
    "3. What changes could we make to this worksheet that would make it more helpful for your learning?"
   ]
  },
  {
   "cell_type": "markdown",
   "metadata": {},
   "source": [
    "(your answer goes here)"
   ]
  }
 ],
 "metadata": {
  "kernelspec": {
   "display_name": "Python 3",
   "language": "python",
   "name": "python3"
  },
  "language_info": {
   "codemirror_mode": {
    "name": "ipython",
    "version": 3
   },
   "file_extension": ".py",
   "mimetype": "text/x-python",
   "name": "python",
   "nbconvert_exporter": "python",
   "pygments_lexer": "ipython3",
   "version": "3.8.2"
  }
 },
 "nbformat": 4,
 "nbformat_minor": 2
}
