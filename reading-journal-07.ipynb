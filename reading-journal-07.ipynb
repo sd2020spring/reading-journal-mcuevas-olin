{
 "cells": [
  {
   "cell_type": "markdown",
   "metadata": {},
   "source": [
    "# Reading Journal 7\n",
    "\n",
    "Reading: \n",
    " - *Think Python*, [Chapter 11.1-11.5](http://www.greenteapress.com/thinkpython/html/thinkpython012.html), [Chapter 12.1-12.7](http://www.greenteapress.com/thinkpython2/html/thinkpython2013.html)\n",
    " - [5 Whys](https://en.wikipedia.org/wiki/5_Whys), Introduction and Examples; and [An Introduction to 5-why](http://www.bulsuk.com/2009/03/5-why-finding-root-causes.html)"
   ]
  },
  {
   "cell_type": "markdown",
   "metadata": {},
   "source": [
    "## [Chapter 11](http://www.greenteapress.com/thinkpython/html/thinkpython012.html)\n"
   ]
  },
  {
   "cell_type": "markdown",
   "metadata": {},
   "source": [
    "**Quick check:** In about one sentence using your own words, what is a dictionary?"
   ]
  },
  {
   "cell_type": "markdown",
   "metadata": {},
   "source": [
    "A dictionary is a list filled with two items connected to each other."
   ]
  },
  {
   "cell_type": "markdown",
   "metadata": {},
   "source": [
    "Notes:\n",
    "dict.  = list, but indices can be almost any type\n",
    "\n",
    "associates a key ( set of indicies) with a set of values\n",
    "- called key-value pair, sometimes item"
   ]
  },
  {
   "cell_type": "markdown",
   "metadata": {},
   "source": [
    " ### Exercise 11.2  \n",
    "\n",
    "Dictionaries have a method called [`get`](https://docs.python.org/3/library/stdtypes.html#mapping-types-dict) that takes a key and a default value. If the key appears in the dictionary, `get` returns the corresponding value; otherwise it returns the default value. For example:\n",
    "\n",
    "```\n",
    ">>> h = histogram('a')\n",
    ">>> print(h)\n",
    "{'a': 1}\n",
    ">>> h.get('a', 0)\n",
    "1\n",
    ">>> h.get('b', 0)\n",
    "0\n",
    "```\n",
    "\n",
    "Use `get` to rewrite the `histogram` function below more concisely. You should be able to eliminate the `if` statement. Add unit tests (docstring examples) for your histogram implementation."
   ]
  },
  {
   "cell_type": "code",
   "execution_count": 10,
   "metadata": {},
   "outputs": [],
   "source": [
    "import doctest\n",
    "\n",
    "def histogram(s):\n",
    "    \"\"\"Return a dictionary that counts occurrences of each character in s.\n",
    "    \n",
    "    Examples:\n",
    "    >>> histogram('asasdff')\n",
    "    {'a': 2, 's': 2, 'd': 1, 'f': 2}\n",
    "    \"\"\"\n",
    "    d = dict()\n",
    "    for c in s:\n",
    "        d[c] = d.get(c,0) + 1\n",
    "    return d\n",
    "doctest.run_docstring_examples(histogram, globals())"
   ]
  },
  {
   "cell_type": "markdown",
   "metadata": {},
   "source": [
    " "
   ]
  },
  {
   "cell_type": "markdown",
   "metadata": {
    "is_question": true,
    "problem": "Exercise 11.4"
   },
   "source": [
    "### Exercise 11.4  \n",
    "\n",
    "Modify `reverse_lookup` so that it builds and returns a list of all keys that map to `v`, or an empty list if there are none. Add unit tests for your implementation."
   ]
  },
  {
   "cell_type": "code",
   "execution_count": 20,
   "metadata": {
    "solution": "Exercise 11.4"
   },
   "outputs": [],
   "source": [
    "def reverse_lookup(d, v):\n",
    "    \"\"\"\n",
    "    reverse_lookup({'a': 2, 's': 2, 'd': 1, 'f': 2}, 2)\n",
    "    ['a','s','f']\n",
    "    reverse_lookup({'a': 2, 's': 2, 'd': 1, 'f': 2}, 3)\n",
    "    ValueError\n",
    "    \n",
    "    \"\"\"\n",
    "    all_keys = []\n",
    "    for k in d:\n",
    "        if d[k] == v:\n",
    "            all_keys.append(v)\n",
    "    raise ValueError\n",
    "\n",
    "    doctest.run_docstring_examples(reverse_lookup, globals())"
   ]
  },
  {
   "cell_type": "markdown",
   "metadata": {},
   "source": [
    "If you'd like to learn more about errors and exceptions, you can check out the [Python tutorial](https://docs.python.org/3/tutorial/errors.html) or read ahead to [Appendix A](http://www.greenteapress.com/thinkpython2/html/thinkpython2021.html) of Think Python. If you choose to use doctest for your unit testing, it can also [deal with exceptions](https://docs.python.org/3/library/doctest.html#what-about-exceptions)."
   ]
  },
  {
   "cell_type": "markdown",
   "metadata": {},
   "source": [
    "**Quick check** What type of objects can be used as keys to a dictionary, i.e. what property must they have?"
   ]
  },
  {
   "cell_type": "markdown",
   "metadata": {},
   "source": [
    "Keys have to be hashable, which works best if they are immutable"
   ]
  },
  {
   "cell_type": "markdown",
   "metadata": {},
   "source": [
    "## [Chapter 12](http://www.greenteapress.com/thinkpython2/html/thinkpython2013.html)\n",
    "\n",
    "**Quick check:** In about one sentence using your own words, what is a tuple?"
   ]
  },
  {
   "cell_type": "markdown",
   "metadata": {},
   "source": [
    "A tuple is an immutable sequence of values indexed by integers."
   ]
  },
  {
   "cell_type": "markdown",
   "metadata": {
    "is_question": true,
    "problem": "Exercise 12.1"
   },
   "source": [
    "### Chapter 12.4  \n",
    "\n",
    "Many of the built-in functions use variable-length argument tuples. For example, `max` and `min` can take any number of arguments:\n",
    "\n",
    "```\n",
    ">>> max(1,2,3)\n",
    "3\n",
    "```\n",
    "\n",
    "But `sum` does not.\n",
    "\n",
    "```\n",
    ">>> sum(1, 2, 3)\n",
    "TypeError: sum expected at most 2 arguments, got 3\n",
    "```\n",
    "\n",
    "Write a function called ```sumall``` that takes any number of arguments and returns their sum. \n",
    "\n",
    "Write unit tests for your function. Do I actually need to keep saying this? Let's assume it's always a good idea :)"
   ]
  },
  {
   "cell_type": "code",
   "execution_count": 21,
   "metadata": {
    "solution": "Exercise 12.1"
   },
   "outputs": [],
   "source": [
    "def sumall(*args):\n",
    "    \"\"\"\n",
    "    >>> sumall(8,5,3)\n",
    "    16\n",
    "    >>> sumall(8)\n",
    "    8\n",
    "    >>> sumall(2,-2,3)\n",
    "    3\n",
    "    \"\"\"\n",
    "    resulting_sum = 0\n",
    "    for i in args:\n",
    "        resulting_sum += i\n",
    "    return resulting_sum    \n",
    "\n",
    "doctest.run_docstring_examples(sumall, globals())"
   ]
  },
  {
   "cell_type": "markdown",
   "metadata": {},
   "source": [
    "If you're interested in more flexible ways to pass arguments to functions, check out the [Python tutorial](https://docs.python.org/3/tutorial/controlflow.html#more-on-defining-functions). For instance, you can also use keyword arguments, which are collected into a dictionary just like `*` gathers variable numbers of positional arguments into a tuple.\n",
    "\n",
    "This pattern is very common for defining functions with complex optional behaviors in Python, and you will often see definitions like:\n",
    "\n",
    "```python\n",
    "def my_func(required_argument1, *arguments, **keywords):\n",
    "    ...\n",
    "```"
   ]
  },
  {
   "cell_type": "markdown",
   "metadata": {},
   "source": [
    "**Quick check** Give an example of when you might use each sequence type:\n",
    "\n",
    "- tuple\n",
    "\n",
    "- list\n",
    "\n",
    "- string"
   ]
  },
  {
   "cell_type": "markdown",
   "metadata": {},
   "source": [
    "You could use a tuple as keys to a dictionary\n",
    "\n",
    "A list when you want to store values in a mutable object\n",
    "\n",
    "A string to create a sentence or some words"
   ]
  },
  {
   "cell_type": "markdown",
   "metadata": {
    "is_question": true,
    "problem": "Exercise 12.3"
   },
   "source": [
    "### Exercise 12.1 \n",
    "\n",
    "Write a function called `most_frequent` that takes a string and prints the letters in decreasing order of frequency. Find text samples from several different languages and see how letter frequency varies between languages. Compare your results with the tables at http://en.wikipedia.org/wiki/Letter_frequencies. \n",
    "\n",
    "Allen's solution (try it on your own first): http://greenteapress.com/thinkpython2/code/most_frequent.py. "
   ]
  },
  {
   "cell_type": "code",
   "execution_count": 27,
   "metadata": {
    "solution": "Exercise 12.3"
   },
   "outputs": [
    {
     "name": "stdout",
     "output_type": "stream",
     "text": [
      "d\n",
      "c\n",
      "a\n",
      "b\n",
      " \n",
      "e\n"
     ]
    }
   ],
   "source": [
    "def most_frequent(input_string):\n",
    "    \"\"\"\n",
    "    >>> most_frequenct(\"aaaaaa bbbbb ccccccc dddddddd e\")\n",
    "    \"\"\"\n",
    "    #Return a dictionary that counts occurrences of each character in s.\n",
    "    d = histogram(input_string) \n",
    "    #creates empty list\n",
    "    sentence_list = []\n",
    "    #iterates through list created by d.items that has all keys with values\n",
    "    #in this case it iterates through the list, getting the letter and frequency\n",
    "    #then switching it so that the frequency is the first value so that when we\n",
    "    #later sort through this, the sorting is based off of the freqency\n",
    "    for letter, frequency in d.items():\n",
    "        sentence_list.append((frequency, letter))\n",
    "    #reorders the values in the list so that the letters with the highest\n",
    "    #frequency appear first, lowest frequency last.\n",
    "    sentence_list.sort(reverse = True)\n",
    "    #goes through the sorted list and prints out the letters in the sorted order\n",
    "    for frequency, letter in sentence_list:\n",
    "        print(letter)\n",
    "    \n",
    "most_frequent(\"aaaaaa bbbbb ccccccc dddddddd e\")\n"
   ]
  },
  {
   "cell_type": "markdown",
   "metadata": {},
   "source": [
    "If I wanted to compare frequencies across languages, I would import a text file to read from (using open(filename).read() ), and run that though the code, as well as print out not just the letter, but the frequency in which they occur(maybe even presenting the frequency as a percentage). I might also take out the spaces and non-letter characters from the file, and make it all lower case."
   ]
  },
  {
   "cell_type": "markdown",
   "metadata": {},
   "source": [
    "## 5 Whys\n",
    "\n",
    "1. Read the [5 Whys](https://en.wikipedia.org/wiki/5_Whys), introduction and Examples.\n",
    "2. Read [An Introduction to 5-why](http://www.bulsuk.com/2009/03/5-why-finding-root-causes.html).\n",
    "3. In the space below, describe a problem you've observed or encountered outside of this class, and take it to at least two levels of why. This can be a problem that you've run into personally, or a \"broken process\" in a institution you're a part of or interact with."
   ]
  },
  {
   "cell_type": "markdown",
   "metadata": {},
   "source": [
    "My phone battery is not charging\n",
    "\n",
    "why?\n",
    "\n",
    "The usb adapter cord is broken\n",
    "\n",
    "why?\n",
    "\n",
    "The cord has worn out from use\n",
    "\n",
    "why?\n",
    "\n",
    "The cord is fragile, and not well suited for its purposes."
   ]
  }
 ],
 "metadata": {
  "celltoolbar": "Visualize",
  "kernelspec": {
   "display_name": "Python 3",
   "language": "python",
   "name": "python3"
  },
  "language_info": {
   "codemirror_mode": {
    "name": "ipython",
    "version": 3
   },
   "file_extension": ".py",
   "mimetype": "text/x-python",
   "name": "python",
   "nbconvert_exporter": "python",
   "pygments_lexer": "ipython3",
   "version": "3.6.9"
  }
 },
 "nbformat": 4,
 "nbformat_minor": 1
}
