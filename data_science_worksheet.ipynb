{
 "cells": [
  {
   "cell_type": "markdown",
   "metadata": {},
   "source": [
    "# Data Science Worksheet"
   ]
  },
  {
   "cell_type": "markdown",
   "metadata": {},
   "source": [
    "This worksheet is designed to help you learn the basics of doing data science in Python. Specifically, this worksheet is designed to give you practice in data structures in the NumPy and Pandas libraries, and plotting in Matplotlib/Pyplot."
   ]
  },
  {
   "cell_type": "markdown",
   "metadata": {},
   "source": [
    "## Setup"
   ]
  },
  {
   "cell_type": "markdown",
   "metadata": {},
   "source": [
    "Before we get started, you should make sure you have the necessary packages: NumPy, Pandas, and Matplotlib.\n",
    "\n",
    "If you have the standard distribution of Anaconda, these should already be installed. If not, you can install them with `conda install numpy pandas matplotlib`.\n",
    "\n",
    "If you don't have Anaconda but are on Ubuntu, you should install the packages `python3-numpy`, `python3-pandas`, and `python3-matplotlib` with `apt`.\n",
    "\n",
    "Otherwise, you should install the packages using the command `pip3 install -U numpy pandas matplotlib` from a terminal.\n",
    "\n",
    "To test whether all of this works, try running the cell below. It should produce no output. If you get an error, you do not have the necessary packages. If you think you have installed them but it still does not work, you can try restarting the notebook kernel by selecting `Kernel -> Restart` in the top menu of Jupyter."
   ]
  },
  {
   "cell_type": "code",
   "execution_count": 1,
   "metadata": {},
   "outputs": [],
   "source": [
    "import numpy as np\n",
    "import pandas as pd\n",
    "import matplotlib.pyplot as plt\n",
    "import math"
   ]
  },
  {
   "cell_type": "markdown",
   "metadata": {},
   "source": [
    "Notice that all of these import statements use the `import foo as bar` format, which allows you to refer to the package by the second name (which is usually shorter). In practice, it's particularly common to use `np`, `pd`, and `plt` to refer to NumPy, Pandas, and Pyplot, respectively."
   ]
  },
  {
   "cell_type": "markdown",
   "metadata": {},
   "source": [
    "## NumPy"
   ]
  },
  {
   "cell_type": "markdown",
   "metadata": {},
   "source": [
    "NumPy is mainly a library for working with *arrays* or *matrices* (which term you use typically depends on how many dimensions you are working with and whether you have a computing or mathematical background). NumPy uses the term *array* to refer to all of these.\n",
    "\n",
    "In its simplest form, an array is an ordered set of items (usually numbers) organized along a set of dimensions. If you are working in pure Python, you can think of an array in one dimension as a list (like `[1, 2, 3]`), an array in two dimensions as a list of lists where each inner list has the same length (like `[[1, 2, 3], [4, 5, 6]]`), and so on.\n",
    "\n",
    "In NumPy, arrays are classes that maintain items in this way, with some optimizations for scientific computing. The usual class for these arrays is called the `ndarray`, and you can read about it in great detail [here](https://docs.scipy.org/doc/numpy/reference/arrays.ndarray.html)."
   ]
  },
  {
   "cell_type": "markdown",
   "metadata": {},
   "source": [
    "### Components of an Array"
   ]
  },
  {
   "cell_type": "markdown",
   "metadata": {},
   "source": [
    "You can create a NumPy array using the function `np.array`. The function takes a set of items organized as an array and creates a NumPy array out of them:"
   ]
  },
  {
   "cell_type": "code",
   "execution_count": 2,
   "metadata": {},
   "outputs": [
    {
     "data": {
      "text/plain": [
       "array([[1, 2, 3],\n",
       "       [4, 5, 6]])"
      ]
     },
     "execution_count": 2,
     "metadata": {},
     "output_type": "execute_result"
    }
   ],
   "source": [
    "example_array = np.array([[1, 2, 3], [4, 5, 6]])\n",
    "example_array"
   ]
  },
  {
   "cell_type": "markdown",
   "metadata": {},
   "source": [
    "This array has two rows and three columns. As you would in Python, you can access a specific element in the array like this:"
   ]
  },
  {
   "cell_type": "code",
   "execution_count": 3,
   "metadata": {},
   "outputs": [
    {
     "data": {
      "text/plain": [
       "6"
      ]
     },
     "execution_count": 3,
     "metadata": {},
     "output_type": "execute_result"
    }
   ],
   "source": [
    "example_array[1][2]"
   ]
  },
  {
   "cell_type": "markdown",
   "metadata": {},
   "source": [
    "In NumPy, you can also provide both the row and column at once like this:"
   ]
  },
  {
   "cell_type": "code",
   "execution_count": 4,
   "metadata": {},
   "outputs": [
    {
     "data": {
      "text/plain": [
       "6"
      ]
     },
     "execution_count": 4,
     "metadata": {},
     "output_type": "execute_result"
    }
   ],
   "source": [
    "example_array[1, 2]"
   ]
  },
  {
   "cell_type": "markdown",
   "metadata": {},
   "source": [
    "You can also access a range of elements at once:"
   ]
  },
  {
   "cell_type": "code",
   "execution_count": 5,
   "metadata": {},
   "outputs": [
    {
     "data": {
      "text/plain": [
       "array([[2, 3],\n",
       "       [5, 6]])"
      ]
     },
     "execution_count": 5,
     "metadata": {},
     "output_type": "execute_result"
    }
   ],
   "source": [
    "example_array[:, 1:]"
   ]
  },
  {
   "cell_type": "markdown",
   "metadata": {},
   "source": [
    "Notice that `:` by itself will give you the whole range of the row or column so you don't need to know the size of the array.\n",
    "\n",
    "You can technically take the length of an array as you would a list:"
   ]
  },
  {
   "cell_type": "code",
   "execution_count": 6,
   "metadata": {},
   "outputs": [
    {
     "data": {
      "text/plain": [
       "2"
      ]
     },
     "execution_count": 6,
     "metadata": {},
     "output_type": "execute_result"
    }
   ],
   "source": [
    "len(example_array)"
   ]
  },
  {
   "cell_type": "markdown",
   "metadata": {},
   "source": [
    "But notice you'll only get the number of rows. No matter how many dimensions an array has, you can get the size in each dimension like this:"
   ]
  },
  {
   "cell_type": "code",
   "execution_count": 7,
   "metadata": {},
   "outputs": [
    {
     "data": {
      "text/plain": [
       "(2, 3)"
      ]
     },
     "execution_count": 7,
     "metadata": {},
     "output_type": "execute_result"
    }
   ],
   "source": [
    "example_array.shape"
   ]
  },
  {
   "cell_type": "markdown",
   "metadata": {},
   "source": [
    "In Python, a list can mix different types, but in NumPy, all elements of an array must have the same type. The type of the array's elements can be found like this:"
   ]
  },
  {
   "cell_type": "code",
   "execution_count": 8,
   "metadata": {},
   "outputs": [
    {
     "data": {
      "text/plain": [
       "dtype('int64')"
      ]
     },
     "execution_count": 8,
     "metadata": {},
     "output_type": "execute_result"
    }
   ],
   "source": [
    "example_array.dtype"
   ]
  },
  {
   "cell_type": "markdown",
   "metadata": {},
   "source": [
    "In this array, each element is of type `int64`, which refers to a 64-bit signed integer, which can have any value between $-2^{63}$ and $2^{63} - 1$ (inclusive). For a list of available built-in types, see [this list](https://docs.scipy.org/doc/numpy/reference/arrays.scalars.html#arrays-scalars-built-in). You can also define your own data type, but you should only do so when none of the built-in types work for your needs. You can read more about data types [here](https://docs.scipy.org/doc/numpy/reference/arrays.dtypes.html).\n",
    "\n",
    "When you use `np.array`, you can set the `dtype` of the array by adding `dtype=\"foo\"` to the function call (where `foo` is replaced with the appropriate value. This might be helpful, for example, if your array is supposed to represent something like population counts. By default, the `dtype` of integer arrays on modern systems is often `int64`:"
   ]
  },
  {
   "cell_type": "code",
   "execution_count": 9,
   "metadata": {},
   "outputs": [
    {
     "data": {
      "text/plain": [
       "dtype('int64')"
      ]
     },
     "execution_count": 9,
     "metadata": {},
     "output_type": "execute_result"
    }
   ],
   "source": [
    "np.array([1402291520, 1361261670, 329549922, 266911900, 219346520]).dtype"
   ]
  },
  {
   "cell_type": "markdown",
   "metadata": {},
   "source": [
    "But for representing population counts, it makes sense to use a `dtype` of `uint64`, which does not allow negative values. Since populations can't ever be negative, this is a reasonable thing to do."
   ]
  },
  {
   "cell_type": "code",
   "execution_count": 10,
   "metadata": {},
   "outputs": [
    {
     "data": {
      "text/plain": [
       "dtype('uint64')"
      ]
     },
     "execution_count": 10,
     "metadata": {},
     "output_type": "execute_result"
    }
   ],
   "source": [
    "top_populations = np.array([1402291520, 1361261670, 329549922, 266911900, 219346520], dtype='uint64')\n",
    "top_populations.dtype"
   ]
  },
  {
   "cell_type": "markdown",
   "metadata": {},
   "source": [
    "But be aware that the default `dtype` depends on what machine you are running on. You might end up with `int32` as the default type on older systems or smaller hardware like a Raspberry Pi, so you should be careful about what assumptions you make. You could also just be explicit about the `dtype` if it's crucial and you want to be safe."
   ]
  },
  {
   "cell_type": "markdown",
   "metadata": {},
   "source": [
    "### Working with Arrays"
   ]
  },
  {
   "cell_type": "markdown",
   "metadata": {},
   "source": [
    "You can do basic arithmetic operations on arrays as if they were scalar numbers:"
   ]
  },
  {
   "cell_type": "code",
   "execution_count": 11,
   "metadata": {},
   "outputs": [
    {
     "data": {
      "text/plain": [
       "array([[2, 3, 4],\n",
       "       [5, 6, 7]])"
      ]
     },
     "execution_count": 11,
     "metadata": {},
     "output_type": "execute_result"
    }
   ],
   "source": [
    "example_array + 1"
   ]
  },
  {
   "cell_type": "code",
   "execution_count": 12,
   "metadata": {},
   "outputs": [
    {
     "data": {
      "text/plain": [
       "array([[0.5, 1. , 1.5],\n",
       "       [2. , 2.5, 3. ]])"
      ]
     },
     "execution_count": 12,
     "metadata": {},
     "output_type": "execute_result"
    }
   ],
   "source": [
    "example_array / 2"
   ]
  },
  {
   "cell_type": "markdown",
   "metadata": {},
   "source": [
    "In the second example, notice that the values of the arrays are floats rather than integers. When you see `1.` written with the decimal point after it, that indicates that it's a float. Specifically, it's a 64-bit float:"
   ]
  },
  {
   "cell_type": "code",
   "execution_count": 13,
   "metadata": {},
   "outputs": [
    {
     "data": {
      "text/plain": [
       "dtype('float64')"
      ]
     },
     "execution_count": 13,
     "metadata": {},
     "output_type": "execute_result"
    }
   ],
   "source": [
    "(example_array / 2).dtype"
   ]
  },
  {
   "cell_type": "markdown",
   "metadata": {},
   "source": [
    "Perhaps strangely, you can also compare arrays to scalars:"
   ]
  },
  {
   "cell_type": "code",
   "execution_count": 14,
   "metadata": {},
   "outputs": [
    {
     "data": {
      "text/plain": [
       "array([[False,  True,  True],\n",
       "       [ True,  True,  True]])"
      ]
     },
     "execution_count": 14,
     "metadata": {},
     "output_type": "execute_result"
    }
   ],
   "source": [
    "example_array > 1"
   ]
  },
  {
   "cell_type": "markdown",
   "metadata": {},
   "source": [
    "As you can see, this returns an array of boolean values with the same shape as the array. Each value of `True` or `False` indicates whether the corresponding value in `example_array` matches the comparison.\n",
    "\n",
    "If you pass an array of booleans like this as an index to an array, you can get only the values that correspond to `True`:"
   ]
  },
  {
   "cell_type": "code",
   "execution_count": 15,
   "metadata": {},
   "outputs": [
    {
     "data": {
      "text/plain": [
       "array([2, 3, 4, 5, 6])"
      ]
     },
     "execution_count": 15,
     "metadata": {},
     "output_type": "execute_result"
    }
   ],
   "source": [
    "larger_than_one = example_array > 1\n",
    "example_array[larger_than_one]"
   ]
  },
  {
   "cell_type": "markdown",
   "metadata": {},
   "source": [
    "Notice that the values are returned in a single row because this filtering would otherwise break the array's shape.\n",
    "\n",
    "If you want to combine multiple conditions, you need to use `&` and `|` for `and` and `or` respectively, and surround each condition in parentheses:"
   ]
  },
  {
   "cell_type": "code",
   "execution_count": 16,
   "metadata": {},
   "outputs": [
    {
     "data": {
      "text/plain": [
       "array([[False,  True,  True],\n",
       "       [ True,  True, False]])"
      ]
     },
     "execution_count": 16,
     "metadata": {},
     "output_type": "execute_result"
    }
   ],
   "source": [
    "(example_array > 1) & (example_array < 6)"
   ]
  },
  {
   "cell_type": "markdown",
   "metadata": {},
   "source": [
    "There are a few quirks you should be aware of in NumPy. First, note that in computing in general, floating-point numbers can have some odd and unexpected behavior:"
   ]
  },
  {
   "cell_type": "code",
   "execution_count": 17,
   "metadata": {},
   "outputs": [
    {
     "data": {
      "text/plain": [
       "0.30000000000000004"
      ]
     },
     "execution_count": 17,
     "metadata": {},
     "output_type": "execute_result"
    }
   ],
   "source": [
    "0.1 + 0.2"
   ]
  },
  {
   "cell_type": "markdown",
   "metadata": {},
   "source": [
    "This is because of rounding errors in the bit-level representation of these numbers. This can lead to some odd behavior. For example, `np.arange` is a function that behaves similarly to the `range` function in Python, but returns an array:"
   ]
  },
  {
   "cell_type": "code",
   "execution_count": 18,
   "metadata": {},
   "outputs": [
    {
     "data": {
      "text/plain": [
       "array([0, 1, 2, 3, 4, 5, 6, 7, 8, 9])"
      ]
     },
     "execution_count": 18,
     "metadata": {},
     "output_type": "execute_result"
    }
   ],
   "source": [
    "np.arange(0, 10, 1)"
   ]
  },
  {
   "cell_type": "markdown",
   "metadata": {},
   "source": [
    "But when you use this function with non-integer values, you can get some unexpected results, as the [documentation](https://docs.scipy.org/doc/numpy/reference/generated/numpy.arange.html) warns:"
   ]
  },
  {
   "cell_type": "code",
   "execution_count": 19,
   "metadata": {},
   "outputs": [
    {
     "data": {
      "text/plain": [
       "array([8.  , 8.05, 8.1 , 8.15, 8.2 , 8.25, 8.3 ])"
      ]
     },
     "execution_count": 19,
     "metadata": {},
     "output_type": "execute_result"
    }
   ],
   "source": [
    "np.arange(8, 8.35, 0.05)"
   ]
  },
  {
   "cell_type": "markdown",
   "metadata": {},
   "source": [
    "Seems like the expected behavior, but see what happens when we change the upper limit slightly:"
   ]
  },
  {
   "cell_type": "code",
   "execution_count": 20,
   "metadata": {},
   "outputs": [
    {
     "data": {
      "text/plain": [
       "array([8.  , 8.05, 8.1 , 8.15, 8.2 , 8.25, 8.3 , 8.35, 8.4 ])"
      ]
     },
     "execution_count": 20,
     "metadata": {},
     "output_type": "execute_result"
    }
   ],
   "source": [
    "np.arange(8, 8.4, 0.05)"
   ]
  },
  {
   "cell_type": "markdown",
   "metadata": {},
   "source": [
    "Another odd quirk has to do with `np.nan` (which stands for *not a number*), which is a placeholder value for invalid values. **Be aware that running the following code cell will produce warnings; it's fine to ignore them in this case.**"
   ]
  },
  {
   "cell_type": "code",
   "execution_count": 21,
   "metadata": {},
   "outputs": [
    {
     "name": "stderr",
     "output_type": "stream",
     "text": [
      "/usr/lib/python3/dist-packages/ipykernel_launcher.py:2: RuntimeWarning: divide by zero encountered in log\n",
      "  \n",
      "/usr/lib/python3/dist-packages/ipykernel_launcher.py:2: RuntimeWarning: invalid value encountered in log\n",
      "  \n"
     ]
    },
    {
     "data": {
      "text/plain": [
       "array([ nan, -inf,   0.])"
      ]
     },
     "execution_count": 21,
     "metadata": {},
     "output_type": "execute_result"
    }
   ],
   "source": [
    "nan_example = np.array([-1, 0, 1])\n",
    "np.log(nan_example)"
   ]
  },
  {
   "cell_type": "markdown",
   "metadata": {},
   "source": [
    "We can see here that we got three different values. Taking the logarithm of 1 is always 0, which we can see in the third element. Taking the logarithm of 0 is not defined in math, but works out to an infinitely small value, which we represent as negative infinity (`-inf`) as seen in the second element. Finally, it doesn't make sense to take the logarithm of a negative number, so we get `nan` (if you're used to other languages like MATLAB, you can also use `NaN`).\n",
    "\n",
    "Somewhat unintuitively, `nan` and `-inf` both evaluate to `True`:"
   ]
  },
  {
   "cell_type": "code",
   "execution_count": 22,
   "metadata": {},
   "outputs": [
    {
     "data": {
      "text/plain": [
       "True"
      ]
     },
     "execution_count": 22,
     "metadata": {},
     "output_type": "execute_result"
    }
   ],
   "source": [
    "bool(np.nan) and bool(np.inf) and bool(-np.inf)"
   ]
  },
  {
   "cell_type": "markdown",
   "metadata": {},
   "source": [
    "You should be aware that both in NumPy and in Python, *any non-zero numeric value* evaluates to `True`."
   ]
  },
  {
   "cell_type": "markdown",
   "metadata": {},
   "source": [
    "Finally, you should know that NumPy provides a variety of functions that work on entire arrays, and it's best to use these rather than iterating through the values of the array. Under the hood, NumPy arrays are implemented in the C programming language, which makes them much faster than a `for` loop in Python.\n",
    "\n",
    "To see this, consider the following functions to count the number of even integers in an array:"
   ]
  },
  {
   "cell_type": "code",
   "execution_count": 23,
   "metadata": {},
   "outputs": [],
   "source": [
    "def count_evens_numpy(array):\n",
    "    return array[array % 2 == 0].size\n",
    "\n",
    "\n",
    "def count_evens_python(array):\n",
    "    num_evens = 0\n",
    "    for element in np.nditer(array):\n",
    "        if element % 2 == 0:\n",
    "            num_evens += 1\n",
    "    return num_evens"
   ]
  },
  {
   "cell_type": "markdown",
   "metadata": {},
   "source": [
    "To test this, we can generate an array of 100 random integers:"
   ]
  },
  {
   "cell_type": "code",
   "execution_count": 24,
   "metadata": {},
   "outputs": [],
   "source": [
    "test_array = np.random.randint(1, 100, (1, 100))"
   ]
  },
  {
   "cell_type": "markdown",
   "metadata": {},
   "source": [
    "Now we can compare the speeds:"
   ]
  },
  {
   "cell_type": "code",
   "execution_count": 25,
   "metadata": {},
   "outputs": [
    {
     "name": "stdout",
     "output_type": "stream",
     "text": [
      "NumPy: 0.028 seconds for 10000 iterations\n",
      "Python: 0.94 seconds for 10000 iterations (33.3x slower)\n"
     ]
    }
   ],
   "source": [
    "import timeit\n",
    "num_iterations=10000\n",
    "numpy_time = timeit.timeit(lambda: count_evens_numpy(test_array), number=num_iterations)\n",
    "python_time = timeit.timeit(lambda: count_evens_python(test_array), number=num_iterations)\n",
    "print(f\"NumPy: {numpy_time:.2} seconds for {num_iterations} iterations\")\n",
    "print(f\"Python: {python_time:.2} seconds for {num_iterations} iterations ({python_time/numpy_time:.3}x slower)\")"
   ]
  },
  {
   "cell_type": "markdown",
   "metadata": {},
   "source": [
    "### Useful Array Functions"
   ]
  },
  {
   "cell_type": "markdown",
   "metadata": {},
   "source": [
    "Arrays in NumPy offer a variety of useful functions. Some of the more commonly used ones are listed below. The documentation is linked for each, and you are recommended to explore their specifics.\n",
    "\n",
    "* `all`: return whether all elements of the array evaluate to `True`. `any` is the same but only requires one element to be `True`. [Doc](https://docs.scipy.org/doc/numpy/reference/generated/numpy.all.html)\n",
    "* `argmax`: find the argument (index) producing the maximum value. `argmin` is the same but for the minimum value. [Doc](https://docs.scipy.org/doc/numpy/reference/generated/numpy.argmax.html)\n",
    "* `copy`: make a copy of an array. [Doc](https://docs.scipy.org/doc/numpy/reference/generated/numpy.ndarray.copy.html)\n",
    "* `fill`: fill an array with a value. [Doc](https://docs.scipy.org/doc/numpy/reference/generated/numpy.ndarray.fill.html)\n",
    "* `flatten`: turn a multi-dimensional array into a single-dimensional version. [Doc](https://docs.scipy.org/doc/numpy/reference/generated/numpy.ndarray.flatten.html)\n",
    "* `linspace`: return a set of evenly-spaced numbers as an array (more consistently than `arange`). [Doc](https://docs.scipy.org/doc/numpy/reference/generated/numpy.linspace.html)\n",
    "* `max`: find the maximum value of an array. `min` is the same but for the minimum value. [Doc](https://docs.scipy.org/doc/numpy/reference/generated/numpy.ndarray.max.html)\n",
    "* `mean`: find the mean/average of an array. [Doc](https://docs.scipy.org/doc/numpy/reference/generated/numpy.ndarray.mean.html)\n",
    "* `polyfit`: fit a polynomial function to an array of $x$- and $y$-values. [Doc](https://docs.scipy.org/doc/numpy/reference/generated/numpy.polyfit.html)\n",
    "* `reshape`: change an array's shape. [Doc](https://docs.scipy.org/doc/numpy/reference/generated/numpy.reshape.html)\n",
    "* `sort`: sort the values in an array. [Doc](https://docs.scipy.org/doc/numpy/reference/generated/numpy.ndarray.sort.html)\n",
    "* `std`: find the standard deviation of an array. [Doc](https://docs.scipy.org/doc/numpy/reference/generated/numpy.std.html)\n",
    "* `sum`: add the values in an array. [Doc](https://docs.scipy.org/doc/numpy/reference/generated/numpy.sum.html)\n",
    "* `tolist`: turn an array into an equivalent set of Python lists. [Doc](https://docs.scipy.org/doc/numpy/reference/generated/numpy.ndarray.tolist.html)\n",
    "* `transpose`: flip the axes of an array. [Doc](https://docs.scipy.org/doc/numpy/reference/generated/numpy.ndarray.transpose.html)\n",
    "* `var`: find the variance of an array. [Doc](https://docs.scipy.org/doc/numpy/reference/generated/numpy.var.html)\n",
    "\n",
    "Note that most of these functions come in two versions: one that is a method of an array (`example_array.sum`) and one that takes the array as an argument (`np.sum(example_array)`). Use whichever one is convenient to you, but be aware of the differences and try to be consistent.\n",
    "\n",
    "Also note that many of the functions allow you to specify a dimension or *axis* along which to apply the function."
   ]
  },
  {
   "cell_type": "markdown",
   "metadata": {},
   "source": [
    "### Exercise: Playing with Dice"
   ]
  },
  {
   "cell_type": "markdown",
   "metadata": {},
   "source": [
    "The following exercises are designed to give you practice with array functions."
   ]
  },
  {
   "cell_type": "markdown",
   "metadata": {},
   "source": [
    "Now consider the following list of lists in Python, which represents the possible combinations of rolling a pair of dice."
   ]
  },
  {
   "cell_type": "code",
   "execution_count": 26,
   "metadata": {},
   "outputs": [],
   "source": [
    "dice_rolls = []\n",
    "for i in range(6):\n",
    "    for j in range(6):\n",
    "        dice_rolls.append([i + 1, j + 1])"
   ]
  },
  {
   "cell_type": "markdown",
   "metadata": {},
   "source": [
    "So the array looks like this:"
   ]
  },
  {
   "cell_type": "code",
   "execution_count": 27,
   "metadata": {},
   "outputs": [
    {
     "data": {
      "text/plain": [
       "array([[1, 1],\n",
       "       [1, 2],\n",
       "       [1, 3],\n",
       "       [1, 4],\n",
       "       [1, 5],\n",
       "       [1, 6],\n",
       "       [2, 1],\n",
       "       [2, 2],\n",
       "       [2, 3],\n",
       "       [2, 4],\n",
       "       [2, 5],\n",
       "       [2, 6],\n",
       "       [3, 1],\n",
       "       [3, 2],\n",
       "       [3, 3],\n",
       "       [3, 4],\n",
       "       [3, 5],\n",
       "       [3, 6],\n",
       "       [4, 1],\n",
       "       [4, 2],\n",
       "       [4, 3],\n",
       "       [4, 4],\n",
       "       [4, 5],\n",
       "       [4, 6],\n",
       "       [5, 1],\n",
       "       [5, 2],\n",
       "       [5, 3],\n",
       "       [5, 4],\n",
       "       [5, 5],\n",
       "       [5, 6],\n",
       "       [6, 1],\n",
       "       [6, 2],\n",
       "       [6, 3],\n",
       "       [6, 4],\n",
       "       [6, 5],\n",
       "       [6, 6]])"
      ]
     },
     "execution_count": 27,
     "metadata": {},
     "output_type": "execute_result"
    }
   ],
   "source": [
    "dice_roll_array = np.array(dice_rolls)\n",
    "dice_roll_array"
   ]
  },
  {
   "cell_type": "markdown",
   "metadata": {},
   "source": [
    "Use NumPy functions to calculate the following:"
   ]
  },
  {
   "cell_type": "markdown",
   "metadata": {},
   "source": [
    "* The average total dice roll.\n",
    "\n",
    "#### Answer"
   ]
  },
  {
   "cell_type": "code",
   "execution_count": 28,
   "metadata": {},
   "outputs": [
    {
     "name": "stdout",
     "output_type": "stream",
     "text": [
      "7.0\n"
     ]
    }
   ],
   "source": [
    "sum_roll = np.sum(dice_roll_array, axis = 1)\n",
    "avg_total = np.mean(sum_roll)\n",
    "print(avg_total)"
   ]
  },
  {
   "cell_type": "markdown",
   "metadata": {},
   "source": [
    "* The probability of rolling a total higher than 6 (not including 6).\n",
    "\n",
    "#### Answer"
   ]
  },
  {
   "cell_type": "code",
   "execution_count": 29,
   "metadata": {},
   "outputs": [
    {
     "name": "stdout",
     "output_type": "stream",
     "text": [
      "0.5833333333333334\n"
     ]
    }
   ],
   "source": [
    "prob_greater_6 = len(sum_roll[sum_roll>6])/len(sum_roll)\n",
    "print(prob_greater_6)"
   ]
  },
  {
   "cell_type": "markdown",
   "metadata": {},
   "source": [
    "* How the standard deviation of the total dice roll compares to the standard deviation of rolling a single die.\n",
    "\n",
    "#### Answer"
   ]
  },
  {
   "cell_type": "code",
   "execution_count": 30,
   "metadata": {},
   "outputs": [
    {
     "name": "stdout",
     "output_type": "stream",
     "text": [
      "Standard Deviation for the total dice roll is  2.41522945769824\n",
      "Standard Deviation for a single dice is  1.707825127659933\n"
     ]
    }
   ],
   "source": [
    "std_total_dice_roll = np.std(sum_roll)\n",
    "std_one_dice_roll = np.std([1,2,3,4,5,6])\n",
    "print(\"Standard Deviation for the total dice roll is \", std_total_dice_roll)\n",
    "print(\"Standard Deviation for a single dice is \", std_one_dice_roll)"
   ]
  },
  {
   "cell_type": "markdown",
   "metadata": {},
   "source": [
    "### Exercise: Transforming Arrays"
   ]
  },
  {
   "cell_type": "markdown",
   "metadata": {},
   "source": [
    "Below is a Python list of numbers under 1000 that only contain 0, 1, or 2 as digits."
   ]
  },
  {
   "cell_type": "code",
   "execution_count": 31,
   "metadata": {},
   "outputs": [],
   "source": [
    "ternary_digits = [0, 1, 2, 10, 11, 12, 20, 21, 22,\n",
    "                  100, 101, 102, 110, 111, 112, 120, 121, 122,\n",
    "                  200, 201, 202, 210, 211, 212, 220, 221, 222]"
   ]
  },
  {
   "cell_type": "markdown",
   "metadata": {},
   "source": [
    "Suppose we turn this list into a 3 x 3 x 3 NumPy array, transpose it, and turn it back into a single Python list. What will that list be?\n",
    "\n",
    "For this question, it's helpful to try to do operations one at a time. So for example, you might write\n",
    "\n",
    "```python\n",
    "single_row_array = numpy.array([1, 2, 3])\n",
    "single_column_array = single_row_array.transpose()\n",
    "# etc...\n",
    "```\n",
    "\n",
    "Writing your code this way will make it easier to check that each step is correct."
   ]
  },
  {
   "cell_type": "markdown",
   "metadata": {},
   "source": [
    "#### Answer"
   ]
  },
  {
   "cell_type": "code",
   "execution_count": 32,
   "metadata": {},
   "outputs": [
    {
     "name": "stdout",
     "output_type": "stream",
     "text": [
      "[[[  0   1   2]\n",
      "  [ 10  11  12]\n",
      "  [ 20  21  22]]\n",
      "\n",
      " [[100 101 102]\n",
      "  [110 111 112]\n",
      "  [120 121 122]]\n",
      "\n",
      " [[200 201 202]\n",
      "  [210 211 212]\n",
      "  [220 221 222]]]\n",
      "\n",
      " [[[  0 100 200]\n",
      "  [ 10 110 210]\n",
      "  [ 20 120 220]]\n",
      "\n",
      " [[  1 101 201]\n",
      "  [ 11 111 211]\n",
      "  [ 21 121 221]]\n",
      "\n",
      " [[  2 102 202]\n",
      "  [ 12 112 212]\n",
      "  [ 22 122 222]]]\n",
      "\n",
      " [  0 100 200  10 110 210  20 120 220   1 101 201  11 111 211  21 121 221\n",
      "   2 102 202  12 112 212  22 122 222]\n"
     ]
    }
   ],
   "source": [
    "three_d_array = np.reshape(ternary_digits,(3,3,3))\n",
    "print(three_d_array)\n",
    "transposed_3d = three_d_array.transpose()\n",
    "print(\"\\n\",transposed_3d)\n",
    "single_list = np.reshape(transposed_3d,(27))\n",
    "print(\"\\n\",single_list)\n"
   ]
  },
  {
   "cell_type": "markdown",
   "metadata": {},
   "source": [
    "### Further Reading"
   ]
  },
  {
   "cell_type": "markdown",
   "metadata": {},
   "source": [
    "If you are interested in more features of NumPy, you can check out the [Quickstart Guide](https://docs.scipy.org/doc/numpy/user/quickstart.html). Be warned that is is quite long - the above is intended to be a condensed version of it."
   ]
  },
  {
   "cell_type": "markdown",
   "metadata": {},
   "source": [
    "## Pandas"
   ]
  },
  {
   "cell_type": "markdown",
   "metadata": {},
   "source": [
    "Pandas is a library for working with and analyzing data in various formats. Pandas contains two classes, *series* and *data frames*, that make it quite easy to work with structured data. Pandas also provides several convenience functions that make it straightforward to create and work with these classes.\n",
    "\n",
    "A very high-level way of thinking about the Pandas data structures is that a series represents a single column of data and a data frame represents a spreadsheet-like table of data. As you might expect from a spreadsheet, it is possible to name or otherwise index the rows and columns. You can then work with the data using these names.\n",
    "\n",
    "While we could try to reinvent the wheel and explain the different features of Pandas, their tutorials are excellent, and so we will link the relevant ones here:\n",
    "\n",
    "* [What kind of data does Pandas handle?](https://pandas.pydata.org/docs/getting_started/intro_tutorials/01_table_oriented.html)\n",
    "* [How do I read and write tabular data?](https://pandas.pydata.org/docs/getting_started/intro_tutorials/02_read_write.html)\n",
    "* [How do I select a subset of a DataFrame?](https://pandas.pydata.org/docs/getting_started/intro_tutorials/03_subset_data.html)\n",
    "* [How to create new columns derived from existing columns?](https://pandas.pydata.org/docs/getting_started/intro_tutorials/05_add_columns.html)\n",
    "* [How to calculate summary statistics?](https://pandas.pydata.org/docs/getting_started/intro_tutorials/06_calculate_statistics.html)\n",
    "\n",
    "Feel free to read the other tutorial pages as well, but the ones above are especially helpful for learning the basics of working with Pandas."
   ]
  },
  {
   "cell_type": "markdown",
   "metadata": {},
   "source": [
    "## Exercise: Average Flight Time"
   ]
  },
  {
   "cell_type": "markdown",
   "metadata": {},
   "source": [
    "This exercise is designed to give you some practice in working with data frames."
   ]
  },
  {
   "cell_type": "markdown",
   "metadata": {},
   "source": [
    "In the code below, `flight_data` is a string representing the location of the data file you will use for this exercise. It contains data for flights on United Airlines in February 2019, which consists of an origin and destination airport code, the number of passengers carried (across all flights from the origin to destination in that month), and the total time spent in the air from the origin to destination (in minutes)."
   ]
  },
  {
   "cell_type": "code",
   "execution_count": 33,
   "metadata": {},
   "outputs": [],
   "source": [
    "import os\n",
    "data_folder = \"data\"\n",
    "flight_data = os.path.join(data_folder, \"data_science_flight_data.csv\")"
   ]
  },
  {
   "cell_type": "markdown",
   "metadata": {},
   "source": [
    "Your job is to read this data in as a data frame, and create a data frame that ranks the flights from longest to shortest average airtime. Specifically, the data frame should consist of three columns, Origin, Destination, and Average Flight Time, and be sorted from highest to lowest flight time.\n",
    "\n",
    "For estimating the average flight time, you can assume that each flight carries 180 people. (But think about how many flights you need to transport 181 people.)\n",
    "\n",
    "Then, write a few sentences about whether this data makes sense, looking up a few of the airports involved and their approximate flight times. If the results are different from what you expected, take a guess as to why."
   ]
  },
  {
   "cell_type": "markdown",
   "metadata": {},
   "source": [
    "### Answer"
   ]
  },
  {
   "cell_type": "code",
   "execution_count": 34,
   "metadata": {},
   "outputs": [],
   "source": [
    "fd = pd.read_csv(flight_data)\n",
    "\n",
    "a = fd[\"Passengers\"]//180\n",
    "b = fd[\"Passengers\"]%180>0;\n",
    "fd[\"Average Flight Time\"] = (a + b) * fd[\"Airtime\"]\n",
    "\n",
    "fd_sorted = fd.sort_values(by = \"Average Flight Time\",inplace = True, ascending = False)\n",
    "\n",
    "fd_small= pd.DataFrame({\"Origin\":fd[\"Origin\"],\"Destination\": fd[\"Destination\"],\"Average Flight Time\":fd[\"Average Flight Time\"]})\n",
    "#,\"Destination\",\"Average Flight Time\"])\n",
    "#,fd[\"Destination\"],fd[\"Average Flight Time\"])\n",
    "#average_flights = math.ceil(a)\n"
   ]
  },
  {
   "cell_type": "markdown",
   "metadata": {},
   "source": [
    "Overall, this data makes sense. The two airports that get the greatest traffic are the one from San Fransisco to New York, and New York to San Francisco, followed by from Los Angeles to New York, and New York to Los Angeles. As these are very busy airports located at opposite ends of the continental US, this is to be expected. Now if one were to look at the tail end of the chart one might think, 11 minutes for average flight time? That is absurd, there must be an error. Then you might attepmt to find said error, and waste a lot of time before you look up the airports and realize that they are only 21 miles apart. In which case, 11 minutes of average flight time does make sense. Now the fact that there is such a flight does not make sense. Especially when you consider the fact that the total travel time between the two airports, if you were to shuttle to a rental car station and then shuttle to the other airport would be about 1 hour 13 min, including transfer time. That is not even mentioning the possibility of just taking a taxi. "
   ]
  },
  {
   "cell_type": "markdown",
   "metadata": {},
   "source": [
    "## Matplotlib and Pyplot"
   ]
  },
  {
   "cell_type": "markdown",
   "metadata": {},
   "source": [
    "Matplotlib is a plotting library for Python. Its syntax was designed to be realtively similar to the plotting syntax of MATLAB. Pyplot is a part of Matplotlib that is particularly well-suited for interactively working with plots, as you often do in Jupyter notebooks.\n",
    "\n",
    "In this worksheet, we will focus on Pyplot. To make plots show up within the notebook itself, you'll need to run the following code:"
   ]
  },
  {
   "cell_type": "code",
   "execution_count": 35,
   "metadata": {},
   "outputs": [],
   "source": [
    "%matplotlib inline"
   ]
  },
  {
   "cell_type": "markdown",
   "metadata": {},
   "source": [
    "As with Pandas, Matplotlib includes some excellent tutorials, which you should go through to learn about how to use the library. We recommend you read the tutorials below in order:\n",
    "\n",
    "* [Pyplot tutorial](https://matplotlib.org/3.2.1/tutorials/introductory/pyplot.html)\n",
    "* [Usage Guide](https://matplotlib.org/3.2.1/tutorials/introductory/usage.html#sphx-glr-tutorials-introductory-usage-py) (up to, but not including, the \"Backends\" section)\n",
    "* [How to create plots in pandas?](https://pandas.pydata.org/pandas-docs/stable/getting_started/intro_tutorials/04_plotting.html)\n",
    "* [The Lifecycle of a Plot](https://matplotlib.org/3.2.1/tutorials/introductory/lifecycle.html#sphx-glr-tutorials-introductory-lifecycle-py) (optional, but helpful as an example)\n",
    "\n",
    "You may notice that there are differences between Matplotlib's object-oriented style of working with plots and the one used in Pyplot. Again, we will focus on Pyplot for this worksheet, but you should be aware of the other way of doing things, which is often more helpful when writing functions or scripts to do the plotting."
   ]
  },
  {
   "cell_type": "markdown",
   "metadata": {},
   "source": [
    "### Plotting Tips"
   ]
  },
  {
   "cell_type": "markdown",
   "metadata": {},
   "source": [
    "Though the tutorials above explain a good deal about how to create and work with plots, they don't say much about what actually makes a good plot.\n",
    "\n",
    "Below, we provide a few helpful guidelines in how to design a good plot."
   ]
  },
  {
   "cell_type": "markdown",
   "metadata": {},
   "source": [
    "#### What's Your Point?"
   ]
  },
  {
   "cell_type": "markdown",
   "metadata": {},
   "source": [
    "By far the most important thing to know as when you design and create a plot is the point you are trying to make.\n",
    "\n",
    "Here is a set of two plots from the Pyplot tutorial:"
   ]
  },
  {
   "cell_type": "code",
   "execution_count": 36,
   "metadata": {},
   "outputs": [
    {
     "data": {
      "image/png": "[encoded data removed]",
      "text/plain": [
       "<Figure size 432x288 with 2 Axes>"
      ]
     },
     "metadata": {},
     "output_type": "display_data"
    }
   ],
   "source": [
    "def f(t):\n",
    "    return np.exp(-t) * np.cos(2*np.pi*t)\n",
    "\n",
    "t1 = np.arange(0.0, 5.0, 0.1)\n",
    "t2 = np.arange(0.0, 5.0, 0.02)\n",
    "\n",
    "plt.figure()\n",
    "plt.subplot(211)\n",
    "plt.plot(t1, f(t1), 'bo', t2, f(t2), 'k')\n",
    "\n",
    "plt.subplot(212)\n",
    "plt.plot(t2, np.cos(2*np.pi*t2), 'r--')\n",
    "plt.show()"
   ]
  },
  {
   "cell_type": "markdown",
   "metadata": {},
   "source": [
    "We don't know the point this graphic is trying to make for a number of reasons: (1) we have no idea what the numbers on the $x$ or $y$ axis represent, (2) the plot doesn't have a title, so we don't know what the overall plot is of, and (3) we don't have the context, so we don't know why we are seeing this plot.\n",
    "\n",
    "**The purpose of a plot is to provide evidence or support for a claim you make.** So for example, suppose that you have two swings, one of which is rusty, and claim that the rusty swing stops earlier than the other. You could conduct an experiment to analyze this: sit the same person on each swing in turn, start them forward of center, and release them, tracking their distance from the normal hanging center of the swing over time. Then, saying that the blue plot represents the position of the person in the more rusted swing over time gives more credibility to your claim.\n",
    "\n",
    "In general, always explain the point of your plots with proper context, especially when making them publicly accessible."
   ]
  },
  {
   "cell_type": "markdown",
   "metadata": {},
   "source": [
    "#### Detail Your Plots"
   ]
  },
  {
   "cell_type": "markdown",
   "metadata": {},
   "source": [
    "While we now know what the point of the above plot is, we still don't know some key details. How heavy was the person sitting in the swing? How long did you track their position for? Is their position measured in feet, inches, or meters?\n",
    "\n",
    "To make sure that the plot effectively provides evidence for a claim, this type of information is necessary. However, not all of it has to be included in the plot itself. Typically, it's best if the plot includes a title and labeled axes, like this:"
   ]
  },
  {
   "cell_type": "code",
   "execution_count": 37,
   "metadata": {},
   "outputs": [
    {
     "data": {
      "image/png": "[encoded data removed]",
      "text/plain": [
       "<Figure size 432x288 with 2 Axes>"
      ]
     },
     "metadata": {},
     "output_type": "display_data"
    }
   ],
   "source": [
    "X_LABEL = \"Time (s)\"\n",
    "Y_LABEL = \"Dist. from center (m)\"\n",
    "TITLE = \"{} swing position with 68kg person\"\n",
    "\n",
    "plt.figure()\n",
    "plt.subplot(211)\n",
    "plt.title(TITLE.format(\"Rusty\"))\n",
    "plt.plot(t1, f(t1), 'bo', t2, f(t2), 'k')\n",
    "plt.xlabel(X_LABEL)\n",
    "plt.ylabel(Y_LABEL)\n",
    "\n",
    "plt.subplot(212)\n",
    "plt.title(TITLE.format(\"Normal\"))\n",
    "plt.plot(t2, np.cos(2*np.pi*t2), 'r--')\n",
    "plt.xlabel(X_LABEL)\n",
    "plt.ylabel(Y_LABEL)\n",
    "\n",
    "plt.subplots_adjust(hspace=0.6)\n",
    "plt.show()"
   ]
  },
  {
   "cell_type": "markdown",
   "metadata": {},
   "source": [
    "It's important to show both the quantity represented and the units when labeling axes. (The exception is if the quantity has no units.) Also, the titles clearly indicate which plot is which and what the plot represents."
   ]
  },
  {
   "cell_type": "markdown",
   "metadata": {},
   "source": [
    "#### Explain the Plot"
   ]
  },
  {
   "cell_type": "markdown",
   "metadata": {},
   "source": [
    "Beyond properly labeling the plots and making a point, it's important to highlight the important parts of the plot so it's clear how the plot provides evidence for your point. Don't assume that the reader will just make the connection on their own. For example, you might write the following after showing the plot above:\n",
    "\n",
    "> Figure X shows the positions of the two swings over time. As we can see, the rusty swing shows a clear decrease in the distance from the center over time, with the peak distance at less than 50cm from the center at 1 second. The normal swing, on the other hand, has almost the same distance (if not the same) even at 5 seconds, when the rusty swing has almost stopped moving.\n",
    "\n",
    "This explanation makes it very clear how the plot connects with your claim, and the plot itself includes enough precise information to effectively back up your claim."
   ]
  },
  {
   "cell_type": "markdown",
   "metadata": {},
   "source": [
    "### Exercise: Tell a Story with a Plot"
   ]
  },
  {
   "cell_type": "markdown",
   "metadata": {},
   "source": [
    "In this exercise, you will get some practice with Pyplot as well as the plotting principles discussed above.\n",
    "\n",
    "Choose some data, either from this worksheet or from one of your previous projects. Make a claim about this data. Then create a plot of the data, including a title, axis labels, and an explanation of how the plot connects to and supports your claim."
   ]
  },
  {
   "cell_type": "markdown",
   "metadata": {},
   "source": [
    "The total number of passengers is directly correlated to the airtime.\n",
    "\n",
    "The plot connects to my claim as it plots the airtime in relation to the total number of passengers for the flight. It supports that claim as the data plotted illustrates the weak positive correlation between the total number of passengers and the total airtime."
   ]
  },
  {
   "cell_type": "code",
   "execution_count": 38,
   "metadata": {},
   "outputs": [
    {
     "data": {
      "text/plain": [
       "Text(0, 0.5, 'Total Airtime (minutes)')"
      ]
     },
     "execution_count": 38,
     "metadata": {},
     "output_type": "execute_result"
    },
    {
     "data": {
      "image/png": "[encoded data removed]",
      "text/plain": [
       "<Figure size 432x288 with 1 Axes>"
      ]
     },
     "metadata": {},
     "output_type": "display_data"
    }
   ],
   "source": [
    "plt.figure()\n",
    "plt.title(\"Number of Passengers vs Airtime\")\n",
    "plt.plot(fd[\"Passengers\"],fd[\"Airtime\"], \"bo\")\n",
    "plt.xlabel(\"Total Number of Passengers\")\n",
    "plt.ylabel(\"Total Airtime (minutes)\")"
   ]
  },
  {
   "cell_type": "markdown",
   "metadata": {},
   "source": [
    "## Exercise: Mystery Datasets"
   ]
  },
  {
   "cell_type": "markdown",
   "metadata": {},
   "source": [
    "In this exercise, you will analyze four datasets using various techniques.\n",
    "\n",
    "The locations of the files are defined below for your convenience."
   ]
  },
  {
   "cell_type": "code",
   "execution_count": 39,
   "metadata": {},
   "outputs": [],
   "source": [
    "import os\n",
    "data_folder = \"data\"\n",
    "file_1 = os.path.join(data_folder, \"data_science_1.csv\")\n",
    "file_2 = os.path.join(data_folder, \"data_science_2.csv\")\n",
    "file_3 = os.path.join(data_folder, \"data_science_3.csv\")\n",
    "file_4 = os.path.join(data_folder, \"data_science_4.csv\")"
   ]
  },
  {
   "cell_type": "code",
   "execution_count": 40,
   "metadata": {},
   "outputs": [
    {
     "name": "stdout",
     "output_type": "stream",
     "text": [
      "x    9.000000\n",
      "y    7.500909\n",
      "dtype: float64\n",
      "x    9.000000\n",
      "y    7.500909\n",
      "dtype: float64\n",
      "x    9.000000\n",
      "y    7.500091\n",
      "dtype: float64\n",
      "x    9.0\n",
      "y    7.5\n",
      "dtype: float64\n"
     ]
    },
    {
     "data": {
      "text/plain": [
       "Text(0, 0.5, 'Y Units')"
      ]
     },
     "execution_count": 40,
     "metadata": {},
     "output_type": "execute_result"
    },
    {
     "data": {
      "image/png": "[encoded data removed]",
      "text/plain": [
       "<Figure size 432x288 with 1 Axes>"
      ]
     },
     "metadata": {},
     "output_type": "display_data"
    },
    {
     "data": {
      "image/png": "[encoded data removed]",
      "text/plain": [
       "<Figure size 432x288 with 1 Axes>"
      ]
     },
     "metadata": {},
     "output_type": "display_data"
    },
    {
     "data": {
      "image/png": "[encoded data removed]",
      "text/plain": [
       "<Figure size 432x288 with 1 Axes>"
      ]
     },
     "metadata": {},
     "output_type": "display_data"
    },
    {
     "data": {
      "image/png": "[encoded data removed]",
      "text/plain": [
       "<Figure size 432x288 with 1 Axes>"
      ]
     },
     "metadata": {},
     "output_type": "display_data"
    }
   ],
   "source": [
    "f1 = pd.read_csv(file_1, names = [\"x\",\"y\"])\n",
    "f2 = pd.read_csv(file_2, names = [\"x\",\"y\"])\n",
    "f3 = pd.read_csv(file_3, names = [\"x\",\"y\"])\n",
    "f4 = pd.read_csv(file_4, names = [\"x\",\"y\"])\n",
    "\n",
    "f1_mean = f1.mean()\n",
    "f2_mean = f2.mean()\n",
    "f3_mean = f3.mean()\n",
    "f4_mean = f4.mean()\n",
    "print(f1_mean)\n",
    "print(f2_mean)\n",
    "print(f3_mean)\n",
    "print(f4_mean)\n",
    "\n",
    "X_LABEL = \"X Units\"\n",
    "Y_LABEL = \"Y Units\"\n",
    "TITLE = \"File {} Coordinates\"\n",
    "\n",
    "plt.figure()\n",
    "plt.subplot(411)\n",
    "plt.title(TITLE.format(\"1\"))\n",
    "plt.plot(f1[\"x\"],f1[\"y\"], 'bo',f1[\"x\"],f1[\"y\"], \"k\")\n",
    "plt.xlabel(X_LABEL)\n",
    "plt.ylabel(Y_LABEL)\n",
    "\n",
    "plt.figure()\n",
    "plt.subplot(412)\n",
    "plt.title(TITLE.format(\"2\"))\n",
    "plt.plot(f2[\"x\"],f2[\"y\"], 'bo', f2[\"x\"],f2[\"y\"],\"k\")\n",
    "plt.xlabel(X_LABEL)\n",
    "plt.ylabel(Y_LABEL)\n",
    "\n",
    "plt.figure()\n",
    "plt.subplot(413)\n",
    "plt.title(TITLE.format(\"3\"))\n",
    "plt.plot(f3[\"x\"],f3[\"y\"], 'bo',f3[\"x\"],f3[\"y\"],\"k\")\n",
    "plt.xlabel(X_LABEL)\n",
    "plt.ylabel(Y_LABEL)\n",
    "\n",
    "plt.figure()\n",
    "plt.subplot(414)\n",
    "plt.title(TITLE.format(\"4\"))\n",
    "plt.plot(f4[\"x\"],f4[\"y\"], 'bo', f4[\"x\"],f4[\"y\"],\"k\")\n",
    "plt.xlabel(X_LABEL)\n",
    "plt.ylabel(Y_LABEL)\n",
    "\n",
    "\n",
    "\n"
   ]
  },
  {
   "cell_type": "markdown",
   "metadata": {},
   "source": [
    "These files represent sets of $x$ and $y$ coordinates. Your job is to talk about how these datasets are similar and different. To do this, you can use summary statistics, try to fit/plot the data, etc.\n",
    "\n",
    "Then construct a short \"computational essay\" below, where you explain the similarities and differences among the datasets and intersperse text and code."
   ]
  },
  {
   "cell_type": "markdown",
   "metadata": {},
   "source": [
    "### Answer"
   ]
  },
  {
   "cell_type": "markdown",
   "metadata": {},
   "source": [
    "The most important thing to keep in mind when comparing datasets, is to know where the data came from, how it was collected, is it theory or measurements, what intrinsic biases may occur when collecting the data, etc, etc. One should never try to draw conclusions from data without knowing where it came from. Even if one were to do any analysis, it would be worthless. There is no way of knowing what the data means, what is the expected result, if the data measuring how one thing is changing over time, or if each point is independent of time. Is the x coordinate even the dependent variable? These are all very important things that will greatly impact what type of analysis should be done. There is no way of identifying and isolating outliers, no way of knowing if something should be fitted to an equation or what equation to fit it to. There is no way of comparing a random list of numbers in an accurate way if you have no idea what the data even is. "
   ]
  },
  {
   "cell_type": "markdown",
   "metadata": {},
   "source": [
    "If we were to plot the data as a scatter plot, then we end up with some nice trends. However, without more information, there is no way of knowing if the trends are just artifacts, noise, or if they mean something. As a result, we would gain absolutely nothing from trying to fit it to anything. \n"
   ]
  },
  {
   "cell_type": "code",
   "execution_count": 41,
   "metadata": {},
   "outputs": [
    {
     "data": {
      "text/plain": [
       "Text(0, 0.5, 'Y Units')"
      ]
     },
     "execution_count": 41,
     "metadata": {},
     "output_type": "execute_result"
    },
    {
     "data": {
      "image/png": "[encoded data removed]",
      "text/plain": [
       "<Figure size 432x288 with 1 Axes>"
      ]
     },
     "metadata": {},
     "output_type": "display_data"
    },
    {
     "data": {
      "image/png": "[encoded data removed]",
      "text/plain": [
       "<Figure size 432x288 with 1 Axes>"
      ]
     },
     "metadata": {},
     "output_type": "display_data"
    },
    {
     "data": {
      "image/png": "[encoded data removed]",
      "text/plain": [
       "<Figure size 432x288 with 1 Axes>"
      ]
     },
     "metadata": {},
     "output_type": "display_data"
    },
    {
     "data": {
      "image/png": "[encoded data removed]",
      "text/plain": [
       "<Figure size 432x288 with 1 Axes>"
      ]
     },
     "metadata": {},
     "output_type": "display_data"
    }
   ],
   "source": [
    "X_LABEL = \"X Units\"\n",
    "Y_LABEL = \"Y Units\"\n",
    "TITLE = \"File {} Coordinates\"\n",
    "\n",
    "plt.figure()\n",
    "plt.subplot(221)\n",
    "plt.title(TITLE.format(\"1\"))\n",
    "plt.plot(f1[\"x\"],f1[\"y\"], 'bo')#,f1[\"x\"],f1[\"y\"], \"k\")\n",
    "plt.xlabel(X_LABEL)\n",
    "plt.ylabel(Y_LABEL)\n",
    "\n",
    "plt.figure()\n",
    "plt.subplot(222)\n",
    "plt.title(TITLE.format(\"2\"))\n",
    "plt.plot(f2[\"x\"],f2[\"y\"], 'bo')#, f2[\"x\"],f2[\"y\"],\"k\")\n",
    "plt.xlabel(X_LABEL)\n",
    "plt.ylabel(Y_LABEL)\n",
    "\n",
    "plt.figure()\n",
    "plt.subplot(223)\n",
    "plt.title(TITLE.format(\"3\"))\n",
    "plt.plot(f3[\"x\"],f3[\"y\"], 'bo')#,f3[\"x\"],f3[\"y\"],\"k\")\n",
    "plt.xlabel(X_LABEL)\n",
    "plt.ylabel(Y_LABEL)\n",
    "\n",
    "plt.figure()\n",
    "plt.subplot(224)\n",
    "plt.title(TITLE.format(\"4\"))\n",
    "plt.plot(f4[\"x\"],f4[\"y\"], 'bo')#, f4[\"x\"],f4[\"y\"],\"k\")\n",
    "plt.xlabel(X_LABEL)\n",
    "plt.ylabel(Y_LABEL)"
   ]
  },
  {
   "cell_type": "markdown",
   "metadata": {},
   "source": [
    "Then we can plot a line to see how what path the data would take if the index of the coordinates refered to points in time. When we look at the jagged lines, we might be tempted to conclude that the order of the coordinates truly does not matter, that the data is not dependent on time. However, that would be a faulty assumption to make, as, once again, we have no clue what the data is referring to."
   ]
  },
  {
   "cell_type": "code",
   "execution_count": 42,
   "metadata": {},
   "outputs": [
    {
     "data": {
      "text/plain": [
       "Text(0, 0.5, 'Y Units')"
      ]
     },
     "execution_count": 42,
     "metadata": {},
     "output_type": "execute_result"
    },
    {
     "data": {
      "image/png": "[encoded data removed]",
      "text/plain": [
       "<Figure size 432x288 with 1 Axes>"
      ]
     },
     "metadata": {},
     "output_type": "display_data"
    },
    {
     "data": {
      "image/png": "[encoded data removed]",
      "text/plain": [
       "<Figure size 432x288 with 1 Axes>"
      ]
     },
     "metadata": {},
     "output_type": "display_data"
    },
    {
     "data": {
      "image/png": "[encoded data removed]",
      "text/plain": [
       "<Figure size 432x288 with 1 Axes>"
      ]
     },
     "metadata": {},
     "output_type": "display_data"
    },
    {
     "data": {
      "image/png": "[encoded data removed]",
      "text/plain": [
       "<Figure size 432x288 with 1 Axes>"
      ]
     },
     "metadata": {},
     "output_type": "display_data"
    }
   ],
   "source": [
    "plt.figure()\n",
    "plt.subplot(221)\n",
    "plt.title(TITLE.format(\"1\"))\n",
    "plt.plot(f1[\"x\"],f1[\"y\"], 'bo',f1[\"x\"],f1[\"y\"], \"k\")\n",
    "plt.xlabel(X_LABEL)\n",
    "plt.ylabel(Y_LABEL)\n",
    "\n",
    "plt.figure()\n",
    "plt.subplot(222)\n",
    "plt.title(TITLE.format(\"2\"))\n",
    "plt.plot(f2[\"x\"],f2[\"y\"], 'bo', f2[\"x\"],f2[\"y\"],\"k\")\n",
    "plt.xlabel(X_LABEL)\n",
    "plt.ylabel(Y_LABEL)\n",
    "\n",
    "plt.figure()\n",
    "plt.subplot(223)\n",
    "plt.title(TITLE.format(\"3\"))\n",
    "plt.plot(f3[\"x\"],f3[\"y\"], 'bo',f3[\"x\"],f3[\"y\"],\"k\")\n",
    "plt.xlabel(X_LABEL)\n",
    "plt.ylabel(Y_LABEL)\n",
    "\n",
    "plt.figure()\n",
    "plt.subplot(224)\n",
    "plt.title(TITLE.format(\"4\"))\n",
    "plt.plot(f4[\"x\"],f4[\"y\"], 'bo', f4[\"x\"],f4[\"y\"],\"k\")\n",
    "plt.xlabel(X_LABEL)\n",
    "plt.ylabel(Y_LABEL)"
   ]
  },
  {
   "cell_type": "markdown",
   "metadata": {},
   "source": [
    "If we were curious, we could see what the mean and standard deviation for both the x and y coordinates is. However, once again, we have no way of knowing if the results would mean anything. It is completely ridiculous to draw any conclusions for numbers that, for all we know, were randomly chosen."
   ]
  },
  {
   "cell_type": "code",
   "execution_count": 43,
   "metadata": {},
   "outputs": [
    {
     "name": "stdout",
     "output_type": "stream",
     "text": [
      "x    9.000000\n",
      "y    7.500909\n",
      "dtype: float64\n",
      "x    9.000000\n",
      "y    7.500909\n",
      "dtype: float64\n",
      "x    9.000000\n",
      "y    7.500091\n",
      "dtype: float64\n",
      "x    9.0\n",
      "y    7.5\n",
      "dtype: float64\n"
     ]
    }
   ],
   "source": [
    "f1_mean = f1.mean()\n",
    "f2_mean = f2.mean()\n",
    "f3_mean = f3.mean()\n",
    "f4_mean = f4.mean()\n",
    "print(f1_mean)\n",
    "print(f2_mean)\n",
    "print(f3_mean)\n",
    "print(f4_mean)"
   ]
  },
  {
   "cell_type": "markdown",
   "metadata": {},
   "source": [
    "You can see that the mean x is 9, and y is about 7.5, but, as I said earlier, that means nothing without more context."
   ]
  },
  {
   "cell_type": "markdown",
   "metadata": {},
   "source": [
    "The conclusion to be drawn is that it is the height of bad practice to analyze data without knowing anything about what you are analyzing. You are more likely than not to end up drawing false or misleading conclusions."
   ]
  },
  {
   "cell_type": "code",
   "execution_count": null,
   "metadata": {},
   "outputs": [],
   "source": []
  }
 ],
 "metadata": {
  "kernelspec": {
   "display_name": "Python 3",
   "language": "python",
   "name": "python3"
  },
  "language_info": {
   "codemirror_mode": {
    "name": "ipython",
    "version": 3
   },
   "file_extension": ".py",
   "mimetype": "text/x-python",
   "name": "python",
   "nbconvert_exporter": "python",
   "pygments_lexer": "ipython3",
   "version": "3.6.9"
  }
 },
 "nbformat": 4,
 "nbformat_minor": 2
}
