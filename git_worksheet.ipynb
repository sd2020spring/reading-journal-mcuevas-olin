{
 "cells": [
  {
   "cell_type": "markdown",
   "metadata": {},
   "source": [
    "# Git Worksheet\n",
    "\n",
    "## Part 1\n",
    "\n",
    "Start by doing the first 4 levels in the Introduction section of the tutorial here: https://learngitbranching.js.org/?locale=en_US."
   ]
  },
  {
   "cell_type": "markdown",
   "metadata": {},
   "source": [
    "What is the difference between merging and rebasing? When would you do one versus the other?"
   ]
  },
  {
   "cell_type": "markdown",
   "metadata": {},
   "source": []
  },
  {
   "cell_type": "markdown",
   "metadata": {},
   "source": [
    "## Part 2\n",
    "\n",
    "Now, do the next 4 levels in the Ramping Up section of the tutorial here: https://learngitbranching.js.org/?locale=en_US."
   ]
  },
  {
   "cell_type": "markdown",
   "metadata": {},
   "source": [
    "You are working on the master branch when you realize that something you did 2 commits ago is causing a bug that won't allow your code to run properly. You want to make sure whatever is on the master branch is working so that other members of your team can continue their work without issue. Is there a way that your teammates can use the earlier version of your program on master while you continue development without losing any of the work you have done so far? Explain how you can use branches and relative refs to help you here. What commands will you use?"
   ]
  },
  {
   "cell_type": "markdown",
   "metadata": {},
   "source": []
  },
  {
   "cell_type": "markdown",
   "metadata": {},
   "source": [
    "Oops! You just made a change and committed it locally but then realized you had stored your password in one of your files. You want to make sure that is not in your history when you push to Git. What can you do? What would have happened if you had pushed the commit to Git already?"
   ]
  },
  {
   "cell_type": "markdown",
   "metadata": {},
   "source": []
  },
  {
   "cell_type": "markdown",
   "metadata": {},
   "source": [
    "## Part 3\n",
    "\n",
    "Finally, do the next two levels in the Moving Work Around section of the tutorial here: https://learngitbranching.js.org/?locale=en_US. You are encouraged to complete the remainder of the tutorial as well to continue learning about Git, but it will not be required for this Worksheet."
   ]
  },
  {
   "cell_type": "markdown",
   "metadata": {},
   "source": [
    "You and your friends are working on different branches to test out different UI possibilities for your game. You want Amon's commit 3 (C3) where he made the characters red, but you want Steve's commit 7 (C7) where he made the shapes circles instead of squares. Your branch is called mishMash. How can you use cherry-pick to get the changes you want?"
   ]
  },
  {
   "cell_type": "markdown",
   "metadata": {},
   "source": []
  },
  {
   "cell_type": "markdown",
   "metadata": {},
   "source": [
    "## Part 4\n",
    "\n",
    "First, go through the tutorial page on Git merge conflicts here: https://www.atlassian.com/git/tutorials/using-branches/merge-conflicts. Usually, you can just resolve merge conflicts by editing the text, but the Atom text editor can be helpful in resolving merge conflicts by showing you interactive solutions, so that might be a useful tool when you have more complicated merge issues. Merge conflicts are good to avoid, when possible, but with all the git tools you now have to work with, you should not be afraid of them!"
   ]
  },
  {
   "cell_type": "markdown",
   "metadata": {},
   "source": [
    "Vicky and Shreya are working on a softdes project together. Shreya got off to an early start and changed the starter code to say \"My name is Shreya\" instead of \"My name is ...\" Shortly, thereafter, Vicky changed the code to read \"My name is Vicky\" but presumed there would be no conflict because Shreya had finished and pushed her work hours ago. Unfortunately, Vicky forgot to pull before making her change and is now facing a merge conflict. Resolve the merge conflict in the following code:"
   ]
  },
  {
   "cell_type": "code",
   "execution_count": 1,
   "metadata": {},
   "outputs": [
    {
     "ename": "SyntaxError",
     "evalue": "invalid syntax (<ipython-input-1-26261a73d6c1>, line 2)",
     "output_type": "error",
     "traceback": [
      "\u001b[0;36m  File \u001b[0;32m\"<ipython-input-1-26261a73d6c1>\"\u001b[0;36m, line \u001b[0;32m2\u001b[0m\n\u001b[0;31m    <<<<<<< HEAD\u001b[0m\n\u001b[0m     ^\u001b[0m\n\u001b[0;31mSyntaxError\u001b[0m\u001b[0;31m:\u001b[0m invalid syntax\n"
     ]
    }
   ],
   "source": [
    "print(\"Hello world!\")\n",
    "<<<<<<< HEAD\n",
    "print(\"My name is Vicky\")\n",
    "=======\n",
    "print(\"My name is Shreya\")\n",
    ">>>>>>> 3ac0965912198e48a8676b215c63f774d053748e"
   ]
  },
  {
   "cell_type": "markdown",
   "metadata": {},
   "source": [
    "## Part 5\n",
    "\n",
    "Describe a situation that you have either encountered or could imagine encountering, in which Git branches would be useful. How would you make use of them to make your team or individual workflow better?"
   ]
  },
  {
   "cell_type": "markdown",
   "metadata": {},
   "source": []
  }
 ],
 "metadata": {
  "kernelspec": {
   "display_name": "Python 3",
   "language": "python",
   "name": "python3"
  },
  "language_info": {
   "codemirror_mode": {
    "name": "ipython",
    "version": 3
   },
   "file_extension": ".py",
   "mimetype": "text/x-python",
   "name": "python",
   "nbconvert_exporter": "python",
   "pygments_lexer": "ipython3",
   "version": "3.6.9"
  }
 },
 "nbformat": 4,
 "nbformat_minor": 2
}
