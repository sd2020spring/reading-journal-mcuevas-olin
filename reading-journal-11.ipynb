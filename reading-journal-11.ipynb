{
 "cells": [
  {
   "cell_type": "markdown",
   "metadata": {},
   "source": [
    "# Day 11 Reading Journal\n",
    "\n",
    "Reading:\n",
    " - _Ethics of Text Mining_. Please read the highlighted sections from the PDF posted on Canvas. The entire chapter is also [available online](https://www.sciencedirect.com/science/article/pii/B9781843347491000032) (without highlights) \n",
    " - _Think Python_ [Chapter 14.1-14.4](http://www.greenteapress.com/thinkpython2/html/thinkpython2015.html)"
   ]
  },
  {
   "cell_type": "markdown",
   "metadata": {},
   "source": [
    "## If You Find Yourself in a Hole, Stop Digging: Legal and Ethical Issues of Text/Data Mining in Research\n",
    "\n",
    "We'll discuss this reading more in class next time. For now, we'd like you to consider the following questions as you read:\n",
    "\n",
    "Section 3.2.2 discusses the potential conflict between protecting personally identifiable information (PII) and the desire to analyze large data sets using \"Big Data\" techniques. The PII principles and conflicts are summarized in the table below.\n",
    "\n",
    "| Principle | PII protection rationale | Incompatibility with \"Big Data\" analysis |\n",
    "| --------- | ------------------------ | ---------------------------------------- |\n",
    "| Collection Limitation | There should be limits to the collection of PII, it should be obtained by lawfully and fairly and, ideally, with the knowledge/consent of the data subject | The larger the data collection, the better the potential for identifying interesting correlations |\n",
    "| Data Quality | PII should be relevant to the purposes for which it is to be used, and should be accurate, complete and up-to-date enough for those purposes | “Messy data” is fine, it’s not clear what is relevant until its analysed, and even inaccurate or incomplete data can be useful |\n",
    "| Purpose Specification | purposes for which PII are collected should be specified at the time of data collection. Subsequent use should be limited to those purposes or such others compatible with those purposes and specified on each change of purpose. | Data may have been collected for a particular purpose, but analysis may indicate further unrelated and previously unknown, but valuable, purposes. Data as collected may not be obviously PII, but analysis of it may identify individuals |\n",
    "| Use Limitation | PII should not be disclosed, made available or otherwise used for unspecified purposes except with data subject consent or by authority of law. | There may be value in sharing and aggregating data that may not be apparent at the time of collection |\n",
    "| Security Safeguards | PII should be protected by reasonable security safeguards against such risks as loss or unauthorised access, destruction, use, modification or disclosure of data. | It may be unclear what security issues, if any, arise from a particular collection of data or its analysis |\n",
    "| Openness | data subjects should be able to establish the existence and nature of PII, and the main purposes of its use, and the identity and location of the data controller. | Where data is collected and analysed, it may not be obvious that it is PII, and even in circumstances where it is, the researcher may have no way of informing the data subject of its use |\n",
    "| Individual Participation | An individual should be able to be informed by a data controller whether it holds PII relating to him or her; to have the PII communicated to him or her in meaningful form and reasonable time and at reasonable cost; to be informed if the PII will not be communicated and to be able to challenge that denial, where the PII is not lawfully held to have it erased, rectified, completed or amended. | Data that is anonymous may still be utilised in ways that can cause risk/harm to an individual |\n",
    "| Accountability | A data controller should be accountable for complying with measures that give effect to the other principles | How and when might a researcher to be held accountable and for what? |\n",
    "\n",
    "\n",
    "### Exercise\n",
    "\n",
    "Choose a potential data source to analyze. You can draw from your potential MP3 project ideas or construct a hypothetical example.\n",
    "Select two of the principles above and discuss how specifically you would go about resolving the tension between protecting PII and performing desired analysis for this example data. \n"
   ]
  },
  {
   "cell_type": "markdown",
   "metadata": {},
   "source": [
    "Currently, the data I am gathering is from Edgar Allen Poe's works. As a result, I end up side stepping a lot of the potential issues that could have potentially been an issue. Poe's works are freely available to the public, have no copyright, and does not involve the collection of personal information."
   ]
  },
  {
   "cell_type": "markdown",
   "metadata": {},
   "source": [
    "### Exercise\n",
    "\n",
    "Consider the \"failure modes\" of data analysis presented in Section 3.2.3.2 (overfitting, selection bias, cherry-picking, and confirmation bias).\n",
    "\n",
    "Select one of them and:\n",
    " - define it in your own words\n",
    " - describe how it might arise in the context of your MP3 project idea \n",
    " - explain what you can do to guard against it"
   ]
  },
  {
   "cell_type": "markdown",
   "metadata": {},
   "source": [
    "overfitting is when the model is trained too closely to the training set of data, to the point where it is no longer a viable or useful method for evaluating any other data set.\n",
    "If I choose specific words to not analyize that are only found in poe's works, and not other works, then I could potentially run into this problem.\n",
    "I could choose words to not include from a list of the most common words in the English language, or simply just analyze all of the words.\n",
    "\n",
    "selection bias is when your data does not truly represent the entire population, or does so in an uneven manner, such as favoring one opinion or circumstance over another.\n",
    "It will show up in my project idea, as I am onky taking the stories from a single volume of a book that has all of poe's works. As this volume contains the most famous short stories, the selection is biased. I also included the Raven, which is not a short story, but rather a poem.\n",
    "However, it does include a wide range of his famous short stories, which is what I purposely wanted to analyze, as well as his most famous poem. I wanted to see what would make people classify Poe's works as so good, and by choosing a rather large selection of his most famous works, I actually get closer to what I was aiming towards in the first place."
   ]
  },
  {
   "cell_type": "markdown",
   "metadata": {},
   "source": [
    "## [Chapter 14.1-14.4](http://www.greenteapress.com/thinkpython2/html/thinkpython2015.html)\n",
    "\n",
    "Note: You've already seen the string formatting information in Chapter 14.3. The website [pyformat.info](https://pyformat.info/) is a great quick reference with many examples. \n",
    "\n",
    "\n",
    "### Exercise\n",
    "\n",
    "The [os module](https://docs.python.org/3/library/os.html) provides a function called [walk](https://docs.python.org/3/library/os.html#os.walk) that is similar to the `walk` function written in Chapter 14.4 but more versatile. \n",
    "\n",
    "Read the documentation for `os.walk` and use it write a function that takes a directory and prints the names of the files in that directory and its subdirectories. After trying on your own you can reference [Allen's solution](http://thinkpython2.com/code/walk.py)."
   ]
  },
  {
   "cell_type": "code",
   "execution_count": 1,
   "metadata": {},
   "outputs": [],
   "source": [
    "def print_files(directory):\n",
    "    \"\"\"Print the names of files in given 'directory' and its subdirectories\"\"\"\n",
    "    for name in os.listdir(dirname):\n",
    "        path = os.path.join(dirname, name)\n",
    "        if os.path.isfile(path):\n",
    "            print(path)\n",
    "        else:\n",
    "            print_files(path)"
   ]
  },
  {
   "cell_type": "code",
   "execution_count": null,
   "metadata": {},
   "outputs": [],
   "source": []
  },
  {
   "cell_type": "code",
   "execution_count": null,
   "metadata": {},
   "outputs": [],
   "source": []
  },
  {
   "cell_type": "markdown",
   "metadata": {
    "is_question": true,
    "problem": "Exercise 15.1"
   },
   "source": [
    "### Exercise\n",
    "\n",
    "Write a function called `sed` that takes as arguments a pattern string, a replacement string, and two filenames.\n",
    "It should read the first file and write the contents into the second file (creating it if necessary). If the pattern string appears anywhere in the first file, it should be replaced with the replacement string when written into the second file.\n",
    "\n",
    "_Note_: Be careful as you write and test this function not to overwrite files you care about!\n",
    "\n",
    "After trying on your own you can reference [Allen's solution](http://thinkpython2.com/code/sed.py). You do not need to handle Exceptions at this point."
   ]
  },
  {
   "cell_type": "code",
   "execution_count": null,
   "metadata": {
    "solution": "Exercise 15.1"
   },
   "outputs": [],
   "source": [
    "def sed(pattern, replacement, src_fn, dest_fn):\n",
    "    source = open(src_fn, 'r')\n",
    "    dest = open(dest_fn, 'w')\n",
    "\n",
    "    for line in source:\n",
    "        line = line.replace(pattern, replacement)\n",
    "        fout.write(line)\n",
    "\n",
    "    fin.close()\n",
    "    fout.close()"
   ]
  }
 ],
 "metadata": {
  "kernelspec": {
   "display_name": "Python 3",
   "language": "python",
   "name": "python3"
  },
  "language_info": {
   "codemirror_mode": {
    "name": "ipython",
    "version": 3
   },
   "file_extension": ".py",
   "mimetype": "text/x-python",
   "name": "python",
   "nbconvert_exporter": "python",
   "pygments_lexer": "ipython3",
   "version": "3.6.9"
  }
 },
 "nbformat": 4,
 "nbformat_minor": 1
}
