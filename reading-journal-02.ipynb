{
 "cells": [
  {
   "cell_type": "code",
   "execution_count": 1,
   "metadata": {},
   "outputs": [],
   "source": [
    "import math"
   ]
  },
  {
   "cell_type": "markdown",
   "metadata": {},
   "source": [
    "# Day 2 Reading Journal\n",
    "\n",
    "This journal includes several exercises that we require you to try. The exercises are meant to encourage active reading more generally.  You may use the journal to take detailed notes, catalog questions, and explore the content from *Think Python* deeply.\n",
    "\n",
    "Reading: Think Python [Chapter 6.1-6.4](http://greenteapress.com/thinkpython2/html/thinkpython2007.html), [Chapter 7](http://greenteapress.com/thinkpython2/html/thinkpython2008.html)"
   ]
  },
  {
   "cell_type": "markdown",
   "metadata": {},
   "source": [
    "#### Return values - \"return immediately from this function and use the following expression as a return value\"\n",
    "code appearing after return statement or any other place flow of execution cannot reach = dead code\n",
    "\n",
    "can have multiple return values such as within branches of a  conditional\n",
    "\n",
    "temporary variables in a function can make debugging easier\n",
    "\n",
    "#### Incremental development- avoid long debugging sessions by adding and testing only small amounts of code at a time\n",
    "Main steps:\n",
    "    start w/ working program and make small incremental changes\n",
    "    use variables to hold intermediate values so you can display and check them\n",
    "    once program is running, remove some of the scaffolding or consolidate multiple statements into compound expressions, as long as it does not make the program difficult to read.\n",
    "    \n",
    "\n",
    "scaffolding - code that is useful for building program (such as print statements) but is not part of the final product\n",
    "\n",
    "\n"
   ]
  },
  {
   "cell_type": "markdown",
   "metadata": {},
   "source": [
    "## [Chapter 6.1-6.4](http://greenteapress.com/thinkpython2/html/thinkpython2007.html)\n",
    "\n",
    "Note: the exercise numbers below match up with the reading for ease of cross referencing."
   ]
  },
  {
   "cell_type": "markdown",
   "metadata": {},
   "source": [
    "### Section 6.1 \n",
    "1\\. **Exercise 6.1.** Write a `compare` function that returns `1` if `x > y`, `0` if `x == y`, and `-1` if `x < y`."
   ]
  },
  {
   "cell_type": "code",
   "execution_count": 2,
   "metadata": {},
   "outputs": [],
   "source": [
    "def compare (x,y):\n",
    "    if x>y:\n",
    "        return 1\n",
    "    elif x==y:\n",
    "        return 0\n",
    "    else:\n",
    "        return -1"
   ]
  },
  {
   "cell_type": "markdown",
   "metadata": {},
   "source": [
    "2\\. **Quick check:** Modify the `absolute_value` function so that it returns the correct result for all integer inputs."
   ]
  },
  {
   "cell_type": "code",
   "execution_count": 3,
   "metadata": {},
   "outputs": [],
   "source": [
    "def absolute_value(x):\n",
    "    if x < 0:\n",
    "        return -x\n",
    "    else:\n",
    "        return x"
   ]
  },
  {
   "cell_type": "markdown",
   "metadata": {},
   "source": [
    "3\\. Modify the following implementation of `is_triangle` to *return* `\"Yes\"` and `\"No\"` instead of *printing* them."
   ]
  },
  {
   "cell_type": "code",
   "execution_count": 4,
   "metadata": {},
   "outputs": [],
   "source": [
    "def is_triangle(a, b, c):\n",
    "    if a > b + c:\n",
    "        return \"No\"\n",
    "    elif b > a + c:\n",
    "        return \"No\"\n",
    "    elif c > a + b:\n",
    "        return \"No\"\n",
    "    else:\n",
    "        return \"Yes\""
   ]
  },
  {
   "cell_type": "markdown",
   "metadata": {},
   "source": [
    "### Section 6.2 \n",
    "Use incremental development to write a function called `hypotenuse` that returns the length of the hypotenuse of a right triangle given the lengths of the two legs as arguments.\n",
    "\n",
    "Record each stage of the development process as you go, using as many cells as you need. Insert a cell via the + icon in the toolbox above, the “Insert > Insert Cell Below” menu item, or the escape+`b` keyboard shortcut."
   ]
  },
  {
   "cell_type": "code",
   "execution_count": 5,
   "metadata": {},
   "outputs": [
    {
     "name": "stdout",
     "output_type": "stream",
     "text": [
      "x squared =  1\n",
      "y squared = 4\n",
      "x_s_plus_y_s =  5\n"
     ]
    }
   ],
   "source": [
    "x = 1;\n",
    "y = 2;\n",
    "x_square = x**2;\n",
    "y_square = y**2;\n",
    "print('x squared = ', x_square)\n",
    "print('y squared =', y_square)\n",
    "x_s_plus_y_s = x_square+y_square;\n",
    "print('x_s_plus_y_s = ',x_s_plus_y_s);\n"
   ]
  },
  {
   "cell_type": "code",
   "execution_count": 6,
   "metadata": {},
   "outputs": [
    {
     "name": "stdout",
     "output_type": "stream",
     "text": [
      "x squared =  1\n",
      "y squared = 4\n",
      "x_s_plus_y_s =  5\n",
      "hypotenuse = 2.23606797749979\n"
     ]
    }
   ],
   "source": [
    "x = 1;\n",
    "y = 2;\n",
    "x_square = x**2;\n",
    "y_square = y**2;\n",
    "print('x squared = ', x_square)\n",
    "print('y squared =', y_square)\n",
    "x_s_plus_y_s = x_square+y_square;\n",
    "print('x_s_plus_y_s = ',x_s_plus_y_s);\n",
    "hypotenuse = (x_s_plus_y_s)**(.5)\n",
    "print('hypotenuse =', hypotenuse)"
   ]
  },
  {
   "cell_type": "code",
   "execution_count": 7,
   "metadata": {},
   "outputs": [
    {
     "name": "stdout",
     "output_type": "stream",
     "text": [
      "x squared =  1\n",
      "y squared = 4\n",
      "x_s_plus_y_s =  5\n",
      "hypotenuse = 2.23606797749979\n",
      "hypotenuse shortened = 2.23606797749979\n"
     ]
    }
   ],
   "source": [
    "x = 1;\n",
    "y = 2;\n",
    "x_square = x**2;\n",
    "y_square = y**2;\n",
    "print('x squared = ', x_square)\n",
    "print('y squared =', y_square)\n",
    "x_s_plus_y_s = x_square+y_square;\n",
    "print('x_s_plus_y_s = ',x_s_plus_y_s);\n",
    "hypotenuse = (x_s_plus_y_s)**(.5)\n",
    "print('hypotenuse =', hypotenuse)\n",
    "hypotenuse_shorter = (x**2 + y**2)**(.5)\n",
    "print('hypotenuse shortened =', hypotenuse_shorter)"
   ]
  },
  {
   "cell_type": "code",
   "execution_count": 8,
   "metadata": {},
   "outputs": [
    {
     "name": "stdout",
     "output_type": "stream",
     "text": [
      "2.23606797749979\n"
     ]
    }
   ],
   "source": [
    "def hypotenuse(x,y):\n",
    "    return (x**2 + y**2)**(.5)\n",
    "print(hypotenuse(1,2))"
   ]
  },
  {
   "cell_type": "markdown",
   "metadata": {},
   "source": [
    "temporary variables are useful for development/debugging, but once program is working, make it more concise"
   ]
  },
  {
   "cell_type": "markdown",
   "metadata": {},
   "source": [
    "#### Boolean functions (functions that return booleans) are useful for hiding complicated tests inside functions such as conditional statements"
   ]
  },
  {
   "cell_type": "markdown",
   "metadata": {},
   "source": [
    "### Section 6.4\n",
    "1\\. Write a function `is_between(x, y, z)` that returns `True` if `x ≤ y ≤ z` or `False` otherwise."
   ]
  },
  {
   "cell_type": "code",
   "execution_count": 9,
   "metadata": {},
   "outputs": [
    {
     "name": "stdout",
     "output_type": "stream",
     "text": [
      "should be true True\n",
      "should be false False\n"
     ]
    }
   ],
   "source": [
    "def is_between(x,y,z):\n",
    "    if x <= y and y <= z:\n",
    "        return True\n",
    "    else:\n",
    "        return False\n",
    "test_true = is_between(1, 2, 3)\n",
    "print('should be true', test_true)\n",
    "\n",
    "test_false = is_between(1, -2, 3)\n",
    "print('should be false', test_false)\n"
   ]
  },
  {
   "cell_type": "markdown",
   "metadata": {},
   "source": [
    "2\\. Copy your modified implementation of `is_triangle` from section 6.1 above to the cell below. Modify it to return the boolean values `True` and `False` instead of the string values `\"Yes\"` and `\"No\"`."
   ]
  },
  {
   "cell_type": "code",
   "execution_count": 10,
   "metadata": {},
   "outputs": [],
   "source": [
    "def is_triangle(a, b, c):\n",
    "    if a > b + c:\n",
    "        return False\n",
    "    elif b > a + c:\n",
    "        return False\n",
    "    elif c > a + b:\n",
    "        return False\n",
    "    else:\n",
    "        return True"
   ]
  },
  {
   "cell_type": "markdown",
   "metadata": {},
   "source": [
    "#### more recursion\n",
    "if you can write recursive definition of something, you can write a python program to eval it.\n",
    "1st step is to decide parameters\n",
    "and as it runs the return values are being passed up the stack until the last frame where some local var. do not exist, b/c branch that creates them does not run.\n",
    "\n",
    "fibonacci sequence is another type of recursion\n",
    "\n",
    "#### leap of faith - instead of following the flow of execution when reading code, you just assume that the function does what it is supposed to do.\n",
    "\n",
    "#### Checking types - certain functions can only work with certain data types - use isinstance(n, data_type) to check\n",
    "\n",
    "guardians - prevent code from following values that could cause an error (often times using a conditional statement)\n",
    "\n",
    "#### Debugging tips \n",
    "\n",
    "check if preconditions are being violated with print statements at beginning of functions ( display values &/or types of the params)\n",
    "\n",
    "then if thats good add print statement before each return statement and display return values - check by hand, call w/ easy to check values)\n",
    "\n",
    "if function seems good,  look at function call to make sure return value is being used correctly ( or at all)\n",
    "\n",
    "\n"
   ]
  },
  {
   "cell_type": "markdown",
   "metadata": {},
   "source": [
    "## [Chapter 7](http://greenteapress.com/thinkpython2/html/thinkpython2008.html)\n",
    "\n"
   ]
  },
  {
   "cell_type": "markdown",
   "metadata": {},
   "source": [
    "**Quick check:** How do you test for equality in Python?\n",
    "you test with =="
   ]
  },
  {
   "cell_type": "markdown",
   "metadata": {},
   "source": [
    "#### reassignment - new assignment makes existing variable refer to a new value (and stop refering to the old value)\n",
    "\n",
    "a  = b\n",
    "\n",
    "does not connect the values so that a always equals b. just makes a equal to whatever the value of b was at that time.\n",
    "\n",
    "#### Updating variables\n",
    "\n",
    "update - type of reassingment where new value of variable depends on value of the old variable\n",
    "\n",
    "ex y = y*2\n",
    "\n",
    "before you are able to update a variable, have to initialize it\n",
    "\n",
    "ex\n",
    "x = 0\n",
    "x = x+1\n",
    "increment: updating variable by adding 1\n",
    "decrement: updating variable by subtracting 1\n",
    "\n",
    "#### While Statement\n",
    "\n",
    "iteration : a repetition\n",
    "\n",
    "flow of while statement\n",
    "    determine if condition is true or false\n",
    "    if false exit while statement, continue on with code\n",
    "    if true run body and go back to step 1\n",
    "Called a loop - cuz 3rd statement loops back around to top \n",
    "\n",
    "body should change value of one or more variables so condition becomes false eventually and loop terminates.\n",
    "\n",
    "otherwise becomes infinite loop - loop that repeats forever and never ends\n",
    "\n",
    "#### Use  break to jump out of the loop\n",
    "ex if maybe want something that takes input from user until they are done\n",
    "\n",
    "#### use loops to start with approx. answer and iteratively improving it\n",
    " stop when abs val of difference between values is less than whatever tolerance you have\n",
    " \n",
    "#### Algorithms -mechanical process for solving a category of problems - such as square roots!\n",
    "each easy step follows from the last according to a simple set of rules\n",
    "\n",
    "#### Debugging By bisection\n",
    "ex: look at middle of program for value to check- if issue, prob is in first half, then rinse and repeat."
   ]
  },
  {
   "cell_type": "markdown",
   "metadata": {},
   "source": [
    "### Section 7.3\n",
    "Write a function called `doubles` that takes `a` as a parameter, prints its value, doubles it and prints that, and continues until the next value would be greater than one million. (It should stop before printing any value greater than one million.)"
   ]
  },
  {
   "cell_type": "code",
   "execution_count": 11,
   "metadata": {},
   "outputs": [
    {
     "name": "stdout",
     "output_type": "stream",
     "text": [
      "a =  2\n",
      "a =  4\n",
      "a =  8\n",
      "a =  16\n",
      "a =  32\n",
      "a =  64\n",
      "a =  128\n",
      "a =  256\n",
      "a =  512\n",
      "a =  1024\n",
      "a =  2048\n",
      "a =  4096\n",
      "a =  8192\n",
      "a =  16384\n",
      "a =  32768\n",
      "a =  65536\n",
      "a =  131072\n",
      "a =  262144\n",
      "a =  524288\n"
     ]
    }
   ],
   "source": [
    "def doubles (a):\n",
    "    while a<1000000:\n",
    "        print('a = ',a)\n",
    "        a = a*2\n",
    "doubles(2)"
   ]
  },
  {
   "cell_type": "markdown",
   "metadata": {},
   "source": [
    "### Section 7.5\n",
    "Encapsulate the loop from Section 7.5 in a function called `square_root` that takes `a` as a parameter, chooses a reasonable value of `x`, and returns an estimate of the square root of `a`."
   ]
  },
  {
   "cell_type": "code",
   "execution_count": 12,
   "metadata": {},
   "outputs": [
    {
     "name": "stdout",
     "output_type": "stream",
     "text": [
      "5.0\n"
     ]
    }
   ],
   "source": [
    "def square_root(a):\n",
    "    x = a/4\n",
    "    y = (x + a/x)/2\n",
    "    epsilion = 0.0000001\n",
    "    while abs(y-x) > epsilion:\n",
    "        x = y\n",
    "        y = (x + a/x)/2\n",
    "    return y\n",
    "print(square_root(25))"
   ]
  },
  {
   "cell_type": "markdown",
   "metadata": {},
   "source": [
    "## Time check\n",
    "Think about how long you spent working on this Reading Journal - remember to avoid spending too much time in one sitting?"
   ]
  },
  {
   "cell_type": "markdown",
   "metadata": {},
   "source": [
    "about 1 hour 5 min"
   ]
  },
  {
   "cell_type": "markdown",
   "metadata": {},
   "source": [
    "## Getting unstuck\n",
    "\n",
    "If you have Python questions or run into problems while completing the reading, you should post them to the course discussion forum instead so you can get a quick response before your journal is submitted."
   ]
  },
  {
   "cell_type": "markdown",
   "metadata": {},
   "source": []
  },
  {
   "cell_type": "markdown",
   "metadata": {},
   "source": [
    " "
   ]
  },
  {
   "cell_type": "code",
   "execution_count": null,
   "metadata": {},
   "outputs": [],
   "source": []
  }
 ],
 "metadata": {
  "anaconda-cloud": {},
  "kernel_info": {
   "name": "python3"
  },
  "kernelspec": {
   "display_name": "Python 3",
   "language": "python",
   "name": "python3"
  },
  "language_info": {
   "codemirror_mode": {
    "name": "ipython",
    "version": 3
   },
   "file_extension": ".py",
   "mimetype": "text/x-python",
   "name": "python",
   "nbconvert_exporter": "python",
   "pygments_lexer": "ipython3",
   "version": "3.6.9"
  }
 },
 "nbformat": 4,
 "nbformat_minor": 1
}
