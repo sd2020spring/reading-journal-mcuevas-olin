{
 "cells": [
  {
   "cell_type": "markdown",
   "metadata": {},
   "source": [
    "# Assertions and Unit Testing Worksheet"
   ]
  },
  {
   "cell_type": "markdown",
   "metadata": {},
   "source": [
    "This worksheet is designed to help you learn about unit testing and its usefulness in efficiently writing correct code."
   ]
  },
  {
   "cell_type": "markdown",
   "metadata": {},
   "source": [
    "## Assertions"
   ]
  },
  {
   "cell_type": "markdown",
   "metadata": {},
   "source": [
    "Assertions are a feature of several major programming languages that cause an error if a condition is not met. In Python, assertions are written using the `assert` keyword followed by an expression.\n",
    "\n",
    "Learning about `assert` statements and how they can be used in different contexts will help you write quick tests for correctness in your code and integrate these types of tests into larger, structured testing frameworks."
   ]
  },
  {
   "cell_type": "markdown",
   "metadata": {},
   "source": [
    "### Learning Assertions"
   ]
  },
  {
   "cell_type": "markdown",
   "metadata": {},
   "source": [
    "Read [Section 16.5 (Debugging)](http://greenteapress.com/thinkpython2/html/thinkpython2017.html#sec192) of Think Python. This reading is relatively short, but provides a helpful starting point for thinking about `assert` statements and their role in checking code correctness."
   ]
  },
  {
   "cell_type": "markdown",
   "metadata": {},
   "source": [
    "### Exercise: Assertive Statements"
   ]
  },
  {
   "cell_type": "markdown",
   "metadata": {},
   "source": [
    "For each of the statements below, write whether you think they will succeed or fail, and why.\n",
    "\n",
    "* `assert True`: (your answer here)\n",
    "* `assert 1`: (your answer here)\n",
    "* `assert 0`: (your answer here)\n",
    "* `assert -1`: (your answer here)\n",
    "* `assert 1 - 1`: (your answer here)\n",
    "* `assert \"\"`: (your answer here)\n",
    "* `assert [None]`: (your answer here)\n",
    "* `assert {}`: (your answer here)\n",
    "* `assert lambda x: None`: (your answer here)\n",
    "* `assert ValueError`: (your answer here)"
   ]
  },
  {
   "cell_type": "markdown",
   "metadata": {},
   "source": [
    "Now run each of the statements. If they do not produce the result you guessed above, try to work out why and write your guess."
   ]
  },
  {
   "cell_type": "code",
   "execution_count": null,
   "metadata": {},
   "outputs": [],
   "source": [
    "assert True"
   ]
  },
  {
   "cell_type": "markdown",
   "metadata": {},
   "source": [
    "(your answer here, if applicable)"
   ]
  },
  {
   "cell_type": "code",
   "execution_count": null,
   "metadata": {},
   "outputs": [],
   "source": [
    "assert 1"
   ]
  },
  {
   "cell_type": "markdown",
   "metadata": {},
   "source": [
    "(your answer here, if applicable)"
   ]
  },
  {
   "cell_type": "code",
   "execution_count": null,
   "metadata": {},
   "outputs": [],
   "source": [
    "assert 0"
   ]
  },
  {
   "cell_type": "markdown",
   "metadata": {},
   "source": [
    "(your answer here, if applicable)"
   ]
  },
  {
   "cell_type": "code",
   "execution_count": null,
   "metadata": {},
   "outputs": [],
   "source": [
    "assert -1"
   ]
  },
  {
   "cell_type": "markdown",
   "metadata": {},
   "source": [
    "(your answer here, if applicable)"
   ]
  },
  {
   "cell_type": "code",
   "execution_count": null,
   "metadata": {},
   "outputs": [],
   "source": [
    "assert 1 - 1"
   ]
  },
  {
   "cell_type": "markdown",
   "metadata": {},
   "source": [
    "(your answer here, if applicable)"
   ]
  },
  {
   "cell_type": "code",
   "execution_count": null,
   "metadata": {},
   "outputs": [],
   "source": [
    "assert \"\""
   ]
  },
  {
   "cell_type": "markdown",
   "metadata": {},
   "source": [
    "(your answer here, if applicable)"
   ]
  },
  {
   "cell_type": "code",
   "execution_count": null,
   "metadata": {},
   "outputs": [],
   "source": [
    "assert [None]"
   ]
  },
  {
   "cell_type": "markdown",
   "metadata": {},
   "source": [
    "(your answer here, if applicable)"
   ]
  },
  {
   "cell_type": "code",
   "execution_count": null,
   "metadata": {},
   "outputs": [],
   "source": [
    "assert {}"
   ]
  },
  {
   "cell_type": "markdown",
   "metadata": {},
   "source": [
    "(your answer here, if applicable)"
   ]
  },
  {
   "cell_type": "code",
   "execution_count": null,
   "metadata": {},
   "outputs": [],
   "source": [
    "assert lambda x: None"
   ]
  },
  {
   "cell_type": "markdown",
   "metadata": {},
   "source": [
    "(your answer here, if applicable)"
   ]
  },
  {
   "cell_type": "code",
   "execution_count": null,
   "metadata": {},
   "outputs": [],
   "source": [
    "assert ValueError"
   ]
  },
  {
   "cell_type": "markdown",
   "metadata": {},
   "source": [
    "(your answer here, if applicable)"
   ]
  },
  {
   "cell_type": "markdown",
   "metadata": {},
   "source": [
    "### How to Use Assertions"
   ]
  },
  {
   "cell_type": "markdown",
   "metadata": {},
   "source": [
    "The above reading mentions that assertions are use to check *invariants*, things that should always be true. It's worth spending some time thinking about what exactly this means so we can know when it makes sense to use an `assert` statement.\n",
    "\n",
    "One situation in which it doesn't make sense to use an `assert` statement is when something else will cause an error anyway. For example, consider the following function:"
   ]
  },
  {
   "cell_type": "code",
   "execution_count": null,
   "metadata": {},
   "outputs": [],
   "source": [
    "def modulo(x, n):\n",
    "    while x > n:\n",
    "        x -= n\n",
    "    return x"
   ]
  },
  {
   "cell_type": "markdown",
   "metadata": {},
   "source": [
    "If we tried to call `modulo([42], 8)` instead, we would get an error. Specifically, the expression `[42] > 8` doesn't make sense because the values of a `list` and an `int` can't be compared. So even though we could add a line like `assert isinstance(x, int) and isinstance(n, int)`, it wouldn't make a lot of sense because the function isn't going to successfully return a value. (If you noticed some other mistakes in the above function, don't worry -  we're going to revisit it.)"
   ]
  },
  {
   "cell_type": "markdown",
   "metadata": {},
   "source": [
    "While it can be helpful while *writing* code, it's usually not a good idea to put obvious assertions into the final draft of code. One reason for this is that it can clutter the code and make it harder to read. The other is that an `assert` failure will cause an `AssertionError`, which if not caught by `except` will immediately end the program. In fact, an assertion failure led to a rather strange [macOS bug](http://openradar.appspot.com/13128709) in which typing `File:///` into nearly any application would instantly crash it for reasons described in the top comments [here](https://news.ycombinator.com/item?id=5154648)."
   ]
  },
  {
   "cell_type": "markdown",
   "metadata": {},
   "source": [
    "In general, it's best to use `assert` statements when (1) the error would otherwise go unnoticed, and (2) the problem is so severe that the program probably cannot continue running. Some libraries and frameworks also make use of `assert` statements, and we will see how the specific unit testing framework we use in this worksheet uses `assert` statements as a core part of its tests."
   ]
  },
  {
   "cell_type": "markdown",
   "metadata": {},
   "source": [
    "### Exercise: Modular Assert"
   ]
  },
  {
   "cell_type": "markdown",
   "metadata": {},
   "source": [
    "Add a suitable `assert` statement in the `modulo` function above (code reproduced below) if you think one is necessary. Below, write your reasoning for why you added the `assert` statement you did, or if you didn't add one, why you think an `assert` statement is unnecessary."
   ]
  },
  {
   "cell_type": "code",
   "execution_count": null,
   "metadata": {},
   "outputs": [],
   "source": [
    "def modulo(x, n):\n",
    "    while x > n:\n",
    "        x -= n\n",
    "    return x"
   ]
  },
  {
   "cell_type": "markdown",
   "metadata": {},
   "source": [
    "(your reasoning goes here)"
   ]
  },
  {
   "cell_type": "markdown",
   "metadata": {},
   "source": [
    "## pytest"
   ]
  },
  {
   "cell_type": "markdown",
   "metadata": {},
   "source": [
    "[pytest](https://docs.pytest.org/en/latest/index.html) is a unit testing framework that uses assertions as its primary way of checking that code is functioning correctly. It is simple to get started with yet featureful, making it a popular framework among Python users of all levels.\n",
    "\n",
    "Learning pytest will help you quickly write unit tests for small and large projects alike."
   ]
  },
  {
   "cell_type": "markdown",
   "metadata": {},
   "source": [
    "### Installation"
   ]
  },
  {
   "cell_type": "markdown",
   "metadata": {},
   "source": [
    "Start by installing pytest if you don't have it already. You can check whether you have pytest installed by running\n",
    "\n",
    "```bash\n",
    "$ pytest --version\n",
    "```\n",
    "\n",
    "from a terminal. If you don't see a message starting with `This is pytest version...`, then you do not have pytest installed.\n",
    "\n",
    "The method of installing pytest depends on what your Python setup looks like. If you use the standard distribution of Anaconda, pytest is likely already installed. If not, install pytest with `conda install pytest`.\n",
    "\n",
    "If you are on Ubuntu and don't use Anaconda, it's usually best to use the version of pytest from the Ubuntu repositories. Specifically, install the `python3-pytest` package using `apt`.\n",
    "\n",
    "In general, if you are running Linux, you are encouraged to install the version of pytest from your distribution's repository. Otherwise, you should install pytest with `pip3 install -U pytest`.\n",
    "\n",
    "You can install pytest for all users of your machine using `sudo pip3 install pytest`, but be aware that this may lead to strange package dependency errors in some situations."
   ]
  },
  {
   "cell_type": "markdown",
   "metadata": {},
   "source": [
    "### Exercise: pytest Installation Check"
   ]
  },
  {
   "cell_type": "markdown",
   "metadata": {},
   "source": [
    "Run `pytest --version` on your terminal and paste the output below."
   ]
  },
  {
   "cell_type": "markdown",
   "metadata": {},
   "source": [
    "```\n",
    "(your answer goes here; DO NOT delete the backticks (`) above or below this line)\n",
    "```"
   ]
  },
  {
   "cell_type": "markdown",
   "metadata": {},
   "source": [
    "### Writing Tests"
   ]
  },
  {
   "cell_type": "markdown",
   "metadata": {},
   "source": [
    "To get started with writing tests in pytest, read the following sections in the [Getting Started](https://docs.pytest.org/en/latest/getting-started.html#create-your-first-test) page of the pytest documentation:\n",
    "\n",
    "* Create your first test\n",
    "* Group multiple tests in a class"
   ]
  },
  {
   "cell_type": "markdown",
   "metadata": {},
   "source": [
    "### Exercise: pytest Examples"
   ]
  },
  {
   "cell_type": "markdown",
   "metadata": {},
   "source": [
    "Work through the examples in the sections of the reading listed above. If you run your tests exactly as written, you will get a test failure message as specified in the guide. However, the output will look slightly different from what the guide has. Paste the two results below."
   ]
  },
  {
   "cell_type": "markdown",
   "metadata": {},
   "source": [
    "Results for `test_sample.py`:"
   ]
  },
  {
   "cell_type": "markdown",
   "metadata": {},
   "source": [
    "```\n",
    "(your answer goes here; DO NOT delete the backticks (`) above or below this line)\n",
    "```"
   ]
  },
  {
   "cell_type": "markdown",
   "metadata": {},
   "source": [
    "Results for `test_class.py`:"
   ]
  },
  {
   "cell_type": "markdown",
   "metadata": {},
   "source": [
    "```\n",
    "(your answer goes here; DO NOT delete the backticks (`) above or below this line)\n",
    "```"
   ]
  },
  {
   "cell_type": "markdown",
   "metadata": {},
   "source": [
    "The output if all tests are successful should look similar regardless of which file you run. Fix all errors in one of the files and paste the output below."
   ]
  },
  {
   "cell_type": "markdown",
   "metadata": {},
   "source": [
    "```\n",
    "(your answer goes here; DO NOT delete the backticks (`) above or below this line)\n",
    "```"
   ]
  },
  {
   "cell_type": "markdown",
   "metadata": {},
   "source": [
    "## Test-Driven Development"
   ]
  },
  {
   "cell_type": "markdown",
   "metadata": {},
   "source": [
    "Test-driven development encompasses several loosely related topics, including how to use unit tests as you write your code, how to structure your tests among other code and how to think about what a single unit test should check for.\n",
    "\n",
    "Learning good test-driven development principles will help you efficiently test the design of your code while making it easy for you and others to see and reason about your tests."
   ]
  },
  {
   "cell_type": "markdown",
   "metadata": {},
   "source": [
    "### Testing Code Structure"
   ]
  },
  {
   "cell_type": "markdown",
   "metadata": {},
   "source": [
    "Start by reading the [test discovery and layout](https://docs.pytest.org/en/latest/goodpractices.html#test-discovery) page in the pytest documentation, specifically the \"Conventions for Python test discovery\" and \"Choosing a test layout/import rules\" sections.\n",
    "\n",
    "As the reading states, it's usually a good idea to separate your application code from your testing code. Spend some time thinking about how you might restructure your previous mini-projects according to this format. There isn't an exercise for this section, but this new structure will be part of the final exercise."
   ]
  },
  {
   "cell_type": "markdown",
   "metadata": {},
   "source": [
    "### Preconditions and Postconditions"
   ]
  },
  {
   "cell_type": "markdown",
   "metadata": {},
   "source": [
    "When you write functions, it's helpful to think about the specific *preconditions* and *postconditions* of the functions. In a nutshell, the preconditions of a functions are the things that it assumes to be true of its input, and the postconditions are things that the function guarantees will be true if the preconditions of the functions are satisfied. For example, in the `modulo` function above, the preconditions might be that `x` and `n` are both integers and that `n` is positive. (If the preconditions aren't satisfied, it's up to you what to do - return an error, try to return some \"default\" value, or do something else.)\n",
    "\n",
    "The postconditions of the `modulo` function are a little tricky to state. A common answer is \"the remainder you get when you divide `x` by `n`\", but that's not quite correct from a mathematical perspective. Dividing -5 by 2 gives you -2...remainder -1. In fact, Python has a `math.remainder` function that does just this:"
   ]
  },
  {
   "cell_type": "code",
   "execution_count": 2,
   "metadata": {},
   "outputs": [
    {
     "data": {
      "text/plain": [
       "-1.0"
      ]
     },
     "execution_count": 2,
     "metadata": {},
     "output_type": "execute_result"
    }
   ],
   "source": [
    "import math\n",
    "math.remainder(-5, 2)"
   ]
  },
  {
   "cell_type": "markdown",
   "metadata": {},
   "source": [
    "But the real modulo function (using the operator `%`) doesn't do this:"
   ]
  },
  {
   "cell_type": "code",
   "execution_count": 3,
   "metadata": {},
   "outputs": [
    {
     "data": {
      "text/plain": [
       "1"
      ]
     },
     "execution_count": 3,
     "metadata": {},
     "output_type": "execute_result"
    }
   ],
   "source": [
    "-5 % 2"
   ]
  },
  {
   "cell_type": "markdown",
   "metadata": {},
   "source": [
    "A more precise way of describing `x % n` is a number `k` where `0 <= k < n` and `(k - x) / n` is an integer. (If you want to be nitpicky, this is correct in math but only *probably almost always* true in Python, because integer rounding in computing can sometimes be unintuitive.)"
   ]
  },
  {
   "cell_type": "markdown",
   "metadata": {},
   "source": [
    "### Exercise: Sorting Out Before and After"
   ]
  },
  {
   "cell_type": "markdown",
   "metadata": {},
   "source": [
    "Take a look at the [documentation](https://docs.python.org/3/library/functions.html#sorted) for the built-in `sorted` function in Python (or just try it yourself with a few lists). Then write a set of preconditions and postconditions for the function, assuming that you are passing a list to the function (and no other arguments)."
   ]
  },
  {
   "cell_type": "markdown",
   "metadata": {},
   "source": [
    "(your answer goes here)"
   ]
  },
  {
   "cell_type": "markdown",
   "metadata": {},
   "source": [
    "Now think about the preconditions and postconditions for [`list.sort`](https://docs.python.org/3/library/stdtypes.html#list.sort) (again, trying the function out yourself if that helps). What difference is there in the preconditions and postconditions, if any?"
   ]
  },
  {
   "cell_type": "markdown",
   "metadata": {},
   "source": [
    "(your answer goes here)"
   ]
  },
  {
   "cell_type": "markdown",
   "metadata": {},
   "source": [
    "### Write the Test First"
   ]
  },
  {
   "cell_type": "markdown",
   "metadata": {},
   "source": [
    "A technique that is often used in test-driven development has you write the test *before* writing the function. So if you were implementing the `modulo` function above, you could write something like this:"
   ]
  },
  {
   "cell_type": "code",
   "execution_count": 5,
   "metadata": {},
   "outputs": [],
   "source": [
    "def modulo(x, n):\n",
    "    return 0\n",
    "\n",
    "def test_modulo():\n",
    "    assert modulo(0, 1) == 0\n",
    "    assert modulo(42, 9) == 6\n",
    "    assert modulo(-5, 2) == 1\n",
    "    assert modulo(2, 2) == 0"
   ]
  },
  {
   "cell_type": "markdown",
   "metadata": {},
   "source": [
    "Of course, when you run these tests, they will fail because the code hasn't been written yet. Assuming you've written good test cases, you can then fill in the body of the `modulo` function to make the tests pass.\n",
    "\n",
    "This method of writing tests first can be helpful because the tests (hopefully based on the preconditions and postconditions you thought about earlier) form a `specification` (or `spec`) for your code, that is, a set of expected behaviors that model what the code is supposed to do in different situations. Writing tests first can also help you avoid biasing your tests to fit the code you've already written."
   ]
  },
  {
   "cell_type": "markdown",
   "metadata": {},
   "source": [
    "### Exercise: Testing Sort"
   ]
  },
  {
   "cell_type": "markdown",
   "metadata": {},
   "source": [
    "Translate the preconditions and postconditions you wrote above for `sorted`"
   ]
  },
  {
   "cell_type": "markdown",
   "metadata": {},
   "source": [
    "## Exercise: Mini-Project Testing"
   ]
  },
  {
   "cell_type": "markdown",
   "metadata": {},
   "source": [
    "For your last exercise, edit a previous project to add pytest-style unit tests. In particular, you should convert all existing doctest cases into well-named unit tests in the appropriate directories, and **create additional test cases for your code**.\n",
    "\n",
    "In creating your additional test cases, you should think carefully through the preconditions and postconditions of your functions.\n",
    "\n",
    "Once you've done this, link to your project and write a paragraph or two that describes the changes you made and how these changes help improve your code. The improvements to your code can be catching mistakes that you were not aware of before, being more precise about what your function does or does not do, or other things that you make a good case for."
   ]
  },
  {
   "cell_type": "markdown",
   "metadata": {},
   "source": [
    "Link: (fill this in)"
   ]
  },
  {
   "cell_type": "markdown",
   "metadata": {},
   "source": [
    "### Summary of Changes"
   ]
  },
  {
   "cell_type": "markdown",
   "metadata": {},
   "source": [
    "(your paragraphs go here)"
   ]
  },
  {
   "cell_type": "markdown",
   "metadata": {},
   "source": [
    "## Survey"
   ]
  },
  {
   "cell_type": "markdown",
   "metadata": {},
   "source": [
    "We'd really appreciate your feedback to help us improve future worksheets. Please consider answering the questions below."
   ]
  },
  {
   "cell_type": "markdown",
   "metadata": {},
   "source": [
    "1. How many hours did you spend on this worksheet?"
   ]
  },
  {
   "cell_type": "markdown",
   "metadata": {},
   "source": [
    "(your answer goes here)"
   ]
  },
  {
   "cell_type": "markdown",
   "metadata": {},
   "source": [
    "2. What parts of this worksheet were most helpful to your learning?"
   ]
  },
  {
   "cell_type": "markdown",
   "metadata": {},
   "source": [
    "(your answer goes here)"
   ]
  },
  {
   "cell_type": "markdown",
   "metadata": {},
   "source": [
    "3. What changes could we make to this worksheet that would make it more helpful for your learning?"
   ]
  },
  {
   "cell_type": "markdown",
   "metadata": {},
   "source": [
    "(your answer goes here)"
   ]
  }
 ],
 "metadata": {
  "kernelspec": {
   "display_name": "Python 3",
   "language": "python",
   "name": "python3"
  },
  "language_info": {
   "codemirror_mode": {
    "name": "ipython",
    "version": 3
   },
   "file_extension": ".py",
   "mimetype": "text/x-python",
   "name": "python",
   "nbconvert_exporter": "python",
   "pygments_lexer": "ipython3",
   "version": "3.8.2"
  }
 },
 "nbformat": 4,
 "nbformat_minor": 2
}
